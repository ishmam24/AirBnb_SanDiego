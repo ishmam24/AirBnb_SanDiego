{
  "nbformat": 4,
  "nbformat_minor": 0,
  "metadata": {
    "colab": {
      "provenance": [],
      "collapsed_sections": [
        "Aiv82RGO8LXh",
        "tuUneCJm01ZT",
        "ptkeyY8unIEM",
        "2riyv6Bvpsiq",
        "UZEbCK8duRK2"
      ],
      "include_colab_link": true
    },
    "kernelspec": {
      "name": "python3",
      "display_name": "Python 3"
    },
    "language_info": {
      "name": "python"
    }
  },
  "cells": [
    {
      "cell_type": "markdown",
      "metadata": {
        "id": "view-in-github",
        "colab_type": "text"
      },
      "source": [
        "<a href=\"https://colab.research.google.com/github/ishmam24/AirBnb_SanDiego/blob/main/05_Airbnb_preprocessing_pipelines.ipynb\" target=\"_parent\"><img src=\"https://colab.research.google.com/assets/colab-badge.svg\" alt=\"Open In Colab\"/></a>"
      ]
    },
    {
      "cell_type": "code",
      "source": [
        "# from google.colab import drive\n",
        "# drive.mount('/content/drive')\n",
        "\n",
        "## We dont need to get the data from gdrive. We can directly download from the source. (Saves us the hassle of mounting gdrive)"
      ],
      "metadata": {
        "id": "ZfW5puePrJKH"
      },
      "execution_count": null,
      "outputs": []
    },
    {
      "cell_type": "code",
      "execution_count": null,
      "metadata": {
        "id": "VDyNVkfqoy62"
      },
      "outputs": [],
      "source": [
        "import math\n",
        "import functools\n",
        "import operator\n",
        "import pandas as pd\n",
        "import numpy as np\n",
        "import matplotlib.pyplot as plt\n",
        "import seaborn as sns\n",
        "from scipy import stats\n",
        "from scipy.stats.mstats import winsorize\n",
        "\n",
        "from sklearn.model_selection import train_test_split\n",
        "from sklearn.preprocessing import MinMaxScaler, OneHotEncoder\n",
        "from sklearn.impute import KNNImputer\n"
      ]
    },
    {
      "cell_type": "markdown",
      "source": [
        "## Get the Data"
      ],
      "metadata": {
        "id": "QuOhXYUnrFvn"
      }
    },
    {
      "cell_type": "code",
      "source": [
        "# filepath = '/content/drive/MyDrive/Colab_Notebooks/ML_Project/rawdata.csv'\n",
        "file_url = 'https://query.data.world/s/g5ykrkenwn4xjrmo3urgh6lnna6sb7?dws=00000'\n",
        "\n",
        "dataset = pd.read_csv(file_url)\n",
        "dataset.head()"
      ],
      "metadata": {
        "colab": {
          "base_uri": "https://localhost:8080/",
          "height": 706
        },
        "id": "kpt-fj81rHLx",
        "outputId": "88d56593-a18f-4896-a6be-d9dbefd7b455"
      },
      "execution_count": null,
      "outputs": [
        {
          "output_type": "execute_result",
          "data": {
            "text/plain": [
              "         id                            listing_url  \\\n",
              "0  33159143  https://www.airbnb.com/rooms/33159143   \n",
              "1  17138468  https://www.airbnb.com/rooms/17138468   \n",
              "2  21898446  https://www.airbnb.com/rooms/21898446   \n",
              "3  25948680  https://www.airbnb.com/rooms/25948680   \n",
              "4   1756516   https://www.airbnb.com/rooms/1756516   \n",
              "\n",
              "                                               name  \\\n",
              "0  PRIVATE ROOM, SAFE NEIGHBORHOOD IN SCRIPPS RANCH   \n",
              "1                                     NOT AVAILABLE   \n",
              "2                         Townhome in Pacific Beach   \n",
              "3    Spacious furnished 1 BR with tons of amenaties   \n",
              "4                         A Spacious luxury retreat   \n",
              "\n",
              "                                             summary  \\\n",
              "0  80% of the house + yourCozy room ... in Scripp...   \n",
              "1  AVAILABLE ONLY IN WINTER PRIME La Jolla Villag...   \n",
              "2  Hi! We are basically renting this master for a...   \n",
              "3  All my stuff will be gone. Dishwasher, washer/...   \n",
              "4  NIcely furnished. Great location, 2 blocks to ...   \n",
              "\n",
              "                                               space  \\\n",
              "0                          Full bed, private bath...   \n",
              "1                                                NaN   \n",
              "2                                                NaN   \n",
              "3  Lobby provides free coffee. Building doors loc...   \n",
              "4                                                NaN   \n",
              "\n",
              "                                         description  \\\n",
              "0  80% of the house + yourCozy room ... in Scripp...   \n",
              "1  AVAILABLE ONLY IN WINTER PRIME La Jolla Villag...   \n",
              "2  Hi! We are basically renting this master for a...   \n",
              "3  All my stuff will be gone. Dishwasher, washer/...   \n",
              "4  NIcely furnished. Great location, 2 blocks to ...   \n",
              "\n",
              "                               neighborhood_overview  \\\n",
              "0  The neighborhood is a typical Southern Califor...   \n",
              "1                                                NaN   \n",
              "2                                                NaN   \n",
              "3                                       College area   \n",
              "4             coastal town great travel destination.   \n",
              "\n",
              "                                               notes  \\\n",
              "0  Have alarm system if you choose to use... I wi...   \n",
              "1                                                NaN   \n",
              "2                                                NaN   \n",
              "3                                                NaN   \n",
              "4                                                NaN   \n",
              "\n",
              "                                             transit  \\\n",
              "0  You can park in the drive way or plenty of spa...   \n",
              "1                                                NaN   \n",
              "2                                                NaN   \n",
              "3  Across the street from the green line trolly. ...   \n",
              "4                                  Bus line near by.   \n",
              "\n",
              "                                              access  ...  \\\n",
              "0  Kitchen, Dining room, Living room, Very Comfor...  ...   \n",
              "1                                                NaN  ...   \n",
              "2                                                NaN  ...   \n",
              "3  Everything except second bedroom in apartment....  ...   \n",
              "4                                                NaN  ...   \n",
              "\n",
              "  review_scores_checkin review_scores_communication  review_scores_location  \\\n",
              "0                   NaN                         NaN                     NaN   \n",
              "1                  10.0                        10.0                    10.0   \n",
              "2                   NaN                         NaN                     NaN   \n",
              "3                   NaN                         NaN                     NaN   \n",
              "4                   8.0                         8.0                     9.0   \n",
              "\n",
              "   review_scores_value requires_license instant_bookable  \\\n",
              "0                  NaN                f                t   \n",
              "1                 10.0                f                t   \n",
              "2                  NaN                f                t   \n",
              "3                  NaN                f                f   \n",
              "4                 10.0                f                f   \n",
              "\n",
              "  is_business_travel_ready          cancellation_policy  \\\n",
              "0                        f  strict_14_with_grace_period   \n",
              "1                        f  strict_14_with_grace_period   \n",
              "2                        f                     flexible   \n",
              "3                        f                     flexible   \n",
              "4                        f  strict_14_with_grace_period   \n",
              "\n",
              "  require_guest_profile_picture require_guest_phone_verification  \n",
              "0                             f                                f  \n",
              "1                             f                                f  \n",
              "2                             f                                f  \n",
              "3                             f                                f  \n",
              "4                             f                                f  \n",
              "\n",
              "[5 rows x 75 columns]"
            ],
            "text/html": [
              "\n",
              "  <div id=\"df-f23c8062-f40b-49ca-8eb2-67f84202a956\" class=\"colab-df-container\">\n",
              "    <div>\n",
              "<style scoped>\n",
              "    .dataframe tbody tr th:only-of-type {\n",
              "        vertical-align: middle;\n",
              "    }\n",
              "\n",
              "    .dataframe tbody tr th {\n",
              "        vertical-align: top;\n",
              "    }\n",
              "\n",
              "    .dataframe thead th {\n",
              "        text-align: right;\n",
              "    }\n",
              "</style>\n",
              "<table border=\"1\" class=\"dataframe\">\n",
              "  <thead>\n",
              "    <tr style=\"text-align: right;\">\n",
              "      <th></th>\n",
              "      <th>id</th>\n",
              "      <th>listing_url</th>\n",
              "      <th>name</th>\n",
              "      <th>summary</th>\n",
              "      <th>space</th>\n",
              "      <th>description</th>\n",
              "      <th>neighborhood_overview</th>\n",
              "      <th>notes</th>\n",
              "      <th>transit</th>\n",
              "      <th>access</th>\n",
              "      <th>...</th>\n",
              "      <th>review_scores_checkin</th>\n",
              "      <th>review_scores_communication</th>\n",
              "      <th>review_scores_location</th>\n",
              "      <th>review_scores_value</th>\n",
              "      <th>requires_license</th>\n",
              "      <th>instant_bookable</th>\n",
              "      <th>is_business_travel_ready</th>\n",
              "      <th>cancellation_policy</th>\n",
              "      <th>require_guest_profile_picture</th>\n",
              "      <th>require_guest_phone_verification</th>\n",
              "    </tr>\n",
              "  </thead>\n",
              "  <tbody>\n",
              "    <tr>\n",
              "      <th>0</th>\n",
              "      <td>33159143</td>\n",
              "      <td>https://www.airbnb.com/rooms/33159143</td>\n",
              "      <td>PRIVATE ROOM, SAFE NEIGHBORHOOD IN SCRIPPS RANCH</td>\n",
              "      <td>80% of the house + yourCozy room ... in Scripp...</td>\n",
              "      <td>Full bed, private bath...</td>\n",
              "      <td>80% of the house + yourCozy room ... in Scripp...</td>\n",
              "      <td>The neighborhood is a typical Southern Califor...</td>\n",
              "      <td>Have alarm system if you choose to use... I wi...</td>\n",
              "      <td>You can park in the drive way or plenty of spa...</td>\n",
              "      <td>Kitchen, Dining room, Living room, Very Comfor...</td>\n",
              "      <td>...</td>\n",
              "      <td>NaN</td>\n",
              "      <td>NaN</td>\n",
              "      <td>NaN</td>\n",
              "      <td>NaN</td>\n",
              "      <td>f</td>\n",
              "      <td>t</td>\n",
              "      <td>f</td>\n",
              "      <td>strict_14_with_grace_period</td>\n",
              "      <td>f</td>\n",
              "      <td>f</td>\n",
              "    </tr>\n",
              "    <tr>\n",
              "      <th>1</th>\n",
              "      <td>17138468</td>\n",
              "      <td>https://www.airbnb.com/rooms/17138468</td>\n",
              "      <td>NOT AVAILABLE</td>\n",
              "      <td>AVAILABLE ONLY IN WINTER PRIME La Jolla Villag...</td>\n",
              "      <td>NaN</td>\n",
              "      <td>AVAILABLE ONLY IN WINTER PRIME La Jolla Villag...</td>\n",
              "      <td>NaN</td>\n",
              "      <td>NaN</td>\n",
              "      <td>NaN</td>\n",
              "      <td>NaN</td>\n",
              "      <td>...</td>\n",
              "      <td>10.0</td>\n",
              "      <td>10.0</td>\n",
              "      <td>10.0</td>\n",
              "      <td>10.0</td>\n",
              "      <td>f</td>\n",
              "      <td>t</td>\n",
              "      <td>f</td>\n",
              "      <td>strict_14_with_grace_period</td>\n",
              "      <td>f</td>\n",
              "      <td>f</td>\n",
              "    </tr>\n",
              "    <tr>\n",
              "      <th>2</th>\n",
              "      <td>21898446</td>\n",
              "      <td>https://www.airbnb.com/rooms/21898446</td>\n",
              "      <td>Townhome in Pacific Beach</td>\n",
              "      <td>Hi! We are basically renting this master for a...</td>\n",
              "      <td>NaN</td>\n",
              "      <td>Hi! We are basically renting this master for a...</td>\n",
              "      <td>NaN</td>\n",
              "      <td>NaN</td>\n",
              "      <td>NaN</td>\n",
              "      <td>NaN</td>\n",
              "      <td>...</td>\n",
              "      <td>NaN</td>\n",
              "      <td>NaN</td>\n",
              "      <td>NaN</td>\n",
              "      <td>NaN</td>\n",
              "      <td>f</td>\n",
              "      <td>t</td>\n",
              "      <td>f</td>\n",
              "      <td>flexible</td>\n",
              "      <td>f</td>\n",
              "      <td>f</td>\n",
              "    </tr>\n",
              "    <tr>\n",
              "      <th>3</th>\n",
              "      <td>25948680</td>\n",
              "      <td>https://www.airbnb.com/rooms/25948680</td>\n",
              "      <td>Spacious furnished 1 BR with tons of amenaties</td>\n",
              "      <td>All my stuff will be gone. Dishwasher, washer/...</td>\n",
              "      <td>Lobby provides free coffee. Building doors loc...</td>\n",
              "      <td>All my stuff will be gone. Dishwasher, washer/...</td>\n",
              "      <td>College area</td>\n",
              "      <td>NaN</td>\n",
              "      <td>Across the street from the green line trolly. ...</td>\n",
              "      <td>Everything except second bedroom in apartment....</td>\n",
              "      <td>...</td>\n",
              "      <td>NaN</td>\n",
              "      <td>NaN</td>\n",
              "      <td>NaN</td>\n",
              "      <td>NaN</td>\n",
              "      <td>f</td>\n",
              "      <td>f</td>\n",
              "      <td>f</td>\n",
              "      <td>flexible</td>\n",
              "      <td>f</td>\n",
              "      <td>f</td>\n",
              "    </tr>\n",
              "    <tr>\n",
              "      <th>4</th>\n",
              "      <td>1756516</td>\n",
              "      <td>https://www.airbnb.com/rooms/1756516</td>\n",
              "      <td>A Spacious luxury retreat</td>\n",
              "      <td>NIcely furnished. Great location, 2 blocks to ...</td>\n",
              "      <td>NaN</td>\n",
              "      <td>NIcely furnished. Great location, 2 blocks to ...</td>\n",
              "      <td>coastal town great travel destination.</td>\n",
              "      <td>NaN</td>\n",
              "      <td>Bus line near by.</td>\n",
              "      <td>NaN</td>\n",
              "      <td>...</td>\n",
              "      <td>8.0</td>\n",
              "      <td>8.0</td>\n",
              "      <td>9.0</td>\n",
              "      <td>10.0</td>\n",
              "      <td>f</td>\n",
              "      <td>f</td>\n",
              "      <td>f</td>\n",
              "      <td>strict_14_with_grace_period</td>\n",
              "      <td>f</td>\n",
              "      <td>f</td>\n",
              "    </tr>\n",
              "  </tbody>\n",
              "</table>\n",
              "<p>5 rows × 75 columns</p>\n",
              "</div>\n",
              "    <div class=\"colab-df-buttons\">\n",
              "\n",
              "  <div class=\"colab-df-container\">\n",
              "    <button class=\"colab-df-convert\" onclick=\"convertToInteractive('df-f23c8062-f40b-49ca-8eb2-67f84202a956')\"\n",
              "            title=\"Convert this dataframe to an interactive table.\"\n",
              "            style=\"display:none;\">\n",
              "\n",
              "  <svg xmlns=\"http://www.w3.org/2000/svg\" height=\"24px\" viewBox=\"0 -960 960 960\">\n",
              "    <path d=\"M120-120v-720h720v720H120Zm60-500h600v-160H180v160Zm220 220h160v-160H400v160Zm0 220h160v-160H400v160ZM180-400h160v-160H180v160Zm440 0h160v-160H620v160ZM180-180h160v-160H180v160Zm440 0h160v-160H620v160Z\"/>\n",
              "  </svg>\n",
              "    </button>\n",
              "\n",
              "  <style>\n",
              "    .colab-df-container {\n",
              "      display:flex;\n",
              "      gap: 12px;\n",
              "    }\n",
              "\n",
              "    .colab-df-convert {\n",
              "      background-color: #E8F0FE;\n",
              "      border: none;\n",
              "      border-radius: 50%;\n",
              "      cursor: pointer;\n",
              "      display: none;\n",
              "      fill: #1967D2;\n",
              "      height: 32px;\n",
              "      padding: 0 0 0 0;\n",
              "      width: 32px;\n",
              "    }\n",
              "\n",
              "    .colab-df-convert:hover {\n",
              "      background-color: #E2EBFA;\n",
              "      box-shadow: 0px 1px 2px rgba(60, 64, 67, 0.3), 0px 1px 3px 1px rgba(60, 64, 67, 0.15);\n",
              "      fill: #174EA6;\n",
              "    }\n",
              "\n",
              "    .colab-df-buttons div {\n",
              "      margin-bottom: 4px;\n",
              "    }\n",
              "\n",
              "    [theme=dark] .colab-df-convert {\n",
              "      background-color: #3B4455;\n",
              "      fill: #D2E3FC;\n",
              "    }\n",
              "\n",
              "    [theme=dark] .colab-df-convert:hover {\n",
              "      background-color: #434B5C;\n",
              "      box-shadow: 0px 1px 3px 1px rgba(0, 0, 0, 0.15);\n",
              "      filter: drop-shadow(0px 1px 2px rgba(0, 0, 0, 0.3));\n",
              "      fill: #FFFFFF;\n",
              "    }\n",
              "  </style>\n",
              "\n",
              "    <script>\n",
              "      const buttonEl =\n",
              "        document.querySelector('#df-f23c8062-f40b-49ca-8eb2-67f84202a956 button.colab-df-convert');\n",
              "      buttonEl.style.display =\n",
              "        google.colab.kernel.accessAllowed ? 'block' : 'none';\n",
              "\n",
              "      async function convertToInteractive(key) {\n",
              "        const element = document.querySelector('#df-f23c8062-f40b-49ca-8eb2-67f84202a956');\n",
              "        const dataTable =\n",
              "          await google.colab.kernel.invokeFunction('convertToInteractive',\n",
              "                                                    [key], {});\n",
              "        if (!dataTable) return;\n",
              "\n",
              "        const docLinkHtml = 'Like what you see? Visit the ' +\n",
              "          '<a target=\"_blank\" href=https://colab.research.google.com/notebooks/data_table.ipynb>data table notebook</a>'\n",
              "          + ' to learn more about interactive tables.';\n",
              "        element.innerHTML = '';\n",
              "        dataTable['output_type'] = 'display_data';\n",
              "        await google.colab.output.renderOutput(dataTable, element);\n",
              "        const docLink = document.createElement('div');\n",
              "        docLink.innerHTML = docLinkHtml;\n",
              "        element.appendChild(docLink);\n",
              "      }\n",
              "    </script>\n",
              "  </div>\n",
              "\n",
              "\n",
              "<div id=\"df-5b53d6f2-2574-4ab2-b9aa-8a8ec1b1828a\">\n",
              "  <button class=\"colab-df-quickchart\" onclick=\"quickchart('df-5b53d6f2-2574-4ab2-b9aa-8a8ec1b1828a')\"\n",
              "            title=\"Suggest charts\"\n",
              "            style=\"display:none;\">\n",
              "\n",
              "<svg xmlns=\"http://www.w3.org/2000/svg\" height=\"24px\"viewBox=\"0 0 24 24\"\n",
              "     width=\"24px\">\n",
              "    <g>\n",
              "        <path d=\"M19 3H5c-1.1 0-2 .9-2 2v14c0 1.1.9 2 2 2h14c1.1 0 2-.9 2-2V5c0-1.1-.9-2-2-2zM9 17H7v-7h2v7zm4 0h-2V7h2v10zm4 0h-2v-4h2v4z\"/>\n",
              "    </g>\n",
              "</svg>\n",
              "  </button>\n",
              "\n",
              "<style>\n",
              "  .colab-df-quickchart {\n",
              "      --bg-color: #E8F0FE;\n",
              "      --fill-color: #1967D2;\n",
              "      --hover-bg-color: #E2EBFA;\n",
              "      --hover-fill-color: #174EA6;\n",
              "      --disabled-fill-color: #AAA;\n",
              "      --disabled-bg-color: #DDD;\n",
              "  }\n",
              "\n",
              "  [theme=dark] .colab-df-quickchart {\n",
              "      --bg-color: #3B4455;\n",
              "      --fill-color: #D2E3FC;\n",
              "      --hover-bg-color: #434B5C;\n",
              "      --hover-fill-color: #FFFFFF;\n",
              "      --disabled-bg-color: #3B4455;\n",
              "      --disabled-fill-color: #666;\n",
              "  }\n",
              "\n",
              "  .colab-df-quickchart {\n",
              "    background-color: var(--bg-color);\n",
              "    border: none;\n",
              "    border-radius: 50%;\n",
              "    cursor: pointer;\n",
              "    display: none;\n",
              "    fill: var(--fill-color);\n",
              "    height: 32px;\n",
              "    padding: 0;\n",
              "    width: 32px;\n",
              "  }\n",
              "\n",
              "  .colab-df-quickchart:hover {\n",
              "    background-color: var(--hover-bg-color);\n",
              "    box-shadow: 0 1px 2px rgba(60, 64, 67, 0.3), 0 1px 3px 1px rgba(60, 64, 67, 0.15);\n",
              "    fill: var(--button-hover-fill-color);\n",
              "  }\n",
              "\n",
              "  .colab-df-quickchart-complete:disabled,\n",
              "  .colab-df-quickchart-complete:disabled:hover {\n",
              "    background-color: var(--disabled-bg-color);\n",
              "    fill: var(--disabled-fill-color);\n",
              "    box-shadow: none;\n",
              "  }\n",
              "\n",
              "  .colab-df-spinner {\n",
              "    border: 2px solid var(--fill-color);\n",
              "    border-color: transparent;\n",
              "    border-bottom-color: var(--fill-color);\n",
              "    animation:\n",
              "      spin 1s steps(1) infinite;\n",
              "  }\n",
              "\n",
              "  @keyframes spin {\n",
              "    0% {\n",
              "      border-color: transparent;\n",
              "      border-bottom-color: var(--fill-color);\n",
              "      border-left-color: var(--fill-color);\n",
              "    }\n",
              "    20% {\n",
              "      border-color: transparent;\n",
              "      border-left-color: var(--fill-color);\n",
              "      border-top-color: var(--fill-color);\n",
              "    }\n",
              "    30% {\n",
              "      border-color: transparent;\n",
              "      border-left-color: var(--fill-color);\n",
              "      border-top-color: var(--fill-color);\n",
              "      border-right-color: var(--fill-color);\n",
              "    }\n",
              "    40% {\n",
              "      border-color: transparent;\n",
              "      border-right-color: var(--fill-color);\n",
              "      border-top-color: var(--fill-color);\n",
              "    }\n",
              "    60% {\n",
              "      border-color: transparent;\n",
              "      border-right-color: var(--fill-color);\n",
              "    }\n",
              "    80% {\n",
              "      border-color: transparent;\n",
              "      border-right-color: var(--fill-color);\n",
              "      border-bottom-color: var(--fill-color);\n",
              "    }\n",
              "    90% {\n",
              "      border-color: transparent;\n",
              "      border-bottom-color: var(--fill-color);\n",
              "    }\n",
              "  }\n",
              "</style>\n",
              "\n",
              "  <script>\n",
              "    async function quickchart(key) {\n",
              "      const quickchartButtonEl =\n",
              "        document.querySelector('#' + key + ' button');\n",
              "      quickchartButtonEl.disabled = true;  // To prevent multiple clicks.\n",
              "      quickchartButtonEl.classList.add('colab-df-spinner');\n",
              "      try {\n",
              "        const charts = await google.colab.kernel.invokeFunction(\n",
              "            'suggestCharts', [key], {});\n",
              "      } catch (error) {\n",
              "        console.error('Error during call to suggestCharts:', error);\n",
              "      }\n",
              "      quickchartButtonEl.classList.remove('colab-df-spinner');\n",
              "      quickchartButtonEl.classList.add('colab-df-quickchart-complete');\n",
              "    }\n",
              "    (() => {\n",
              "      let quickchartButtonEl =\n",
              "        document.querySelector('#df-5b53d6f2-2574-4ab2-b9aa-8a8ec1b1828a button');\n",
              "      quickchartButtonEl.style.display =\n",
              "        google.colab.kernel.accessAllowed ? 'block' : 'none';\n",
              "    })();\n",
              "  </script>\n",
              "</div>\n",
              "\n",
              "    </div>\n",
              "  </div>\n"
            ],
            "application/vnd.google.colaboratory.intrinsic+json": {
              "type": "dataframe",
              "variable_name": "dataset"
            }
          },
          "metadata": {},
          "execution_count": 3
        }
      ]
    },
    {
      "cell_type": "markdown",
      "source": [
        "## Data Cleaning Functions\n",
        "- functions that drop some rows or columns in the data\n",
        "- All the preprocessing steps will be added to preprocessing pipeline"
      ],
      "metadata": {
        "id": "lIkGAY2lrMGz"
      }
    },
    {
      "cell_type": "code",
      "source": [
        "# Function to remove unneccessary columns\n",
        "def get_unnecessary_columns(keep_col = []):\n",
        "\n",
        "  \"\"\"This is as defined by Erick.\n",
        "  Additions by Aman wherever commented with name\"\"\"\n",
        "  drop_cols_list= [ \"id\"\n",
        "      , \"listing_url\"\n",
        "      , \"host_url\"\n",
        "      , \"name\"\n",
        "      , \"summary\"\n",
        "      , \"space\"\n",
        "      , \"description\"\n",
        "      , \"neighborhood_overview\"\n",
        "      , \"notes\"\n",
        "      , \"transit\"\n",
        "      , \"access\"\n",
        "      , \"interaction\"\n",
        "      , \"thumbnail_url\"\n",
        "      , \"host_name\"\n",
        "      , \"host_about\"\n",
        "      , \"host_id\"\n",
        "      , \"host_location\"\n",
        "      , \"host_neighbourhood\"\n",
        "      , \"host_since\"\n",
        "      , \"street\"\n",
        "      , \"neighbourhood\"\n",
        "      , \"neighbourhood_cleansed\"\n",
        "      , \"city\"\n",
        "      , \"state\"\n",
        "      , \"smart_location\"\n",
        "      , \"country_code\"\n",
        "      , \"country\"\n",
        "      , \"first_review\"\n",
        "      , \"last_review\"\n",
        "      , \"host_listings_count\"\n",
        "      , \"host_total_listings_count\"\n",
        "      , \"minimum_nights\"\n",
        "      , \"maximum_nights\"\n",
        "      , \"house_rules\"\n",
        "      , \"market\"\n",
        "      , \"host_acceptance_rate\" # All values are NaNs\n",
        "      , \"square_feet\" # Entries with NaN in square_feet 0.9871274231859628\n",
        "      , \"is_business_travel_ready\" # Only 1 unique value (Aman)\n",
        "      , \"requires_license\"# Only 1 unique value (Aman)\n",
        "      , \"zipcode\"\n",
        "      , \"amenities\"\n",
        "      #, \"price_per_stay\" #as discussed (keeing nightly_price col only). If commented, means used for data cleaning. Will be dropped after that\n",
        "  ]\n",
        "  return [col for col in drop_cols_list if col not in keep_col]\n"
      ],
      "metadata": {
        "id": "qQfRDn85rOfn"
      },
      "execution_count": null,
      "outputs": []
    },
    {
      "cell_type": "code",
      "source": [
        "\n",
        "\n",
        "def convert_price_str_to_decimal(price):\n",
        "  \"\"\" To convert prices in string to float\"\"\"\n",
        "  if isinstance(price, str):\n",
        "    try:\n",
        "      price = price.replace(\"$\", \"\")\n",
        "      price = price.replace(\",\", \"\")\n",
        "      price = price.strip()\n",
        "      #price = price.replace(\".\", \"\")\n",
        "      return float(price)\n",
        "    except:\n",
        "      return -1 # To represent NaNs?\n",
        "  else:\n",
        "    return float(price)\n",
        "\n",
        "def clean_host_response_rate(rate):\n",
        "  \"\"\"Function to convert host_response_rate col from string to numerical\"\"\"\n",
        "  if isinstance(rate, str):\n",
        "    rate = rate.replace(\"%\", \"\").strip()\n",
        "    return int(rate)\n",
        "  return rate\n",
        "def get_numerial_cols_list(data, ignore=True):\n",
        "  \"\"\" Function to get numerical columns in the data as a list\"\"\"\n",
        "\n",
        "  cols_to_ignore = ['latitude', 'longitude', 'review_scores_rating',\n",
        " 'review_scores_accuracy',\n",
        " 'review_scores_cleanliness',\n",
        " 'review_scores_checkin',\n",
        " 'review_scores_communication',\n",
        " 'review_scores_location',\n",
        " 'review_scores_value']\n",
        "\n",
        "  numerical_cols = data.select_dtypes(include=[np.number]).columns.tolist()\n",
        "  if ignore:\n",
        "    for col in cols_to_ignore:\n",
        "        if col in numerical_cols:\n",
        "            numerical_cols.remove(col)\n",
        "  return numerical_cols\n",
        "\n",
        "def get_numerical_data(data):\n",
        "  \"\"\"Function to get Numerical Data for plotting purposes\"\"\"\n",
        "\n",
        "  numerical_cols = data.select_dtypes(include=[np.number]).columns.tolist()\n",
        "  cols_to_ignore = ['latitude', 'longitude', 'review_scores_rating',\n",
        " 'review_scores_accuracy',\n",
        " 'review_scores_cleanliness',\n",
        " 'review_scores_checkin',\n",
        " 'review_scores_communication',\n",
        " 'review_scores_location',\n",
        " 'review_scores_value']\n",
        "\n",
        "  for col in cols_to_ignore:\n",
        "    if col in numerical_cols:\n",
        "      numerical_cols.remove(col)\n",
        "\n",
        "  return data[numerical_cols]\n",
        "\n",
        "def knn_impute_na_in_numerical_data(data, neighbors = 5):\n",
        "  \"\"\" Function to use KNN Imputer to fill missing values in numerical cols\"\"\"\n",
        "\n",
        "  numerical_cols = data.select_dtypes(include=[np.number]).columns.tolist()\n",
        "  cols_to_ignore = ['latitude', 'longitude'] # these cols not ideal for knn imputer\n",
        "\n",
        "  # cols to use for knn imputer. (Remember knn imputer only takes in numerical data)\n",
        "  for col in cols_to_ignore:\n",
        "    if col in numerical_cols:\n",
        "      numerical_cols.remove(col)\n",
        "\n",
        "  # Initialize the scaler\n",
        "  scaler = MinMaxScaler()\n",
        "\n",
        "  # Fit the scaler to your data and transform it\n",
        "  scaled_data = scaler.fit_transform(data[numerical_cols])\n",
        "\n",
        "  # Initialize KNN Imputer\n",
        "  imputer = KNNImputer(n_neighbors=neighbors)\n",
        "\n",
        "  # Impute on scaled_data\n",
        "  imputed_scaled_data = imputer.fit_transform(scaled_data)\n",
        "\n",
        "  # If you want to transform the imputed and scaled data back to the original scale\n",
        "  imputed_scaled_data_inv = scaler.inverse_transform(imputed_scaled_data)\n",
        "\n",
        "  # rounding the values because our original values dont have any decimal values\n",
        "  imputed_scaled_data_inv = np.ceil(imputed_scaled_data_inv)\n",
        "  imputed_scaled_data_inv = np.where(imputed_scaled_data_inv == -0.0, 0.0, imputed_scaled_data_inv)\n",
        "\n",
        "  # creating a df from the array\n",
        "  numerical_data = pd.DataFrame(imputed_scaled_data_inv, columns=numerical_cols, index=data.index)\n",
        "\n",
        "  # replacing missing value cols with imputed cols\n",
        "  for col in numerical_cols:\n",
        "    data[col] = numerical_data[col]\n",
        "\n",
        "\n",
        "  return data\n",
        "\n",
        "def cols_with_nan(data):\n",
        "  \"\"\"function that returns only cols with missing values and count of missing values\"\"\"\n",
        "  null_counts = data.isna().sum()\n",
        "  null_counts = null_counts[null_counts > 0]\n",
        "  return null_counts\n",
        "\n",
        "def has_nans(data, column):\n",
        "  \"\"\" Tells if a column has null values\"\"\"\n",
        "  has_nans = False\n",
        "  for row in data[column]:\n",
        "    has_nans |= isinstance(row, float) and math.isnan(row)\n",
        "    if has_nans:\n",
        "      break\n",
        "  return has_nans # True or False\n",
        "\n",
        "def one_hot_encoding(data, column):\n",
        "  \"\"\"For categories, some have NaNs... so let's not drop the first one.\"\"\"\n",
        "  return pd.get_dummies(data, columns=[column], drop_first=not has_nans(data, column))\n",
        "\n",
        "def get_categorical_cols(df):\n",
        "  \"\"\"\n",
        "  Returns a list of categorical columns in a Pandas DataFrame.\n",
        "  \"\"\"\n",
        "  return list(df.select_dtypes(include=['object']).columns)\n",
        "\n",
        "\n",
        "def one_hot_encode_all(data):\n",
        "  cat_cols = get_categorical_cols(data)\n",
        "\n",
        "  for col in cat_cols:\n",
        "    data = one_hot_encoding(data, col)\n",
        "\n",
        "  return data\n",
        "\n",
        "def group_rare_property_types(data):\n",
        "  \"\"\"\n",
        "  This Function labels property_type categories that appean less than 5 times in whole data as \"Other\"\n",
        "  \"\"\"\n",
        "  category_counts = data['property_type'].value_counts()\n",
        "\n",
        "  # Identify categories that appear less than 5 times\n",
        "  rare_categories = category_counts[category_counts < 5].index\n",
        "\n",
        "  # Replace rare categories with 'Others'\n",
        "  data['property_type'] = data['property_type'].replace(rare_categories, 'Others')\n",
        "  return data\n",
        "\n",
        "def group_alt_bed_types(data):\n",
        "  \"\"\"\n",
        "  This Function groups all bed_types except \"Real Bed\" as \"Not Real Bed\"\n",
        "  \"\"\"\n",
        "  # Get list of bed types except \"Real Bed\"\n",
        "  alt_bed_types = data[data['bed_type']!='Real Bed']['bed_type'].unique()\n",
        "\n",
        "  # Replace all those with \"Not Real Bed\"\n",
        "  data['bed_type'] = data['bed_type'].replace(alt_bed_types, 'Not Real Bed')\n",
        "\n",
        "  return data\n",
        "\n"
      ],
      "metadata": {
        "id": "rmRXqewctTga"
      },
      "execution_count": null,
      "outputs": []
    },
    {
      "cell_type": "code",
      "source": [
        "def clean_data(data):\n",
        "  \"\"\" Function that consolidates all the cleaning steps into one function\"\"\"\n",
        "\n",
        "  # Dropping Unnecessary columns\n",
        "  data = data.drop(get_unnecessary_columns(), axis=\"columns\")\n",
        "\n",
        "  # removing rows with null values for bathrooms, bedroomms and beds (because very few instances)\n",
        "  bitmask1 = data[\"bathrooms\"].notnull()\n",
        "  data = data[bitmask1]\n",
        "\n",
        "  bitmask2 = data[\"bedrooms\"].notnull()\n",
        "  data = data[bitmask2]\n",
        "\n",
        "  bitmask3 = data[\"beds\"].notnull()\n",
        "  data = data[bitmask3].reset_index(drop=True)\n",
        "\n",
        "  # Cleaning and converting money data from str to float\n",
        "  data['nightly_price'] = data['nightly_price'].apply(lambda x: convert_price_str_to_decimal(x))\n",
        "  data['price_per_stay'] = data['price_per_stay'].apply(lambda x: convert_price_str_to_decimal(x))\n",
        "  data['extra_people'] = data['extra_people'].apply(lambda x: convert_price_str_to_decimal(x))\n",
        "  data['security_deposit'] = data['security_deposit'].apply(lambda x: convert_price_str_to_decimal(x))\n",
        "  data['cleaning_fee'] = data['cleaning_fee'].apply(lambda x: convert_price_str_to_decimal(x))\n",
        "\n",
        "  # dropping rows with number_of_stays==0\n",
        "  data = data[data['number_of_stays']>0].reset_index(drop=True)\n",
        "\n",
        "  # there were some rows with nightly_price ==0. So removing that also\n",
        "  data = data[data['nightly_price']>0].reset_index(drop=True)\n",
        "  # And removing instances with nightly price greater than 3000 and equal to price per stay (because we are not sure if it is nightly price or price per stay)\n",
        "  data = data[~((data['nightly_price']==data['price_per_stay']) & (data['nightly_price']>3000))]\n",
        "\n",
        "  # Dropping price_per_stay\n",
        "  data = data.drop(['price_per_stay'], axis=\"columns\")\n",
        "\n",
        "  # Removing outlier in bathrooms col. Only one instance with 20 bathrooms. after that, max bathrooms are 10\n",
        "  data = data[data['bathrooms']<20].reset_index(drop=True)\n",
        "\n",
        "  # Cleaning and converting host_response_rate data from str to numerical\n",
        "  data['host_response_rate'] = data['host_response_rate'].apply(lambda x: clean_host_response_rate(x))\n",
        "\n",
        "  # Label Property types that appear less than 5 times in the dataset as \"Other\"\n",
        "  data = group_rare_property_types(data)\n",
        "\n",
        "  # Label all bed_types except Real Bed as Not Real Bed. Bed_types such as Futon, Couch, Sofa and Airbed will be labeled as Not Real Bed\n",
        "  data = group_alt_bed_types(data)\n",
        "\n",
        "  return data"
      ],
      "metadata": {
        "id": "l6zti51Ur4uF"
      },
      "execution_count": null,
      "outputs": []
    },
    {
      "cell_type": "code",
      "source": [
        "def custom_winsorize(data, lower_percentile, upper_percentile):\n",
        "    \"\"\"\n",
        "    Winsorize data by replacing values outside the lower and upper percentiles\n",
        "    with the boundary values at these percentiles.\n",
        "\n",
        "    Parameters:\n",
        "    - data: The data to be winsorized (a numpy array or a list).\n",
        "    - lower_percentile: The lower percentile limit (e.g., 0.05 for the 5th percentile).\n",
        "    - upper_percentile: The upper percentile limit (e.g., 0.95 for the 95th percentile).\n",
        "\n",
        "    Returns:\n",
        "    - Winsorized data as a numpy array.\n",
        "    \"\"\"\n",
        "    lower_bound = np.percentile(data, lower_percentile * 100)\n",
        "    upper_bound = np.percentile(data, upper_percentile * 100)\n",
        "\n",
        "    # Replace values below the lower bound with the lower bound value\n",
        "    # and above the upper bound with the upper bound value\n",
        "    winsorized_data = np.clip(data, lower_bound, upper_bound)\n",
        "\n",
        "    return winsorized_data\n",
        "def apply_winsorizing(dataframe, lower_percentile=0.05, upper_percentile=0.95):\n",
        "    \"\"\"\n",
        "    Apply Winsorizing to specified columns in a pandas DataFrame.\n",
        "\n",
        "    :param dataframe: The pandas DataFrame containing the data.\n",
        "\n",
        "    :param lower_percentile: The lower percentile for Winsorizing (default is 0.05).\n",
        "    :param upper_percentile: The upper percentile for Winsorizing (default is 0.95).\n",
        "\n",
        "    :return: A pandas DataFrame with Winsorized columns.\n",
        "    \"\"\"\n",
        "    columns = get_numerial_cols_list(dataframe)\n",
        "    winsorized_data = dataframe.copy()\n",
        "    for column in columns:\n",
        "        winsorized_data[column] = custom_winsorize(winsorized_data[column], lower_percentile, upper_percentile)\n",
        "    return winsorized_data"
      ],
      "metadata": {
        "id": "LbqWLX7wwFWX"
      },
      "execution_count": null,
      "outputs": []
    },
    {
      "cell_type": "code",
      "source": [
        "data = clean_data(dataset)\n",
        "data.shape"
      ],
      "metadata": {
        "colab": {
          "base_uri": "https://localhost:8080/"
        },
        "id": "L-3adT6rvq4E",
        "outputId": "9313f344-c679-409b-b07e-fdbba8c3d523"
      },
      "execution_count": null,
      "outputs": [
        {
          "output_type": "execute_result",
          "data": {
            "text/plain": [
              "(11007, 33)"
            ]
          },
          "metadata": {},
          "execution_count": 8
        }
      ]
    },
    {
      "cell_type": "markdown",
      "source": [
        "## Splitting the data into Train and Test Data Sets"
      ],
      "metadata": {
        "id": "AMPHQwGZvaDN"
      }
    },
    {
      "cell_type": "code",
      "source": [
        "#Split Data train test split\n",
        "train_set, test_set = train_test_split(data, test_size=0.2, random_state=42, shuffle=True, stratify=data['property_type'])"
      ],
      "metadata": {
        "id": "ZJl3bR0-uyVW"
      },
      "execution_count": null,
      "outputs": []
    },
    {
      "cell_type": "code",
      "source": [
        "# Further split the training data into X and y\n",
        "X_train = train_set.drop(['nightly_price'], axis=1)\n",
        "y_train = train_set['nightly_price'].copy()\n",
        "\n",
        "# apply winsorizing on target variable\n",
        "y_train = custom_winsorize(y_train, 0, 0.95)"
      ],
      "metadata": {
        "id": "ayNDJxxkzVwq"
      },
      "execution_count": null,
      "outputs": []
    },
    {
      "cell_type": "code",
      "source": [
        "# Similarly for test set\n",
        "X_test = test_set.drop(['nightly_price'], axis=1)\n",
        "y_test = test_set['nightly_price'].copy()\n",
        "\n",
        "# winsorize the target variable in the test set\n",
        "y_test = custom_winsorize(y_test, 0, 0.95)"
      ],
      "metadata": {
        "id": "OPBS2I_6oJ3Y"
      },
      "execution_count": null,
      "outputs": []
    },
    {
      "cell_type": "code",
      "source": [
        "X_train.shape, y_train.shape"
      ],
      "metadata": {
        "colab": {
          "base_uri": "https://localhost:8080/"
        },
        "id": "P1DQ3XhO17nV",
        "outputId": "0ef0e09b-33e6-433c-b25d-22fd7ed17617"
      },
      "execution_count": null,
      "outputs": [
        {
          "output_type": "execute_result",
          "data": {
            "text/plain": [
              "((8805, 32), (8805,))"
            ]
          },
          "metadata": {},
          "execution_count": 12
        }
      ]
    },
    {
      "cell_type": "markdown",
      "source": [
        "## Data Preprocessing Pipeline"
      ],
      "metadata": {
        "id": "gYXxZwt3v7Sl"
      }
    },
    {
      "cell_type": "code",
      "source": [
        "from sklearn.pipeline import Pipeline\n",
        "from sklearn.preprocessing import FunctionTransformer"
      ],
      "metadata": {
        "id": "C_kheaN5v4Xw"
      },
      "execution_count": null,
      "outputs": []
    },
    {
      "cell_type": "code",
      "source": [
        "# Numerical Attributes Preprocessing functions/steps\n",
        "def fill_nan_in_money_cols(data):\n",
        "  # # imputing money cols with 0 for no data. (Assuming no data means nothing mentioned about deposit or fees meaning none exist for those listings)\n",
        "  data['security_deposit'].fillna(0, inplace=True)\n",
        "  data['cleaning_fee'].fillna(0, inplace=True)\n",
        "  return data\n"
      ],
      "metadata": {
        "id": "1UnrR1Njwm-M"
      },
      "execution_count": null,
      "outputs": []
    },
    {
      "cell_type": "code",
      "source": [
        "# let's get the numerical data\n",
        "X_train_num = X_train.select_dtypes(include=[np.number])\n",
        "X_train_num.shape"
      ],
      "metadata": {
        "colab": {
          "base_uri": "https://localhost:8080/"
        },
        "id": "w5VXuvcn1mAe",
        "outputId": "badf3e92-ac42-49ea-9976-137d20e2753c"
      },
      "execution_count": null,
      "outputs": [
        {
          "output_type": "execute_result",
          "data": {
            "text/plain": [
              "(8805, 20)"
            ]
          },
          "metadata": {},
          "execution_count": 15
        }
      ]
    },
    {
      "cell_type": "code",
      "source": [
        "num_pipeline = Pipeline([\n",
        "      ('fill_nan', FunctionTransformer(fill_nan_in_money_cols))\n",
        "    , ('knn_impute', FunctionTransformer(knn_impute_na_in_numerical_data))\n",
        "    , ('winsorizing', FunctionTransformer(apply_winsorizing))\n",
        "    , ('Normalization', MinMaxScaler()) # comment out normalization if you dont need\n",
        "])\n"
      ],
      "metadata": {
        "id": "4-KNiqW-wA4t"
      },
      "execution_count": null,
      "outputs": []
    },
    {
      "cell_type": "code",
      "source": [
        " #use the pipeline object to fit and transform the numerical features of the listings data\n",
        "\n",
        "X_train_num = num_pipeline.fit_transform(X_train_num)\n",
        "X_train_num"
      ],
      "metadata": {
        "colab": {
          "base_uri": "https://localhost:8080/"
        },
        "id": "8WMD6sxFmF6y",
        "outputId": "71c4210c-50de-413d-d091-abdba1124eb6"
      },
      "execution_count": null,
      "outputs": [
        {
          "output_type": "execute_result",
          "data": {
            "text/plain": [
              "array([[1.        , 0.56937885, 0.03921795, ..., 1.        , 1.        ,\n",
              "        1.        ],\n",
              "       [1.        , 0.47719817, 0.59338848, ..., 1.        , 1.        ,\n",
              "        1.        ],\n",
              "       [1.        , 0.39936551, 0.29618811, ..., 1.        , 1.        ,\n",
              "        1.        ],\n",
              "       ...,\n",
              "       [1.        , 0.4805148 , 0.09130611, ..., 1.        , 1.        ,\n",
              "        1.        ],\n",
              "       [1.        , 0.39752695, 0.65131883, ..., 1.        , 0.875     ,\n",
              "        0.875     ],\n",
              "       [1.        , 0.40699016, 0.48363026, ..., 1.        , 1.        ,\n",
              "        1.        ]])"
            ]
          },
          "metadata": {},
          "execution_count": 17
        }
      ]
    },
    {
      "cell_type": "code",
      "source": [
        "# Categorical Data functions\n",
        "\n",
        "def fill_missing_bools(data):\n",
        "  # # imputing missing values in bool columns with f. (Assuming no data as false )\n",
        "  data['host_is_superhost'].fillna('f', inplace=True)\n",
        "  data['host_has_profile_pic'].fillna('f', inplace=True)\n",
        "  data['host_identity_verified'].fillna('f', inplace=True)\n",
        "  return data"
      ],
      "metadata": {
        "id": "tnxLn8oIw6x3"
      },
      "execution_count": null,
      "outputs": []
    },
    {
      "cell_type": "code",
      "source": [
        "# cat_pipeline = Pipeline([\n",
        "#     ('fill_bools', FunctionTransformer(fill_missing_bools)),\n",
        "#     ('one_hot_encode', FunctionTransformer(one_hot_encode_all))\n",
        "# ])\n"
      ],
      "metadata": {
        "id": "2WE-AdxvuHia"
      },
      "execution_count": null,
      "outputs": []
    },
    {
      "cell_type": "code",
      "source": [
        "# Let's get the categorical data\n",
        "cat_data = X_train[get_categorical_cols(X_train)].copy()"
      ],
      "metadata": {
        "id": "fiyW5fW6_z-v"
      },
      "execution_count": null,
      "outputs": []
    },
    {
      "cell_type": "code",
      "source": [
        "cat_pipeline1 = Pipeline([\n",
        "     ('fill_bools', FunctionTransformer(fill_missing_bools))\n",
        "    , ('one_hot_encode', OneHotEncoder(sparse_output=False, drop='first'))\n",
        "])\n"
      ],
      "metadata": {
        "id": "P6-8ov6I_lRg"
      },
      "execution_count": null,
      "outputs": []
    },
    {
      "cell_type": "code",
      "source": [
        "cat_data = cat_pipeline1.fit_transform(cat_data)\n",
        "cat_data"
      ],
      "metadata": {
        "colab": {
          "base_uri": "https://localhost:8080/"
        },
        "id": "CLneD9bmxN0W",
        "outputId": "11fb2511-4813-4745-b9f1-3421b1e3210f"
      },
      "execution_count": null,
      "outputs": [
        {
          "output_type": "execute_result",
          "data": {
            "text/plain": [
              "array([[0., 0., 1., ..., 0., 0., 0.],\n",
              "       [0., 0., 1., ..., 0., 0., 0.],\n",
              "       [0., 0., 1., ..., 0., 0., 0.],\n",
              "       ...,\n",
              "       [0., 0., 1., ..., 0., 0., 0.],\n",
              "       [1., 0., 0., ..., 0., 0., 0.],\n",
              "       [0., 0., 1., ..., 0., 0., 0.]])"
            ]
          },
          "metadata": {},
          "execution_count": 22
        }
      ]
    },
    {
      "cell_type": "code",
      "source": [
        "cat_data.shape"
      ],
      "metadata": {
        "colab": {
          "base_uri": "https://localhost:8080/"
        },
        "id": "LdzsTjSUAAfo",
        "outputId": "17f15d30-2650-42b3-ce81-0eabfa83aa3c"
      },
      "execution_count": null,
      "outputs": [
        {
          "output_type": "execute_result",
          "data": {
            "text/plain": [
              "(8805, 41)"
            ]
          },
          "metadata": {},
          "execution_count": 23
        }
      ]
    },
    {
      "cell_type": "code",
      "source": [
        "# Let's get the categorical cols list and numerical cols list for the full data preprocessing pipeline\n",
        "\n",
        "cat_attribs = get_categorical_cols(X_train) # this will return a list\n",
        "num_attribs = X_train.select_dtypes(include=[np.number]).columns.tolist()"
      ],
      "metadata": {
        "id": "yykEuC_3AWwk"
      },
      "execution_count": null,
      "outputs": []
    },
    {
      "cell_type": "code",
      "source": [
        "from sklearn.compose import ColumnTransformer"
      ],
      "metadata": {
        "id": "KrIxwdluCwOB"
      },
      "execution_count": null,
      "outputs": []
    },
    {
      "cell_type": "code",
      "source": [
        "# Define your pipeline steps\n",
        "full_pipeline = ColumnTransformer([\n",
        "        (\"num\", num_pipeline, num_attribs),\n",
        "        (\"cat\", cat_pipeline1, cat_attribs),\n",
        "    ])"
      ],
      "metadata": {
        "id": "i2h8VBm9y_gB"
      },
      "execution_count": null,
      "outputs": []
    },
    {
      "cell_type": "code",
      "source": [
        "train_prepared = full_pipeline.fit_transform(X_train)"
      ],
      "metadata": {
        "id": "UQxQO-BU9qpI"
      },
      "execution_count": null,
      "outputs": []
    },
    {
      "cell_type": "code",
      "source": [
        "train_prepared"
      ],
      "metadata": {
        "colab": {
          "base_uri": "https://localhost:8080/"
        },
        "id": "d_3_BoP1Desf",
        "outputId": "da1252c8-d59a-4ea7-8888-3736798703e3"
      },
      "execution_count": null,
      "outputs": [
        {
          "output_type": "execute_result",
          "data": {
            "text/plain": [
              "array([[1.        , 0.56937885, 0.03921795, ..., 0.        , 0.        ,\n",
              "        0.        ],\n",
              "       [1.        , 0.47719817, 0.59338848, ..., 0.        , 0.        ,\n",
              "        0.        ],\n",
              "       [1.        , 0.39936551, 0.29618811, ..., 0.        , 0.        ,\n",
              "        0.        ],\n",
              "       ...,\n",
              "       [1.        , 0.4805148 , 0.09130611, ..., 0.        , 0.        ,\n",
              "        0.        ],\n",
              "       [1.        , 0.39752695, 0.65131883, ..., 0.        , 0.        ,\n",
              "        0.        ],\n",
              "       [1.        , 0.40699016, 0.48363026, ..., 0.        , 0.        ,\n",
              "        0.        ]])"
            ]
          },
          "metadata": {},
          "execution_count": 28
        }
      ]
    },
    {
      "cell_type": "code",
      "source": [
        "train_prepared.shape"
      ],
      "metadata": {
        "colab": {
          "base_uri": "https://localhost:8080/"
        },
        "id": "Iv84SZJIDf8y",
        "outputId": "8d6da639-31ae-483b-86f0-828b1f211234"
      },
      "execution_count": null,
      "outputs": [
        {
          "output_type": "execute_result",
          "data": {
            "text/plain": [
              "(8805, 61)"
            ]
          },
          "metadata": {},
          "execution_count": 29
        }
      ]
    },
    {
      "cell_type": "code",
      "source": [
        "# To check the column names\n",
        "\n",
        "# Access the OneHotEncoder inside the ColumnTransformer\n",
        "onehotencoder = full_pipeline.named_transformers_['cat'].named_steps['one_hot_encode']\n",
        "\n",
        "# This will give you the names of all the one-hot encoded columns\n",
        "one_hot_feature_names = onehotencoder.get_feature_names_out(cat_attribs)\n",
        "one_hot_feature_names"
      ],
      "metadata": {
        "colab": {
          "base_uri": "https://localhost:8080/"
        },
        "id": "DF-mHVoZnWkP",
        "outputId": "58673a6d-7636-486b-952d-8185aa646b40"
      },
      "execution_count": null,
      "outputs": [
        {
          "output_type": "execute_result",
          "data": {
            "text/plain": [
              "array(['host_response_time_within a day',\n",
              "       'host_response_time_within a few hours',\n",
              "       'host_response_time_within an hour', 'host_response_time_nan',\n",
              "       'host_is_superhost_t', 'host_has_profile_pic_t',\n",
              "       'host_identity_verified_t', 'is_location_exact_t',\n",
              "       'property_type_Apartment', 'property_type_Bed and breakfast',\n",
              "       'property_type_Boat', 'property_type_Boutique hotel',\n",
              "       'property_type_Bungalow', 'property_type_Camper/RV',\n",
              "       'property_type_Condominium', 'property_type_Cottage',\n",
              "       'property_type_Guest suite', 'property_type_Guesthouse',\n",
              "       'property_type_Hostel', 'property_type_Hotel',\n",
              "       'property_type_House', 'property_type_Loft', 'property_type_Other',\n",
              "       'property_type_Others', 'property_type_Resort',\n",
              "       'property_type_Serviced apartment', 'property_type_Tent',\n",
              "       'property_type_Tiny house', 'property_type_Townhouse',\n",
              "       'property_type_Villa', 'room_type_Private room',\n",
              "       'room_type_Shared room', 'bed_type_Real Bed', 'instant_bookable_t',\n",
              "       'cancellation_policy_moderate', 'cancellation_policy_strict',\n",
              "       'cancellation_policy_strict_14_with_grace_period',\n",
              "       'cancellation_policy_super_strict_30',\n",
              "       'cancellation_policy_super_strict_60',\n",
              "       'require_guest_profile_picture_t',\n",
              "       'require_guest_phone_verification_t'], dtype=object)"
            ]
          },
          "metadata": {},
          "execution_count": 30
        }
      ]
    },
    {
      "cell_type": "code",
      "source": [
        "# Let's try it on test set too\n",
        "test_prepared = full_pipeline.transform(X_test)"
      ],
      "metadata": {
        "id": "iysUld2PhVJX"
      },
      "execution_count": null,
      "outputs": []
    },
    {
      "cell_type": "code",
      "source": [
        "test_prepared.shape"
      ],
      "metadata": {
        "colab": {
          "base_uri": "https://localhost:8080/"
        },
        "id": "GefnQxAYheJw",
        "outputId": "c4943c33-43af-4125-b97b-672466507807"
      },
      "execution_count": null,
      "outputs": [
        {
          "output_type": "execute_result",
          "data": {
            "text/plain": [
              "(2202, 61)"
            ]
          },
          "metadata": {},
          "execution_count": 32
        }
      ]
    },
    {
      "cell_type": "markdown",
      "source": [
        "## Select and Train a Model"
      ],
      "metadata": {
        "id": "cmA3NQZTpKcz"
      }
    },
    {
      "cell_type": "code",
      "source": [
        "def model_rmse(trained_model, independent_data, target_data):\n",
        "  y_preds = trained_model.predict(independent_data)\n",
        "  mse = mean_squared_error(target_data, y_preds)\n",
        "  rmse = np.sqrt(mse)\n",
        "  return rmse"
      ],
      "metadata": {
        "id": "wsfDVbkvuSLZ"
      },
      "execution_count": null,
      "outputs": []
    },
    {
      "cell_type": "markdown",
      "source": [
        "### Linear Regression"
      ],
      "metadata": {
        "id": "XOlIR7S8pPID"
      }
    },
    {
      "cell_type": "code",
      "source": [
        "from sklearn.linear_model import LinearRegression\n",
        "#use LinearRegression to fit the data\n",
        "lin_reg = LinearRegression()\n",
        "lin_reg.fit(train_prepared, y_train)"
      ],
      "metadata": {
        "colab": {
          "base_uri": "https://localhost:8080/",
          "height": 74
        },
        "id": "ESgyit9xpQlO",
        "outputId": "21e01bb1-a07c-494a-8649-110835eb6f45"
      },
      "execution_count": null,
      "outputs": [
        {
          "output_type": "execute_result",
          "data": {
            "text/plain": [
              "LinearRegression()"
            ],
            "text/html": [
              "<style>#sk-container-id-2 {color: black;background-color: white;}#sk-container-id-2 pre{padding: 0;}#sk-container-id-2 div.sk-toggleable {background-color: white;}#sk-container-id-2 label.sk-toggleable__label {cursor: pointer;display: block;width: 100%;margin-bottom: 0;padding: 0.3em;box-sizing: border-box;text-align: center;}#sk-container-id-2 label.sk-toggleable__label-arrow:before {content: \"▸\";float: left;margin-right: 0.25em;color: #696969;}#sk-container-id-2 label.sk-toggleable__label-arrow:hover:before {color: black;}#sk-container-id-2 div.sk-estimator:hover label.sk-toggleable__label-arrow:before {color: black;}#sk-container-id-2 div.sk-toggleable__content {max-height: 0;max-width: 0;overflow: hidden;text-align: left;background-color: #f0f8ff;}#sk-container-id-2 div.sk-toggleable__content pre {margin: 0.2em;color: black;border-radius: 0.25em;background-color: #f0f8ff;}#sk-container-id-2 input.sk-toggleable__control:checked~div.sk-toggleable__content {max-height: 200px;max-width: 100%;overflow: auto;}#sk-container-id-2 input.sk-toggleable__control:checked~label.sk-toggleable__label-arrow:before {content: \"▾\";}#sk-container-id-2 div.sk-estimator input.sk-toggleable__control:checked~label.sk-toggleable__label {background-color: #d4ebff;}#sk-container-id-2 div.sk-label input.sk-toggleable__control:checked~label.sk-toggleable__label {background-color: #d4ebff;}#sk-container-id-2 input.sk-hidden--visually {border: 0;clip: rect(1px 1px 1px 1px);clip: rect(1px, 1px, 1px, 1px);height: 1px;margin: -1px;overflow: hidden;padding: 0;position: absolute;width: 1px;}#sk-container-id-2 div.sk-estimator {font-family: monospace;background-color: #f0f8ff;border: 1px dotted black;border-radius: 0.25em;box-sizing: border-box;margin-bottom: 0.5em;}#sk-container-id-2 div.sk-estimator:hover {background-color: #d4ebff;}#sk-container-id-2 div.sk-parallel-item::after {content: \"\";width: 100%;border-bottom: 1px solid gray;flex-grow: 1;}#sk-container-id-2 div.sk-label:hover label.sk-toggleable__label {background-color: #d4ebff;}#sk-container-id-2 div.sk-serial::before {content: \"\";position: absolute;border-left: 1px solid gray;box-sizing: border-box;top: 0;bottom: 0;left: 50%;z-index: 0;}#sk-container-id-2 div.sk-serial {display: flex;flex-direction: column;align-items: center;background-color: white;padding-right: 0.2em;padding-left: 0.2em;position: relative;}#sk-container-id-2 div.sk-item {position: relative;z-index: 1;}#sk-container-id-2 div.sk-parallel {display: flex;align-items: stretch;justify-content: center;background-color: white;position: relative;}#sk-container-id-2 div.sk-item::before, #sk-container-id-2 div.sk-parallel-item::before {content: \"\";position: absolute;border-left: 1px solid gray;box-sizing: border-box;top: 0;bottom: 0;left: 50%;z-index: -1;}#sk-container-id-2 div.sk-parallel-item {display: flex;flex-direction: column;z-index: 1;position: relative;background-color: white;}#sk-container-id-2 div.sk-parallel-item:first-child::after {align-self: flex-end;width: 50%;}#sk-container-id-2 div.sk-parallel-item:last-child::after {align-self: flex-start;width: 50%;}#sk-container-id-2 div.sk-parallel-item:only-child::after {width: 0;}#sk-container-id-2 div.sk-dashed-wrapped {border: 1px dashed gray;margin: 0 0.4em 0.5em 0.4em;box-sizing: border-box;padding-bottom: 0.4em;background-color: white;}#sk-container-id-2 div.sk-label label {font-family: monospace;font-weight: bold;display: inline-block;line-height: 1.2em;}#sk-container-id-2 div.sk-label-container {text-align: center;}#sk-container-id-2 div.sk-container {/* jupyter's `normalize.less` sets `[hidden] { display: none; }` but bootstrap.min.css set `[hidden] { display: none !important; }` so we also need the `!important` here to be able to override the default hidden behavior on the sphinx rendered scikit-learn.org. See: https://github.com/scikit-learn/scikit-learn/issues/21755 */display: inline-block !important;position: relative;}#sk-container-id-2 div.sk-text-repr-fallback {display: none;}</style><div id=\"sk-container-id-2\" class=\"sk-top-container\"><div class=\"sk-text-repr-fallback\"><pre>LinearRegression()</pre><b>In a Jupyter environment, please rerun this cell to show the HTML representation or trust the notebook. <br />On GitHub, the HTML representation is unable to render, please try loading this page with nbviewer.org.</b></div><div class=\"sk-container\" hidden><div class=\"sk-item\"><div class=\"sk-estimator sk-toggleable\"><input class=\"sk-toggleable__control sk-hidden--visually\" id=\"sk-estimator-id-4\" type=\"checkbox\" checked><label for=\"sk-estimator-id-4\" class=\"sk-toggleable__label sk-toggleable__label-arrow\">LinearRegression</label><div class=\"sk-toggleable__content\"><pre>LinearRegression()</pre></div></div></div></div></div>"
            ]
          },
          "metadata": {},
          "execution_count": 74
        }
      ]
    },
    {
      "cell_type": "code",
      "source": [
        "from sklearn.metrics import mean_squared_error\n",
        "#evaluate the predictions uing MSE and RMS\n",
        "\n",
        "#on train set\n",
        "y_preds = lin_reg.predict(train_prepared)\n",
        "lin_mse = mean_squared_error(y_train, y_preds)\n",
        "lin_rmse = np.sqrt(lin_mse)\n",
        "lin_rmse"
      ],
      "metadata": {
        "colab": {
          "base_uri": "https://localhost:8080/",
          "height": 211
        },
        "id": "cX2_6ok8pOny",
        "outputId": "af1be9bc-0a2d-452a-acc2-2ad36ad5a59a"
      },
      "execution_count": null,
      "outputs": [
        {
          "output_type": "error",
          "ename": "NameError",
          "evalue": "name 'lin_reg' is not defined",
          "traceback": [
            "\u001b[0;31m---------------------------------------------------------------------------\u001b[0m",
            "\u001b[0;31mNameError\u001b[0m                                 Traceback (most recent call last)",
            "\u001b[0;32m<ipython-input-34-f54b40b79a73>\u001b[0m in \u001b[0;36m<cell line: 5>\u001b[0;34m()\u001b[0m\n\u001b[1;32m      3\u001b[0m \u001b[0;34m\u001b[0m\u001b[0m\n\u001b[1;32m      4\u001b[0m \u001b[0;31m#on train set\u001b[0m\u001b[0;34m\u001b[0m\u001b[0;34m\u001b[0m\u001b[0m\n\u001b[0;32m----> 5\u001b[0;31m \u001b[0my_preds\u001b[0m \u001b[0;34m=\u001b[0m \u001b[0mlin_reg\u001b[0m\u001b[0;34m.\u001b[0m\u001b[0mpredict\u001b[0m\u001b[0;34m(\u001b[0m\u001b[0mtrain_prepared\u001b[0m\u001b[0;34m)\u001b[0m\u001b[0;34m\u001b[0m\u001b[0;34m\u001b[0m\u001b[0m\n\u001b[0m\u001b[1;32m      6\u001b[0m \u001b[0mlin_mse\u001b[0m \u001b[0;34m=\u001b[0m \u001b[0mmean_squared_error\u001b[0m\u001b[0;34m(\u001b[0m\u001b[0my_train\u001b[0m\u001b[0;34m,\u001b[0m \u001b[0my_preds\u001b[0m\u001b[0;34m)\u001b[0m\u001b[0;34m\u001b[0m\u001b[0;34m\u001b[0m\u001b[0m\n\u001b[1;32m      7\u001b[0m \u001b[0mlin_rmse\u001b[0m \u001b[0;34m=\u001b[0m \u001b[0mnp\u001b[0m\u001b[0;34m.\u001b[0m\u001b[0msqrt\u001b[0m\u001b[0;34m(\u001b[0m\u001b[0mlin_mse\u001b[0m\u001b[0;34m)\u001b[0m\u001b[0;34m\u001b[0m\u001b[0;34m\u001b[0m\u001b[0m\n",
            "\u001b[0;31mNameError\u001b[0m: name 'lin_reg' is not defined"
          ]
        }
      ]
    },
    {
      "cell_type": "code",
      "source": [
        "# on test set\n",
        "\n",
        "model_rmse(lin_reg, test_prepared, y_test)"
      ],
      "metadata": {
        "colab": {
          "base_uri": "https://localhost:8080/"
        },
        "id": "ft5mCHdUuo3a",
        "outputId": "753e5e71-d7be-476f-e7fd-209dd298573e"
      },
      "execution_count": null,
      "outputs": [
        {
          "output_type": "execute_result",
          "data": {
            "text/plain": [
              "398339215296.04034"
            ]
          },
          "metadata": {},
          "execution_count": 36
        }
      ]
    },
    {
      "cell_type": "code",
      "source": [
        "y_test[:10]"
      ],
      "metadata": {
        "colab": {
          "base_uri": "https://localhost:8080/"
        },
        "id": "VZR7oshe2vFm",
        "outputId": "bf2a13f7-9e32-495d-d33f-5ba84c655752"
      },
      "execution_count": null,
      "outputs": [
        {
          "output_type": "execute_result",
          "data": {
            "text/plain": [
              "1294     135.0\n",
              "6513     142.0\n",
              "1659     100.0\n",
              "8600     150.0\n",
              "4220     130.0\n",
              "1613     100.0\n",
              "6214     100.0\n",
              "7500     154.0\n",
              "1253      95.0\n",
              "10594    599.0\n",
              "Name: nightly_price, dtype: float64"
            ]
          },
          "metadata": {},
          "execution_count": 37
        }
      ]
    },
    {
      "cell_type": "code",
      "source": [
        "y_preds = lin_reg.predict(test_prepared)\n",
        "y_preds[:10]"
      ],
      "metadata": {
        "colab": {
          "base_uri": "https://localhost:8080/"
        },
        "id": "6DfijteQ201l",
        "outputId": "519c1575-31b8-4bce-f81a-72fbff4aa07b"
      },
      "execution_count": null,
      "outputs": [
        {
          "output_type": "execute_result",
          "data": {
            "text/plain": [
              "array([139.70958994, 145.36779307, 130.54748057, 315.57091807,\n",
              "       140.33849619, 105.79748057, 120.32482432, 175.52794932,\n",
              "        94.70470713, 491.4425001 ])"
            ]
          },
          "metadata": {},
          "execution_count": 38
        }
      ]
    },
    {
      "cell_type": "code",
      "source": [
        "np.sqrt(mean_squared_error(y_preds, y_test))"
      ],
      "metadata": {
        "colab": {
          "base_uri": "https://localhost:8080/"
        },
        "id": "h8thCJQC3QIv",
        "outputId": "776eb5ea-4012-4455-9080-8ae47bdc1f76"
      },
      "execution_count": null,
      "outputs": [
        {
          "output_type": "execute_result",
          "data": {
            "text/plain": [
              "398339215296.04034"
            ]
          },
          "metadata": {},
          "execution_count": 39
        }
      ]
    },
    {
      "cell_type": "markdown",
      "source": [
        "Typical case of Overfitting on the training data. Potential Remedies:\n",
        "- L1 and L2 Regularization\n",
        "- More Data\n",
        "- Reduce Features\n",
        "- Cross-Validation"
      ],
      "metadata": {
        "id": "-nxanxItsf0Z"
      }
    },
    {
      "cell_type": "code",
      "source": [
        "# Let's try regularization\n",
        "from sklearn.linear_model import Ridge, Lasso, ElasticNet"
      ],
      "metadata": {
        "id": "GG10itXcttLC"
      },
      "execution_count": null,
      "outputs": []
    },
    {
      "cell_type": "code",
      "source": [
        "# Alpha is the regularization strength\n",
        "ridge_model = Ridge(alpha=1.0)\n",
        "\n",
        "# Fit the model with your data (X_train and y_train)\n",
        "ridge_model.fit(train_prepared, y_train)"
      ],
      "metadata": {
        "colab": {
          "base_uri": "https://localhost:8080/",
          "height": 75
        },
        "id": "96PydhAktV4X",
        "outputId": "07448390-893e-43f5-b50e-e410db4c2575"
      },
      "execution_count": null,
      "outputs": [
        {
          "output_type": "execute_result",
          "data": {
            "text/plain": [
              "Ridge()"
            ],
            "text/html": [
              "<style>#sk-container-id-2 {color: black;background-color: white;}#sk-container-id-2 pre{padding: 0;}#sk-container-id-2 div.sk-toggleable {background-color: white;}#sk-container-id-2 label.sk-toggleable__label {cursor: pointer;display: block;width: 100%;margin-bottom: 0;padding: 0.3em;box-sizing: border-box;text-align: center;}#sk-container-id-2 label.sk-toggleable__label-arrow:before {content: \"▸\";float: left;margin-right: 0.25em;color: #696969;}#sk-container-id-2 label.sk-toggleable__label-arrow:hover:before {color: black;}#sk-container-id-2 div.sk-estimator:hover label.sk-toggleable__label-arrow:before {color: black;}#sk-container-id-2 div.sk-toggleable__content {max-height: 0;max-width: 0;overflow: hidden;text-align: left;background-color: #f0f8ff;}#sk-container-id-2 div.sk-toggleable__content pre {margin: 0.2em;color: black;border-radius: 0.25em;background-color: #f0f8ff;}#sk-container-id-2 input.sk-toggleable__control:checked~div.sk-toggleable__content {max-height: 200px;max-width: 100%;overflow: auto;}#sk-container-id-2 input.sk-toggleable__control:checked~label.sk-toggleable__label-arrow:before {content: \"▾\";}#sk-container-id-2 div.sk-estimator input.sk-toggleable__control:checked~label.sk-toggleable__label {background-color: #d4ebff;}#sk-container-id-2 div.sk-label input.sk-toggleable__control:checked~label.sk-toggleable__label {background-color: #d4ebff;}#sk-container-id-2 input.sk-hidden--visually {border: 0;clip: rect(1px 1px 1px 1px);clip: rect(1px, 1px, 1px, 1px);height: 1px;margin: -1px;overflow: hidden;padding: 0;position: absolute;width: 1px;}#sk-container-id-2 div.sk-estimator {font-family: monospace;background-color: #f0f8ff;border: 1px dotted black;border-radius: 0.25em;box-sizing: border-box;margin-bottom: 0.5em;}#sk-container-id-2 div.sk-estimator:hover {background-color: #d4ebff;}#sk-container-id-2 div.sk-parallel-item::after {content: \"\";width: 100%;border-bottom: 1px solid gray;flex-grow: 1;}#sk-container-id-2 div.sk-label:hover label.sk-toggleable__label {background-color: #d4ebff;}#sk-container-id-2 div.sk-serial::before {content: \"\";position: absolute;border-left: 1px solid gray;box-sizing: border-box;top: 0;bottom: 0;left: 50%;z-index: 0;}#sk-container-id-2 div.sk-serial {display: flex;flex-direction: column;align-items: center;background-color: white;padding-right: 0.2em;padding-left: 0.2em;position: relative;}#sk-container-id-2 div.sk-item {position: relative;z-index: 1;}#sk-container-id-2 div.sk-parallel {display: flex;align-items: stretch;justify-content: center;background-color: white;position: relative;}#sk-container-id-2 div.sk-item::before, #sk-container-id-2 div.sk-parallel-item::before {content: \"\";position: absolute;border-left: 1px solid gray;box-sizing: border-box;top: 0;bottom: 0;left: 50%;z-index: -1;}#sk-container-id-2 div.sk-parallel-item {display: flex;flex-direction: column;z-index: 1;position: relative;background-color: white;}#sk-container-id-2 div.sk-parallel-item:first-child::after {align-self: flex-end;width: 50%;}#sk-container-id-2 div.sk-parallel-item:last-child::after {align-self: flex-start;width: 50%;}#sk-container-id-2 div.sk-parallel-item:only-child::after {width: 0;}#sk-container-id-2 div.sk-dashed-wrapped {border: 1px dashed gray;margin: 0 0.4em 0.5em 0.4em;box-sizing: border-box;padding-bottom: 0.4em;background-color: white;}#sk-container-id-2 div.sk-label label {font-family: monospace;font-weight: bold;display: inline-block;line-height: 1.2em;}#sk-container-id-2 div.sk-label-container {text-align: center;}#sk-container-id-2 div.sk-container {/* jupyter's `normalize.less` sets `[hidden] { display: none; }` but bootstrap.min.css set `[hidden] { display: none !important; }` so we also need the `!important` here to be able to override the default hidden behavior on the sphinx rendered scikit-learn.org. See: https://github.com/scikit-learn/scikit-learn/issues/21755 */display: inline-block !important;position: relative;}#sk-container-id-2 div.sk-text-repr-fallback {display: none;}</style><div id=\"sk-container-id-2\" class=\"sk-top-container\"><div class=\"sk-text-repr-fallback\"><pre>Ridge()</pre><b>In a Jupyter environment, please rerun this cell to show the HTML representation or trust the notebook. <br />On GitHub, the HTML representation is unable to render, please try loading this page with nbviewer.org.</b></div><div class=\"sk-container\" hidden><div class=\"sk-item\"><div class=\"sk-estimator sk-toggleable\"><input class=\"sk-toggleable__control sk-hidden--visually\" id=\"sk-estimator-id-2\" type=\"checkbox\" checked><label for=\"sk-estimator-id-2\" class=\"sk-toggleable__label sk-toggleable__label-arrow\">Ridge</label><div class=\"sk-toggleable__content\"><pre>Ridge()</pre></div></div></div></div></div>"
            ]
          },
          "metadata": {},
          "execution_count": 41
        }
      ]
    },
    {
      "cell_type": "code",
      "source": [
        "# train set rmse\n",
        "model_rmse(ridge_model, train_prepared, y_train)"
      ],
      "metadata": {
        "colab": {
          "base_uri": "https://localhost:8080/"
        },
        "id": "SWmNQjKhtV1I",
        "outputId": "d2a8014a-d638-4628-eb40-e578a4fe18bd"
      },
      "execution_count": null,
      "outputs": [
        {
          "output_type": "execute_result",
          "data": {
            "text/plain": [
              "78.06864020113328"
            ]
          },
          "metadata": {},
          "execution_count": 42
        }
      ]
    },
    {
      "cell_type": "code",
      "source": [
        "# on test set\n",
        "model_rmse(ridge_model, test_prepared, y_test)"
      ],
      "metadata": {
        "colab": {
          "base_uri": "https://localhost:8080/"
        },
        "id": "bXNdoopctVvW",
        "outputId": "16781a5f-6d2b-47ac-d6b5-f486580927dd"
      },
      "execution_count": null,
      "outputs": [
        {
          "output_type": "execute_result",
          "data": {
            "text/plain": [
              "82.86854758873744"
            ]
          },
          "metadata": {},
          "execution_count": 43
        }
      ]
    },
    {
      "cell_type": "markdown",
      "source": [
        "Wow. A lot improvement."
      ],
      "metadata": {
        "id": "JP57zjWT4f6k"
      }
    },
    {
      "cell_type": "code",
      "source": [
        "# Let's try lasso\n",
        "# Initialize the Lasso regression model with an alpha value\n",
        "lasso_model = Lasso(alpha=1)\n",
        "\n",
        "# Fit the model with your data (X_train and y_train)\n",
        "lasso_model.fit(train_prepared, y_train)\n"
      ],
      "metadata": {
        "colab": {
          "base_uri": "https://localhost:8080/",
          "height": 75
        },
        "id": "6YmywGoutUm4",
        "outputId": "7bc1851d-77e4-45c3-b238-33e7d95e0896"
      },
      "execution_count": null,
      "outputs": [
        {
          "output_type": "execute_result",
          "data": {
            "text/plain": [
              "Lasso(alpha=1)"
            ],
            "text/html": [
              "<style>#sk-container-id-3 {color: black;background-color: white;}#sk-container-id-3 pre{padding: 0;}#sk-container-id-3 div.sk-toggleable {background-color: white;}#sk-container-id-3 label.sk-toggleable__label {cursor: pointer;display: block;width: 100%;margin-bottom: 0;padding: 0.3em;box-sizing: border-box;text-align: center;}#sk-container-id-3 label.sk-toggleable__label-arrow:before {content: \"▸\";float: left;margin-right: 0.25em;color: #696969;}#sk-container-id-3 label.sk-toggleable__label-arrow:hover:before {color: black;}#sk-container-id-3 div.sk-estimator:hover label.sk-toggleable__label-arrow:before {color: black;}#sk-container-id-3 div.sk-toggleable__content {max-height: 0;max-width: 0;overflow: hidden;text-align: left;background-color: #f0f8ff;}#sk-container-id-3 div.sk-toggleable__content pre {margin: 0.2em;color: black;border-radius: 0.25em;background-color: #f0f8ff;}#sk-container-id-3 input.sk-toggleable__control:checked~div.sk-toggleable__content {max-height: 200px;max-width: 100%;overflow: auto;}#sk-container-id-3 input.sk-toggleable__control:checked~label.sk-toggleable__label-arrow:before {content: \"▾\";}#sk-container-id-3 div.sk-estimator input.sk-toggleable__control:checked~label.sk-toggleable__label {background-color: #d4ebff;}#sk-container-id-3 div.sk-label input.sk-toggleable__control:checked~label.sk-toggleable__label {background-color: #d4ebff;}#sk-container-id-3 input.sk-hidden--visually {border: 0;clip: rect(1px 1px 1px 1px);clip: rect(1px, 1px, 1px, 1px);height: 1px;margin: -1px;overflow: hidden;padding: 0;position: absolute;width: 1px;}#sk-container-id-3 div.sk-estimator {font-family: monospace;background-color: #f0f8ff;border: 1px dotted black;border-radius: 0.25em;box-sizing: border-box;margin-bottom: 0.5em;}#sk-container-id-3 div.sk-estimator:hover {background-color: #d4ebff;}#sk-container-id-3 div.sk-parallel-item::after {content: \"\";width: 100%;border-bottom: 1px solid gray;flex-grow: 1;}#sk-container-id-3 div.sk-label:hover label.sk-toggleable__label {background-color: #d4ebff;}#sk-container-id-3 div.sk-serial::before {content: \"\";position: absolute;border-left: 1px solid gray;box-sizing: border-box;top: 0;bottom: 0;left: 50%;z-index: 0;}#sk-container-id-3 div.sk-serial {display: flex;flex-direction: column;align-items: center;background-color: white;padding-right: 0.2em;padding-left: 0.2em;position: relative;}#sk-container-id-3 div.sk-item {position: relative;z-index: 1;}#sk-container-id-3 div.sk-parallel {display: flex;align-items: stretch;justify-content: center;background-color: white;position: relative;}#sk-container-id-3 div.sk-item::before, #sk-container-id-3 div.sk-parallel-item::before {content: \"\";position: absolute;border-left: 1px solid gray;box-sizing: border-box;top: 0;bottom: 0;left: 50%;z-index: -1;}#sk-container-id-3 div.sk-parallel-item {display: flex;flex-direction: column;z-index: 1;position: relative;background-color: white;}#sk-container-id-3 div.sk-parallel-item:first-child::after {align-self: flex-end;width: 50%;}#sk-container-id-3 div.sk-parallel-item:last-child::after {align-self: flex-start;width: 50%;}#sk-container-id-3 div.sk-parallel-item:only-child::after {width: 0;}#sk-container-id-3 div.sk-dashed-wrapped {border: 1px dashed gray;margin: 0 0.4em 0.5em 0.4em;box-sizing: border-box;padding-bottom: 0.4em;background-color: white;}#sk-container-id-3 div.sk-label label {font-family: monospace;font-weight: bold;display: inline-block;line-height: 1.2em;}#sk-container-id-3 div.sk-label-container {text-align: center;}#sk-container-id-3 div.sk-container {/* jupyter's `normalize.less` sets `[hidden] { display: none; }` but bootstrap.min.css set `[hidden] { display: none !important; }` so we also need the `!important` here to be able to override the default hidden behavior on the sphinx rendered scikit-learn.org. See: https://github.com/scikit-learn/scikit-learn/issues/21755 */display: inline-block !important;position: relative;}#sk-container-id-3 div.sk-text-repr-fallback {display: none;}</style><div id=\"sk-container-id-3\" class=\"sk-top-container\"><div class=\"sk-text-repr-fallback\"><pre>Lasso(alpha=1)</pre><b>In a Jupyter environment, please rerun this cell to show the HTML representation or trust the notebook. <br />On GitHub, the HTML representation is unable to render, please try loading this page with nbviewer.org.</b></div><div class=\"sk-container\" hidden><div class=\"sk-item\"><div class=\"sk-estimator sk-toggleable\"><input class=\"sk-toggleable__control sk-hidden--visually\" id=\"sk-estimator-id-3\" type=\"checkbox\" checked><label for=\"sk-estimator-id-3\" class=\"sk-toggleable__label sk-toggleable__label-arrow\">Lasso</label><div class=\"sk-toggleable__content\"><pre>Lasso(alpha=1)</pre></div></div></div></div></div>"
            ]
          },
          "metadata": {},
          "execution_count": 44
        }
      ]
    },
    {
      "cell_type": "code",
      "source": [
        "# Let's calcualte rmse on both train and test sets\n",
        "\n",
        "print(f\"RMSE on Train Set: {model_rmse(lasso_model, train_prepared, y_train)}\")\n",
        "\n",
        "print(f\"RMSE on Test Set: {model_rmse(lasso_model, test_prepared, y_test)}\")"
      ],
      "metadata": {
        "colab": {
          "base_uri": "https://localhost:8080/"
        },
        "id": "L-bEbG8g4x4v",
        "outputId": "d226166b-5040-4f94-b877-51627a611aa7"
      },
      "execution_count": null,
      "outputs": [
        {
          "output_type": "stream",
          "name": "stdout",
          "text": [
            "RMSE on Train Set: 80.60883574362036\n",
            "RMSE on Test Set: 85.52220323276879\n"
          ]
        }
      ]
    },
    {
      "cell_type": "code",
      "source": [
        "# Let's try Elastic Net\n",
        "\n",
        "# Initialize ElasticNet model\n",
        "elastic_net = ElasticNet(alpha=1, l1_ratio=0.5)  # l1_ratio corresponds to the mix of L1 and L2\n",
        "\n",
        "# Fit the model\n",
        "elastic_net.fit(train_prepared, y_train)\n"
      ],
      "metadata": {
        "colab": {
          "base_uri": "https://localhost:8080/",
          "height": 75
        },
        "id": "Py0aR5az5MNV",
        "outputId": "b4d9ec63-073d-4322-a45f-3718cb02ae6e"
      },
      "execution_count": null,
      "outputs": [
        {
          "output_type": "execute_result",
          "data": {
            "text/plain": [
              "ElasticNet(alpha=1)"
            ],
            "text/html": [
              "<style>#sk-container-id-4 {color: black;background-color: white;}#sk-container-id-4 pre{padding: 0;}#sk-container-id-4 div.sk-toggleable {background-color: white;}#sk-container-id-4 label.sk-toggleable__label {cursor: pointer;display: block;width: 100%;margin-bottom: 0;padding: 0.3em;box-sizing: border-box;text-align: center;}#sk-container-id-4 label.sk-toggleable__label-arrow:before {content: \"▸\";float: left;margin-right: 0.25em;color: #696969;}#sk-container-id-4 label.sk-toggleable__label-arrow:hover:before {color: black;}#sk-container-id-4 div.sk-estimator:hover label.sk-toggleable__label-arrow:before {color: black;}#sk-container-id-4 div.sk-toggleable__content {max-height: 0;max-width: 0;overflow: hidden;text-align: left;background-color: #f0f8ff;}#sk-container-id-4 div.sk-toggleable__content pre {margin: 0.2em;color: black;border-radius: 0.25em;background-color: #f0f8ff;}#sk-container-id-4 input.sk-toggleable__control:checked~div.sk-toggleable__content {max-height: 200px;max-width: 100%;overflow: auto;}#sk-container-id-4 input.sk-toggleable__control:checked~label.sk-toggleable__label-arrow:before {content: \"▾\";}#sk-container-id-4 div.sk-estimator input.sk-toggleable__control:checked~label.sk-toggleable__label {background-color: #d4ebff;}#sk-container-id-4 div.sk-label input.sk-toggleable__control:checked~label.sk-toggleable__label {background-color: #d4ebff;}#sk-container-id-4 input.sk-hidden--visually {border: 0;clip: rect(1px 1px 1px 1px);clip: rect(1px, 1px, 1px, 1px);height: 1px;margin: -1px;overflow: hidden;padding: 0;position: absolute;width: 1px;}#sk-container-id-4 div.sk-estimator {font-family: monospace;background-color: #f0f8ff;border: 1px dotted black;border-radius: 0.25em;box-sizing: border-box;margin-bottom: 0.5em;}#sk-container-id-4 div.sk-estimator:hover {background-color: #d4ebff;}#sk-container-id-4 div.sk-parallel-item::after {content: \"\";width: 100%;border-bottom: 1px solid gray;flex-grow: 1;}#sk-container-id-4 div.sk-label:hover label.sk-toggleable__label {background-color: #d4ebff;}#sk-container-id-4 div.sk-serial::before {content: \"\";position: absolute;border-left: 1px solid gray;box-sizing: border-box;top: 0;bottom: 0;left: 50%;z-index: 0;}#sk-container-id-4 div.sk-serial {display: flex;flex-direction: column;align-items: center;background-color: white;padding-right: 0.2em;padding-left: 0.2em;position: relative;}#sk-container-id-4 div.sk-item {position: relative;z-index: 1;}#sk-container-id-4 div.sk-parallel {display: flex;align-items: stretch;justify-content: center;background-color: white;position: relative;}#sk-container-id-4 div.sk-item::before, #sk-container-id-4 div.sk-parallel-item::before {content: \"\";position: absolute;border-left: 1px solid gray;box-sizing: border-box;top: 0;bottom: 0;left: 50%;z-index: -1;}#sk-container-id-4 div.sk-parallel-item {display: flex;flex-direction: column;z-index: 1;position: relative;background-color: white;}#sk-container-id-4 div.sk-parallel-item:first-child::after {align-self: flex-end;width: 50%;}#sk-container-id-4 div.sk-parallel-item:last-child::after {align-self: flex-start;width: 50%;}#sk-container-id-4 div.sk-parallel-item:only-child::after {width: 0;}#sk-container-id-4 div.sk-dashed-wrapped {border: 1px dashed gray;margin: 0 0.4em 0.5em 0.4em;box-sizing: border-box;padding-bottom: 0.4em;background-color: white;}#sk-container-id-4 div.sk-label label {font-family: monospace;font-weight: bold;display: inline-block;line-height: 1.2em;}#sk-container-id-4 div.sk-label-container {text-align: center;}#sk-container-id-4 div.sk-container {/* jupyter's `normalize.less` sets `[hidden] { display: none; }` but bootstrap.min.css set `[hidden] { display: none !important; }` so we also need the `!important` here to be able to override the default hidden behavior on the sphinx rendered scikit-learn.org. See: https://github.com/scikit-learn/scikit-learn/issues/21755 */display: inline-block !important;position: relative;}#sk-container-id-4 div.sk-text-repr-fallback {display: none;}</style><div id=\"sk-container-id-4\" class=\"sk-top-container\"><div class=\"sk-text-repr-fallback\"><pre>ElasticNet(alpha=1)</pre><b>In a Jupyter environment, please rerun this cell to show the HTML representation or trust the notebook. <br />On GitHub, the HTML representation is unable to render, please try loading this page with nbviewer.org.</b></div><div class=\"sk-container\" hidden><div class=\"sk-item\"><div class=\"sk-estimator sk-toggleable\"><input class=\"sk-toggleable__control sk-hidden--visually\" id=\"sk-estimator-id-4\" type=\"checkbox\" checked><label for=\"sk-estimator-id-4\" class=\"sk-toggleable__label sk-toggleable__label-arrow\">ElasticNet</label><div class=\"sk-toggleable__content\"><pre>ElasticNet(alpha=1)</pre></div></div></div></div></div>"
            ]
          },
          "metadata": {},
          "execution_count": 46
        }
      ]
    },
    {
      "cell_type": "code",
      "source": [
        "# Let's calcualte rmse on both train and test sets\n",
        "\n",
        "print(f\"RMSE on Train Set: {model_rmse(elastic_net, train_prepared, y_train)}\")\n",
        "\n",
        "print(f\"RMSE on Test Set: {model_rmse(elastic_net, test_prepared, y_test)}\")"
      ],
      "metadata": {
        "colab": {
          "base_uri": "https://localhost:8080/"
        },
        "id": "NuZsC3kd5WKN",
        "outputId": "fcdc13a0-ee2e-4f4a-f7f4-ba1f7e167456"
      },
      "execution_count": null,
      "outputs": [
        {
          "output_type": "stream",
          "name": "stdout",
          "text": [
            "RMSE on Train Set: 101.90347109029065\n",
            "RMSE on Test Set: 109.55665747745131\n"
          ]
        }
      ]
    },
    {
      "cell_type": "code",
      "source": [
        "# Let's try GridSearchCV\n",
        "\n",
        "from sklearn.model_selection import GridSearchCV"
      ],
      "metadata": {
        "id": "LLs0_dDG6Qgr"
      },
      "execution_count": null,
      "outputs": []
    },
    {
      "cell_type": "code",
      "source": [
        "\n",
        "# Define a single pipeline stage with a placeholder estimator\n",
        "pipeline = Pipeline([('estimator', Ridge())])\n",
        "\n",
        "# Define the parameter grid to search\n",
        "param_grid = [\n",
        "    {'estimator': [Ridge()],\n",
        "     'estimator__alpha':  [0.5, 0.75, 1, 1.25, 1.5]}, #since alpha=1 gives good good results\n",
        "    {'estimator': [Lasso()],\n",
        "     'estimator__alpha': [0.5, 0.75, 1, 1.25, 1.5]},\n",
        "    {'estimator': [ElasticNet()],\n",
        "     'estimator__alpha':  [0.5, 0.75, 1, 1.25, 1.5],\n",
        "     'estimator__l1_ratio': [0.2, 0.5, 0.8]}\n",
        "]\n",
        "\n",
        "# Initialize the GridSearchCV object with 5-fold cross-validation\n",
        "grid_search = GridSearchCV(pipeline, param_grid, cv=5, scoring='neg_mean_squared_error', verbose=1)\n",
        "\n",
        "# Fit the GridSearchCV object to the training data\n",
        "grid_search.fit(train_prepared, y_train)\n",
        "\n",
        "# Output the best parameters and the corresponding score\n",
        "print(\"Best parameters:\", grid_search.best_params_)\n",
        "print(\"Best cross-validation score:\", np.sqrt(-grid_search.best_score_))\n",
        "\n",
        "# You can access the best estimator directly\n",
        "best_model = grid_search.best_estimator_.named_steps['estimator']\n"
      ],
      "metadata": {
        "colab": {
          "base_uri": "https://localhost:8080/"
        },
        "id": "-ovq-Xe97CYx",
        "outputId": "1f093917-e8ad-439c-e894-a6883b18ff65"
      },
      "execution_count": null,
      "outputs": [
        {
          "output_type": "stream",
          "name": "stdout",
          "text": [
            "Fitting 5 folds for each of 25 candidates, totalling 125 fits\n",
            "Best parameters: {'estimator': Ridge(alpha=1.5), 'estimator__alpha': 1.5}\n",
            "Best cross-validation score: 78.83275467169146\n"
          ]
        }
      ]
    },
    {
      "cell_type": "code",
      "source": [
        "# Let's calcualte rmse on both train and test sets\n",
        "\n",
        "print(f\"RMSE on Train Set: {model_rmse(best_model, train_prepared, y_train)}\")\n",
        "\n",
        "print(f\"RMSE on Test Set: {model_rmse(best_model, test_prepared, y_test)}\")"
      ],
      "metadata": {
        "colab": {
          "base_uri": "https://localhost:8080/"
        },
        "id": "X5Kp48v_r5Gr",
        "outputId": "7c9ba34e-5762-44d5-e1b0-ff2bedb749ac"
      },
      "execution_count": null,
      "outputs": [
        {
          "output_type": "stream",
          "name": "stdout",
          "text": [
            "RMSE on Train Set: 78.07540845752695\n",
            "RMSE on Test Set: 82.87010966639706\n"
          ]
        }
      ]
    },
    {
      "cell_type": "markdown",
      "source": [
        "Looks promising"
      ],
      "metadata": {
        "id": "XR907S6Ar-E0"
      }
    },
    {
      "cell_type": "markdown",
      "source": [
        "### Decision Trees"
      ],
      "metadata": {
        "id": "Aiv82RGO8LXh"
      }
    },
    {
      "cell_type": "code",
      "source": [
        "from sklearn.tree import DecisionTreeRegressor\n",
        "#use DecisionTreeRegressor to fit the data\n",
        "tree_reg = DecisionTreeRegressor(random_state=42)\n",
        "tree_reg.fit(train_prepared, y_train)"
      ],
      "metadata": {
        "colab": {
          "base_uri": "https://localhost:8080/",
          "height": 75
        },
        "id": "TvSjIo9W8OBD",
        "outputId": "812082c8-dc4a-436b-a217-97d72c8d155a"
      },
      "execution_count": null,
      "outputs": [
        {
          "output_type": "execute_result",
          "data": {
            "text/plain": [
              "DecisionTreeRegressor(random_state=42)"
            ],
            "text/html": [
              "<style>#sk-container-id-5 {color: black;background-color: white;}#sk-container-id-5 pre{padding: 0;}#sk-container-id-5 div.sk-toggleable {background-color: white;}#sk-container-id-5 label.sk-toggleable__label {cursor: pointer;display: block;width: 100%;margin-bottom: 0;padding: 0.3em;box-sizing: border-box;text-align: center;}#sk-container-id-5 label.sk-toggleable__label-arrow:before {content: \"▸\";float: left;margin-right: 0.25em;color: #696969;}#sk-container-id-5 label.sk-toggleable__label-arrow:hover:before {color: black;}#sk-container-id-5 div.sk-estimator:hover label.sk-toggleable__label-arrow:before {color: black;}#sk-container-id-5 div.sk-toggleable__content {max-height: 0;max-width: 0;overflow: hidden;text-align: left;background-color: #f0f8ff;}#sk-container-id-5 div.sk-toggleable__content pre {margin: 0.2em;color: black;border-radius: 0.25em;background-color: #f0f8ff;}#sk-container-id-5 input.sk-toggleable__control:checked~div.sk-toggleable__content {max-height: 200px;max-width: 100%;overflow: auto;}#sk-container-id-5 input.sk-toggleable__control:checked~label.sk-toggleable__label-arrow:before {content: \"▾\";}#sk-container-id-5 div.sk-estimator input.sk-toggleable__control:checked~label.sk-toggleable__label {background-color: #d4ebff;}#sk-container-id-5 div.sk-label input.sk-toggleable__control:checked~label.sk-toggleable__label {background-color: #d4ebff;}#sk-container-id-5 input.sk-hidden--visually {border: 0;clip: rect(1px 1px 1px 1px);clip: rect(1px, 1px, 1px, 1px);height: 1px;margin: -1px;overflow: hidden;padding: 0;position: absolute;width: 1px;}#sk-container-id-5 div.sk-estimator {font-family: monospace;background-color: #f0f8ff;border: 1px dotted black;border-radius: 0.25em;box-sizing: border-box;margin-bottom: 0.5em;}#sk-container-id-5 div.sk-estimator:hover {background-color: #d4ebff;}#sk-container-id-5 div.sk-parallel-item::after {content: \"\";width: 100%;border-bottom: 1px solid gray;flex-grow: 1;}#sk-container-id-5 div.sk-label:hover label.sk-toggleable__label {background-color: #d4ebff;}#sk-container-id-5 div.sk-serial::before {content: \"\";position: absolute;border-left: 1px solid gray;box-sizing: border-box;top: 0;bottom: 0;left: 50%;z-index: 0;}#sk-container-id-5 div.sk-serial {display: flex;flex-direction: column;align-items: center;background-color: white;padding-right: 0.2em;padding-left: 0.2em;position: relative;}#sk-container-id-5 div.sk-item {position: relative;z-index: 1;}#sk-container-id-5 div.sk-parallel {display: flex;align-items: stretch;justify-content: center;background-color: white;position: relative;}#sk-container-id-5 div.sk-item::before, #sk-container-id-5 div.sk-parallel-item::before {content: \"\";position: absolute;border-left: 1px solid gray;box-sizing: border-box;top: 0;bottom: 0;left: 50%;z-index: -1;}#sk-container-id-5 div.sk-parallel-item {display: flex;flex-direction: column;z-index: 1;position: relative;background-color: white;}#sk-container-id-5 div.sk-parallel-item:first-child::after {align-self: flex-end;width: 50%;}#sk-container-id-5 div.sk-parallel-item:last-child::after {align-self: flex-start;width: 50%;}#sk-container-id-5 div.sk-parallel-item:only-child::after {width: 0;}#sk-container-id-5 div.sk-dashed-wrapped {border: 1px dashed gray;margin: 0 0.4em 0.5em 0.4em;box-sizing: border-box;padding-bottom: 0.4em;background-color: white;}#sk-container-id-5 div.sk-label label {font-family: monospace;font-weight: bold;display: inline-block;line-height: 1.2em;}#sk-container-id-5 div.sk-label-container {text-align: center;}#sk-container-id-5 div.sk-container {/* jupyter's `normalize.less` sets `[hidden] { display: none; }` but bootstrap.min.css set `[hidden] { display: none !important; }` so we also need the `!important` here to be able to override the default hidden behavior on the sphinx rendered scikit-learn.org. See: https://github.com/scikit-learn/scikit-learn/issues/21755 */display: inline-block !important;position: relative;}#sk-container-id-5 div.sk-text-repr-fallback {display: none;}</style><div id=\"sk-container-id-5\" class=\"sk-top-container\"><div class=\"sk-text-repr-fallback\"><pre>DecisionTreeRegressor(random_state=42)</pre><b>In a Jupyter environment, please rerun this cell to show the HTML representation or trust the notebook. <br />On GitHub, the HTML representation is unable to render, please try loading this page with nbviewer.org.</b></div><div class=\"sk-container\" hidden><div class=\"sk-item\"><div class=\"sk-estimator sk-toggleable\"><input class=\"sk-toggleable__control sk-hidden--visually\" id=\"sk-estimator-id-5\" type=\"checkbox\" checked><label for=\"sk-estimator-id-5\" class=\"sk-toggleable__label sk-toggleable__label-arrow\">DecisionTreeRegressor</label><div class=\"sk-toggleable__content\"><pre>DecisionTreeRegressor(random_state=42)</pre></div></div></div></div></div>"
            ]
          },
          "metadata": {},
          "execution_count": 51
        }
      ]
    },
    {
      "cell_type": "code",
      "source": [
        "\n",
        "# Let's calcualte rmse on both train and test sets\n",
        "\n",
        "print(f\"RMSE on Train Set: {model_rmse(tree_reg, train_prepared, y_train)}\")\n",
        "\n",
        "print(f\"RMSE on Test Set: {model_rmse(tree_reg, test_prepared, y_test)}\")"
      ],
      "metadata": {
        "colab": {
          "base_uri": "https://localhost:8080/"
        },
        "id": "KFk5fFzV8V6N",
        "outputId": "22739cca-0727-43bb-ea9d-2a35809f9ffe"
      },
      "execution_count": null,
      "outputs": [
        {
          "output_type": "stream",
          "name": "stdout",
          "text": [
            "RMSE on Train Set: 0.0\n",
            "RMSE on Test Set: 104.57754424887902\n"
          ]
        }
      ]
    },
    {
      "cell_type": "markdown",
      "source": [
        "Again, another typical case of Overfitting. Potential Remedies:\n",
        "- More Data\n",
        "- Pruning the tree by controlling parameters such as max_depth, min_samples_split, min_samples_leaf, max_leaf_nodes\n",
        "- Feature Selection\n",
        "- Ensemble Methods such as Random Forest Regressor or Gradient Boosted Trees\n",
        "- Regularization techniques"
      ],
      "metadata": {
        "id": "AOEsvTjG8iUh"
      }
    },
    {
      "cell_type": "code",
      "source": [
        "# Let's try Random Forest Regressor\n",
        "from sklearn.ensemble import RandomForestRegressor\n",
        "#use RandomForestRegressor to fit the data\n",
        "forest_reg = RandomForestRegressor(n_estimators=50, random_state=42) # nominal improvement at n_estimators=100\n",
        "forest_reg.fit(train_prepared, y_train)"
      ],
      "metadata": {
        "colab": {
          "base_uri": "https://localhost:8080/",
          "height": 75
        },
        "id": "64t65sx-99rR",
        "outputId": "b6ad3ad0-8126-479a-ce0a-7d6aacc18383"
      },
      "execution_count": null,
      "outputs": [
        {
          "output_type": "execute_result",
          "data": {
            "text/plain": [
              "RandomForestRegressor(n_estimators=50, random_state=42)"
            ],
            "text/html": [
              "<style>#sk-container-id-12 {color: black;background-color: white;}#sk-container-id-12 pre{padding: 0;}#sk-container-id-12 div.sk-toggleable {background-color: white;}#sk-container-id-12 label.sk-toggleable__label {cursor: pointer;display: block;width: 100%;margin-bottom: 0;padding: 0.3em;box-sizing: border-box;text-align: center;}#sk-container-id-12 label.sk-toggleable__label-arrow:before {content: \"▸\";float: left;margin-right: 0.25em;color: #696969;}#sk-container-id-12 label.sk-toggleable__label-arrow:hover:before {color: black;}#sk-container-id-12 div.sk-estimator:hover label.sk-toggleable__label-arrow:before {color: black;}#sk-container-id-12 div.sk-toggleable__content {max-height: 0;max-width: 0;overflow: hidden;text-align: left;background-color: #f0f8ff;}#sk-container-id-12 div.sk-toggleable__content pre {margin: 0.2em;color: black;border-radius: 0.25em;background-color: #f0f8ff;}#sk-container-id-12 input.sk-toggleable__control:checked~div.sk-toggleable__content {max-height: 200px;max-width: 100%;overflow: auto;}#sk-container-id-12 input.sk-toggleable__control:checked~label.sk-toggleable__label-arrow:before {content: \"▾\";}#sk-container-id-12 div.sk-estimator input.sk-toggleable__control:checked~label.sk-toggleable__label {background-color: #d4ebff;}#sk-container-id-12 div.sk-label input.sk-toggleable__control:checked~label.sk-toggleable__label {background-color: #d4ebff;}#sk-container-id-12 input.sk-hidden--visually {border: 0;clip: rect(1px 1px 1px 1px);clip: rect(1px, 1px, 1px, 1px);height: 1px;margin: -1px;overflow: hidden;padding: 0;position: absolute;width: 1px;}#sk-container-id-12 div.sk-estimator {font-family: monospace;background-color: #f0f8ff;border: 1px dotted black;border-radius: 0.25em;box-sizing: border-box;margin-bottom: 0.5em;}#sk-container-id-12 div.sk-estimator:hover {background-color: #d4ebff;}#sk-container-id-12 div.sk-parallel-item::after {content: \"\";width: 100%;border-bottom: 1px solid gray;flex-grow: 1;}#sk-container-id-12 div.sk-label:hover label.sk-toggleable__label {background-color: #d4ebff;}#sk-container-id-12 div.sk-serial::before {content: \"\";position: absolute;border-left: 1px solid gray;box-sizing: border-box;top: 0;bottom: 0;left: 50%;z-index: 0;}#sk-container-id-12 div.sk-serial {display: flex;flex-direction: column;align-items: center;background-color: white;padding-right: 0.2em;padding-left: 0.2em;position: relative;}#sk-container-id-12 div.sk-item {position: relative;z-index: 1;}#sk-container-id-12 div.sk-parallel {display: flex;align-items: stretch;justify-content: center;background-color: white;position: relative;}#sk-container-id-12 div.sk-item::before, #sk-container-id-12 div.sk-parallel-item::before {content: \"\";position: absolute;border-left: 1px solid gray;box-sizing: border-box;top: 0;bottom: 0;left: 50%;z-index: -1;}#sk-container-id-12 div.sk-parallel-item {display: flex;flex-direction: column;z-index: 1;position: relative;background-color: white;}#sk-container-id-12 div.sk-parallel-item:first-child::after {align-self: flex-end;width: 50%;}#sk-container-id-12 div.sk-parallel-item:last-child::after {align-self: flex-start;width: 50%;}#sk-container-id-12 div.sk-parallel-item:only-child::after {width: 0;}#sk-container-id-12 div.sk-dashed-wrapped {border: 1px dashed gray;margin: 0 0.4em 0.5em 0.4em;box-sizing: border-box;padding-bottom: 0.4em;background-color: white;}#sk-container-id-12 div.sk-label label {font-family: monospace;font-weight: bold;display: inline-block;line-height: 1.2em;}#sk-container-id-12 div.sk-label-container {text-align: center;}#sk-container-id-12 div.sk-container {/* jupyter's `normalize.less` sets `[hidden] { display: none; }` but bootstrap.min.css set `[hidden] { display: none !important; }` so we also need the `!important` here to be able to override the default hidden behavior on the sphinx rendered scikit-learn.org. See: https://github.com/scikit-learn/scikit-learn/issues/21755 */display: inline-block !important;position: relative;}#sk-container-id-12 div.sk-text-repr-fallback {display: none;}</style><div id=\"sk-container-id-12\" class=\"sk-top-container\"><div class=\"sk-text-repr-fallback\"><pre>RandomForestRegressor(n_estimators=50, random_state=42)</pre><b>In a Jupyter environment, please rerun this cell to show the HTML representation or trust the notebook. <br />On GitHub, the HTML representation is unable to render, please try loading this page with nbviewer.org.</b></div><div class=\"sk-container\" hidden><div class=\"sk-item\"><div class=\"sk-estimator sk-toggleable\"><input class=\"sk-toggleable__control sk-hidden--visually\" id=\"sk-estimator-id-12\" type=\"checkbox\" checked><label for=\"sk-estimator-id-12\" class=\"sk-toggleable__label sk-toggleable__label-arrow\">RandomForestRegressor</label><div class=\"sk-toggleable__content\"><pre>RandomForestRegressor(n_estimators=50, random_state=42)</pre></div></div></div></div></div>"
            ]
          },
          "metadata": {},
          "execution_count": 67
        }
      ]
    },
    {
      "cell_type": "code",
      "source": [
        "# Let's calcualte rmse on both train and test sets\n",
        "\n",
        "print(f\"RMSE on Train Set: {model_rmse(forest_reg, train_prepared, y_train)}\")\n",
        "\n",
        "print(f\"RMSE on Test Set: {model_rmse(forest_reg, test_prepared, y_test)}\")"
      ],
      "metadata": {
        "colab": {
          "base_uri": "https://localhost:8080/"
        },
        "id": "Gpz6vRsy-Tz5",
        "outputId": "5742a921-1ad7-4a6a-cad3-2bf81a7a72d7"
      },
      "execution_count": null,
      "outputs": [
        {
          "output_type": "stream",
          "name": "stdout",
          "text": [
            "RMSE on Train Set: 26.92553463283607\n",
            "RMSE on Test Set: 74.89653735710056\n"
          ]
        }
      ]
    },
    {
      "cell_type": "markdown",
      "source": [
        "n_estimators=10\n",
        "RMSE on Train Set: 31.718261443984613\n",
        "RMSE on Test Set: 77.62235333074545\n",
        "\n",
        "\n",
        "---\n",
        "\n",
        "n_estimators=20\n",
        "RMSE on Train Set: 28.876931324011082\n",
        "RMSE on Test Set: 75.87533833551926\n",
        "\n",
        "---\n",
        "\n",
        "\n"
      ],
      "metadata": {
        "id": "B3Stwq5SZ-nI"
      }
    },
    {
      "cell_type": "markdown",
      "source": [
        " Is this also a case of Overfitting? Yes, it still is overfitting. The ideal rmse of train and test set should have small gap."
      ],
      "metadata": {
        "id": "Zd0v-nQ0-YEZ"
      }
    },
    {
      "cell_type": "code",
      "source": [
        "#display the mean score and its standard deviation\n",
        "def display_scores(scores):\n",
        "    print(\"Scores:\", scores)\n",
        "    print(\"Mean:\", scores.mean())\n",
        "    print(\"Standard deviation:\", scores.std())"
      ],
      "metadata": {
        "id": "Vh-IhYmM-_Cu"
      },
      "execution_count": null,
      "outputs": []
    },
    {
      "cell_type": "code",
      "source": [
        "from sklearn.model_selection import cross_val_score\n",
        "#display the scores of RandomForestRegressor using cross validation\n",
        "forest_scores = cross_val_score(forest_reg, train_prepared, y_train,\n",
        "                                scoring=\"neg_mean_squared_error\", cv=10)\n",
        "forest_rmse_scores = np.sqrt(-forest_scores)\n",
        "display_scores(forest_rmse_scores)"
      ],
      "metadata": {
        "colab": {
          "base_uri": "https://localhost:8080/"
        },
        "id": "Faz8GD1N-X0y",
        "outputId": "e54e14a7-a6d5-42d7-90cf-5c271c4f25ab"
      },
      "execution_count": null,
      "outputs": [
        {
          "output_type": "stream",
          "name": "stdout",
          "text": [
            "Scores: [78.73705598 66.6758205  72.87790662 73.66339587 73.63493032 73.13109314\n",
            " 74.99931454 80.75299347 68.38759457 80.72553844]\n",
            "Mean: 74.35856434538275\n",
            "Standard deviation: 4.476514314535095\n"
          ]
        }
      ]
    },
    {
      "cell_type": "code",
      "source": [
        "# Adjust these parameters to combat overfitting\n",
        "forest_reg = RandomForestRegressor(n_estimators=50,    # Consider testing with 200, 300, etc.\n",
        "                           max_depth=10,        # Try None, 5, 10, 20, etc.\n",
        "                           min_samples_split=2, # Can be increased to require more samples to split a node\n",
        "                           min_samples_leaf=1,  # Can be increased to require more samples at a leaf node\n",
        "                           #max_features='auto', # Can be set to 'sqrt' or a fraction of features\n",
        "                           bootstrap=True,      # Default is True; setting to False uses the whole dataset\n",
        "                           random_state=42)\n",
        "\n",
        "forest_reg.fit(train_prepared, y_train)\n",
        "\n",
        "# Let's calcualte rmse on both train and test sets\n",
        "\n",
        "print(f\"RMSE on Train Set: {model_rmse(forest_reg, train_prepared, y_train)}\")\n",
        "\n",
        "print(f\"RMSE on Test Set: {model_rmse(forest_reg, test_prepared, y_test)}\")\n"
      ],
      "metadata": {
        "id": "EzGgcajx_ZPY",
        "colab": {
          "base_uri": "https://localhost:8080/"
        },
        "outputId": "e49a7dd2-f65c-4177-94f9-99c6a89e53be"
      },
      "execution_count": null,
      "outputs": [
        {
          "output_type": "stream",
          "name": "stderr",
          "text": [
            "/usr/local/lib/python3.10/dist-packages/sklearn/ensemble/_forest.py:413: FutureWarning: `max_features='auto'` has been deprecated in 1.1 and will be removed in 1.3. To keep the past behaviour, explicitly set `max_features=1.0` or remove this parameter as it is also the default value for RandomForestRegressors and ExtraTreesRegressors.\n",
            "  warn(\n"
          ]
        },
        {
          "output_type": "stream",
          "name": "stdout",
          "text": [
            "RMSE on Train Set: 49.23930056043469\n",
            "RMSE on Test Set: 76.02725087086276\n"
          ]
        }
      ]
    },
    {
      "cell_type": "code",
      "source": [
        "#Let's use GridSearchCV for parameter tuning\n",
        "param_grid = {\n",
        "    'n_estimators': [40, 50, 100],\n",
        "    'max_depth': [None, 10, 20],\n",
        "    'min_samples_split': [2, 5],\n",
        "    'min_samples_leaf': [1, 2],\n",
        "    #'max_features': ['auto', 'sqrt']\n",
        "}\n",
        "\n",
        "grid_search = GridSearchCV(estimator=RandomForestRegressor(random_state=42), param_grid=param_grid, cv=3, n_jobs=-1, scoring='neg_mean_squared_error')\n",
        "grid_search.fit(train_prepared, y_train)\n"
      ],
      "metadata": {
        "colab": {
          "base_uri": "https://localhost:8080/",
          "height": 118
        },
        "id": "5CGCDarqb6_P",
        "outputId": "d9b11868-a178-41c2-b315-edd4688f32fc"
      },
      "execution_count": null,
      "outputs": [
        {
          "output_type": "execute_result",
          "data": {
            "text/plain": [
              "GridSearchCV(cv=3, estimator=RandomForestRegressor(random_state=42), n_jobs=-1,\n",
              "             param_grid={'max_depth': [None, 10, 20],\n",
              "                         'min_samples_leaf': [1, 2],\n",
              "                         'min_samples_split': [2, 5],\n",
              "                         'n_estimators': [40, 50, 100]},\n",
              "             scoring='neg_mean_squared_error')"
            ],
            "text/html": [
              "<style>#sk-container-id-13 {color: black;background-color: white;}#sk-container-id-13 pre{padding: 0;}#sk-container-id-13 div.sk-toggleable {background-color: white;}#sk-container-id-13 label.sk-toggleable__label {cursor: pointer;display: block;width: 100%;margin-bottom: 0;padding: 0.3em;box-sizing: border-box;text-align: center;}#sk-container-id-13 label.sk-toggleable__label-arrow:before {content: \"▸\";float: left;margin-right: 0.25em;color: #696969;}#sk-container-id-13 label.sk-toggleable__label-arrow:hover:before {color: black;}#sk-container-id-13 div.sk-estimator:hover label.sk-toggleable__label-arrow:before {color: black;}#sk-container-id-13 div.sk-toggleable__content {max-height: 0;max-width: 0;overflow: hidden;text-align: left;background-color: #f0f8ff;}#sk-container-id-13 div.sk-toggleable__content pre {margin: 0.2em;color: black;border-radius: 0.25em;background-color: #f0f8ff;}#sk-container-id-13 input.sk-toggleable__control:checked~div.sk-toggleable__content {max-height: 200px;max-width: 100%;overflow: auto;}#sk-container-id-13 input.sk-toggleable__control:checked~label.sk-toggleable__label-arrow:before {content: \"▾\";}#sk-container-id-13 div.sk-estimator input.sk-toggleable__control:checked~label.sk-toggleable__label {background-color: #d4ebff;}#sk-container-id-13 div.sk-label input.sk-toggleable__control:checked~label.sk-toggleable__label {background-color: #d4ebff;}#sk-container-id-13 input.sk-hidden--visually {border: 0;clip: rect(1px 1px 1px 1px);clip: rect(1px, 1px, 1px, 1px);height: 1px;margin: -1px;overflow: hidden;padding: 0;position: absolute;width: 1px;}#sk-container-id-13 div.sk-estimator {font-family: monospace;background-color: #f0f8ff;border: 1px dotted black;border-radius: 0.25em;box-sizing: border-box;margin-bottom: 0.5em;}#sk-container-id-13 div.sk-estimator:hover {background-color: #d4ebff;}#sk-container-id-13 div.sk-parallel-item::after {content: \"\";width: 100%;border-bottom: 1px solid gray;flex-grow: 1;}#sk-container-id-13 div.sk-label:hover label.sk-toggleable__label {background-color: #d4ebff;}#sk-container-id-13 div.sk-serial::before {content: \"\";position: absolute;border-left: 1px solid gray;box-sizing: border-box;top: 0;bottom: 0;left: 50%;z-index: 0;}#sk-container-id-13 div.sk-serial {display: flex;flex-direction: column;align-items: center;background-color: white;padding-right: 0.2em;padding-left: 0.2em;position: relative;}#sk-container-id-13 div.sk-item {position: relative;z-index: 1;}#sk-container-id-13 div.sk-parallel {display: flex;align-items: stretch;justify-content: center;background-color: white;position: relative;}#sk-container-id-13 div.sk-item::before, #sk-container-id-13 div.sk-parallel-item::before {content: \"\";position: absolute;border-left: 1px solid gray;box-sizing: border-box;top: 0;bottom: 0;left: 50%;z-index: -1;}#sk-container-id-13 div.sk-parallel-item {display: flex;flex-direction: column;z-index: 1;position: relative;background-color: white;}#sk-container-id-13 div.sk-parallel-item:first-child::after {align-self: flex-end;width: 50%;}#sk-container-id-13 div.sk-parallel-item:last-child::after {align-self: flex-start;width: 50%;}#sk-container-id-13 div.sk-parallel-item:only-child::after {width: 0;}#sk-container-id-13 div.sk-dashed-wrapped {border: 1px dashed gray;margin: 0 0.4em 0.5em 0.4em;box-sizing: border-box;padding-bottom: 0.4em;background-color: white;}#sk-container-id-13 div.sk-label label {font-family: monospace;font-weight: bold;display: inline-block;line-height: 1.2em;}#sk-container-id-13 div.sk-label-container {text-align: center;}#sk-container-id-13 div.sk-container {/* jupyter's `normalize.less` sets `[hidden] { display: none; }` but bootstrap.min.css set `[hidden] { display: none !important; }` so we also need the `!important` here to be able to override the default hidden behavior on the sphinx rendered scikit-learn.org. See: https://github.com/scikit-learn/scikit-learn/issues/21755 */display: inline-block !important;position: relative;}#sk-container-id-13 div.sk-text-repr-fallback {display: none;}</style><div id=\"sk-container-id-13\" class=\"sk-top-container\"><div class=\"sk-text-repr-fallback\"><pre>GridSearchCV(cv=3, estimator=RandomForestRegressor(random_state=42), n_jobs=-1,\n",
              "             param_grid={&#x27;max_depth&#x27;: [None, 10, 20],\n",
              "                         &#x27;min_samples_leaf&#x27;: [1, 2],\n",
              "                         &#x27;min_samples_split&#x27;: [2, 5],\n",
              "                         &#x27;n_estimators&#x27;: [40, 50, 100]},\n",
              "             scoring=&#x27;neg_mean_squared_error&#x27;)</pre><b>In a Jupyter environment, please rerun this cell to show the HTML representation or trust the notebook. <br />On GitHub, the HTML representation is unable to render, please try loading this page with nbviewer.org.</b></div><div class=\"sk-container\" hidden><div class=\"sk-item sk-dashed-wrapped\"><div class=\"sk-label-container\"><div class=\"sk-label sk-toggleable\"><input class=\"sk-toggleable__control sk-hidden--visually\" id=\"sk-estimator-id-13\" type=\"checkbox\" ><label for=\"sk-estimator-id-13\" class=\"sk-toggleable__label sk-toggleable__label-arrow\">GridSearchCV</label><div class=\"sk-toggleable__content\"><pre>GridSearchCV(cv=3, estimator=RandomForestRegressor(random_state=42), n_jobs=-1,\n",
              "             param_grid={&#x27;max_depth&#x27;: [None, 10, 20],\n",
              "                         &#x27;min_samples_leaf&#x27;: [1, 2],\n",
              "                         &#x27;min_samples_split&#x27;: [2, 5],\n",
              "                         &#x27;n_estimators&#x27;: [40, 50, 100]},\n",
              "             scoring=&#x27;neg_mean_squared_error&#x27;)</pre></div></div></div><div class=\"sk-parallel\"><div class=\"sk-parallel-item\"><div class=\"sk-item\"><div class=\"sk-label-container\"><div class=\"sk-label sk-toggleable\"><input class=\"sk-toggleable__control sk-hidden--visually\" id=\"sk-estimator-id-14\" type=\"checkbox\" ><label for=\"sk-estimator-id-14\" class=\"sk-toggleable__label sk-toggleable__label-arrow\">estimator: RandomForestRegressor</label><div class=\"sk-toggleable__content\"><pre>RandomForestRegressor(random_state=42)</pre></div></div></div><div class=\"sk-serial\"><div class=\"sk-item\"><div class=\"sk-estimator sk-toggleable\"><input class=\"sk-toggleable__control sk-hidden--visually\" id=\"sk-estimator-id-15\" type=\"checkbox\" ><label for=\"sk-estimator-id-15\" class=\"sk-toggleable__label sk-toggleable__label-arrow\">RandomForestRegressor</label><div class=\"sk-toggleable__content\"><pre>RandomForestRegressor(random_state=42)</pre></div></div></div></div></div></div></div></div></div></div>"
            ]
          },
          "metadata": {},
          "execution_count": 70
        }
      ]
    },
    {
      "cell_type": "code",
      "source": [
        "# Output the best parameters and the corresponding score\n",
        "print(\"Best parameters:\", grid_search.best_params_)\n",
        "print(\"Best cross-validation score:\", np.sqrt(-grid_search.best_score_))\n",
        "\n",
        "# You can access the best estimator directly\n",
        "best_model = grid_search.best_estimator_\n",
        "\n"
      ],
      "metadata": {
        "colab": {
          "base_uri": "https://localhost:8080/"
        },
        "id": "Kl1lwCjactOF",
        "outputId": "73582eb1-b2ac-4dc4-c4bc-483df8aa7bea"
      },
      "execution_count": null,
      "outputs": [
        {
          "output_type": "stream",
          "name": "stdout",
          "text": [
            "Best parameters: {'max_depth': None, 'min_samples_leaf': 2, 'min_samples_split': 2, 'n_estimators': 100}\n",
            "Best cross-validation score: 71.50189753591259\n"
          ]
        }
      ]
    },
    {
      "cell_type": "code",
      "source": [
        "# Let's calcualte rmse on both train and test sets\n",
        "\n",
        "print(f\"RMSE on Train Set: {model_rmse(best_model, train_prepared, y_train)}\")\n",
        "\n",
        "print(f\"RMSE on Test Set: {model_rmse(best_model, test_prepared, y_test)}\")"
      ],
      "metadata": {
        "colab": {
          "base_uri": "https://localhost:8080/"
        },
        "id": "3K-WR1qxc7g_",
        "outputId": "76cebedd-519c-46b7-b369-f65bc8ebf115"
      },
      "execution_count": null,
      "outputs": [
        {
          "output_type": "stream",
          "name": "stdout",
          "text": [
            "RMSE on Train Set: 33.283517567344916\n",
            "RMSE on Test Set: 74.43852040697696\n"
          ]
        }
      ]
    },
    {
      "cell_type": "code",
      "source": [
        "# Let's try again with diff values\n",
        "\n",
        "param_grid = {\n",
        "    # 'n_estimators': [40, 50, 100],\n",
        "    'max_depth': [None, 50, 60],\n",
        "    'min_samples_split': [4, 6],\n",
        "    'min_samples_leaf': [2, 3],\n",
        "    'max_features': [0.1, 0.5, 1],\n",
        "    'min_impurity_decrease':[0.0, 0.01, 0.1, 0.5]\n",
        "}\n",
        "\n",
        "grid_search = GridSearchCV(estimator=RandomForestRegressor(n_estimators=100, random_state=42), param_grid=param_grid, cv=3, n_jobs=-1, scoring='neg_mean_squared_error')\n",
        "grid_search.fit(train_prepared, y_train)\n"
      ],
      "metadata": {
        "colab": {
          "base_uri": "https://localhost:8080/",
          "height": 118
        },
        "id": "VPaOGMm6f3Pv",
        "outputId": "f50e9969-adc9-4f07-e06d-e77f1e0a758b"
      },
      "execution_count": null,
      "outputs": [
        {
          "output_type": "execute_result",
          "data": {
            "text/plain": [
              "GridSearchCV(cv=3, estimator=RandomForestRegressor(random_state=42), n_jobs=-1,\n",
              "             param_grid={'max_depth': [None, 50, 60],\n",
              "                         'max_features': [0.1, 0.5, 1],\n",
              "                         'min_impurity_decrease': [0.0, 0.01, 0.1, 0.5],\n",
              "                         'min_samples_leaf': [2, 3],\n",
              "                         'min_samples_split': [4, 6]},\n",
              "             scoring='neg_mean_squared_error')"
            ],
            "text/html": [
              "<style>#sk-container-id-15 {color: black;background-color: white;}#sk-container-id-15 pre{padding: 0;}#sk-container-id-15 div.sk-toggleable {background-color: white;}#sk-container-id-15 label.sk-toggleable__label {cursor: pointer;display: block;width: 100%;margin-bottom: 0;padding: 0.3em;box-sizing: border-box;text-align: center;}#sk-container-id-15 label.sk-toggleable__label-arrow:before {content: \"▸\";float: left;margin-right: 0.25em;color: #696969;}#sk-container-id-15 label.sk-toggleable__label-arrow:hover:before {color: black;}#sk-container-id-15 div.sk-estimator:hover label.sk-toggleable__label-arrow:before {color: black;}#sk-container-id-15 div.sk-toggleable__content {max-height: 0;max-width: 0;overflow: hidden;text-align: left;background-color: #f0f8ff;}#sk-container-id-15 div.sk-toggleable__content pre {margin: 0.2em;color: black;border-radius: 0.25em;background-color: #f0f8ff;}#sk-container-id-15 input.sk-toggleable__control:checked~div.sk-toggleable__content {max-height: 200px;max-width: 100%;overflow: auto;}#sk-container-id-15 input.sk-toggleable__control:checked~label.sk-toggleable__label-arrow:before {content: \"▾\";}#sk-container-id-15 div.sk-estimator input.sk-toggleable__control:checked~label.sk-toggleable__label {background-color: #d4ebff;}#sk-container-id-15 div.sk-label input.sk-toggleable__control:checked~label.sk-toggleable__label {background-color: #d4ebff;}#sk-container-id-15 input.sk-hidden--visually {border: 0;clip: rect(1px 1px 1px 1px);clip: rect(1px, 1px, 1px, 1px);height: 1px;margin: -1px;overflow: hidden;padding: 0;position: absolute;width: 1px;}#sk-container-id-15 div.sk-estimator {font-family: monospace;background-color: #f0f8ff;border: 1px dotted black;border-radius: 0.25em;box-sizing: border-box;margin-bottom: 0.5em;}#sk-container-id-15 div.sk-estimator:hover {background-color: #d4ebff;}#sk-container-id-15 div.sk-parallel-item::after {content: \"\";width: 100%;border-bottom: 1px solid gray;flex-grow: 1;}#sk-container-id-15 div.sk-label:hover label.sk-toggleable__label {background-color: #d4ebff;}#sk-container-id-15 div.sk-serial::before {content: \"\";position: absolute;border-left: 1px solid gray;box-sizing: border-box;top: 0;bottom: 0;left: 50%;z-index: 0;}#sk-container-id-15 div.sk-serial {display: flex;flex-direction: column;align-items: center;background-color: white;padding-right: 0.2em;padding-left: 0.2em;position: relative;}#sk-container-id-15 div.sk-item {position: relative;z-index: 1;}#sk-container-id-15 div.sk-parallel {display: flex;align-items: stretch;justify-content: center;background-color: white;position: relative;}#sk-container-id-15 div.sk-item::before, #sk-container-id-15 div.sk-parallel-item::before {content: \"\";position: absolute;border-left: 1px solid gray;box-sizing: border-box;top: 0;bottom: 0;left: 50%;z-index: -1;}#sk-container-id-15 div.sk-parallel-item {display: flex;flex-direction: column;z-index: 1;position: relative;background-color: white;}#sk-container-id-15 div.sk-parallel-item:first-child::after {align-self: flex-end;width: 50%;}#sk-container-id-15 div.sk-parallel-item:last-child::after {align-self: flex-start;width: 50%;}#sk-container-id-15 div.sk-parallel-item:only-child::after {width: 0;}#sk-container-id-15 div.sk-dashed-wrapped {border: 1px dashed gray;margin: 0 0.4em 0.5em 0.4em;box-sizing: border-box;padding-bottom: 0.4em;background-color: white;}#sk-container-id-15 div.sk-label label {font-family: monospace;font-weight: bold;display: inline-block;line-height: 1.2em;}#sk-container-id-15 div.sk-label-container {text-align: center;}#sk-container-id-15 div.sk-container {/* jupyter's `normalize.less` sets `[hidden] { display: none; }` but bootstrap.min.css set `[hidden] { display: none !important; }` so we also need the `!important` here to be able to override the default hidden behavior on the sphinx rendered scikit-learn.org. See: https://github.com/scikit-learn/scikit-learn/issues/21755 */display: inline-block !important;position: relative;}#sk-container-id-15 div.sk-text-repr-fallback {display: none;}</style><div id=\"sk-container-id-15\" class=\"sk-top-container\"><div class=\"sk-text-repr-fallback\"><pre>GridSearchCV(cv=3, estimator=RandomForestRegressor(random_state=42), n_jobs=-1,\n",
              "             param_grid={&#x27;max_depth&#x27;: [None, 50, 60],\n",
              "                         &#x27;max_features&#x27;: [0.1, 0.5, 1],\n",
              "                         &#x27;min_impurity_decrease&#x27;: [0.0, 0.01, 0.1, 0.5],\n",
              "                         &#x27;min_samples_leaf&#x27;: [2, 3],\n",
              "                         &#x27;min_samples_split&#x27;: [4, 6]},\n",
              "             scoring=&#x27;neg_mean_squared_error&#x27;)</pre><b>In a Jupyter environment, please rerun this cell to show the HTML representation or trust the notebook. <br />On GitHub, the HTML representation is unable to render, please try loading this page with nbviewer.org.</b></div><div class=\"sk-container\" hidden><div class=\"sk-item sk-dashed-wrapped\"><div class=\"sk-label-container\"><div class=\"sk-label sk-toggleable\"><input class=\"sk-toggleable__control sk-hidden--visually\" id=\"sk-estimator-id-19\" type=\"checkbox\" ><label for=\"sk-estimator-id-19\" class=\"sk-toggleable__label sk-toggleable__label-arrow\">GridSearchCV</label><div class=\"sk-toggleable__content\"><pre>GridSearchCV(cv=3, estimator=RandomForestRegressor(random_state=42), n_jobs=-1,\n",
              "             param_grid={&#x27;max_depth&#x27;: [None, 50, 60],\n",
              "                         &#x27;max_features&#x27;: [0.1, 0.5, 1],\n",
              "                         &#x27;min_impurity_decrease&#x27;: [0.0, 0.01, 0.1, 0.5],\n",
              "                         &#x27;min_samples_leaf&#x27;: [2, 3],\n",
              "                         &#x27;min_samples_split&#x27;: [4, 6]},\n",
              "             scoring=&#x27;neg_mean_squared_error&#x27;)</pre></div></div></div><div class=\"sk-parallel\"><div class=\"sk-parallel-item\"><div class=\"sk-item\"><div class=\"sk-label-container\"><div class=\"sk-label sk-toggleable\"><input class=\"sk-toggleable__control sk-hidden--visually\" id=\"sk-estimator-id-20\" type=\"checkbox\" ><label for=\"sk-estimator-id-20\" class=\"sk-toggleable__label sk-toggleable__label-arrow\">estimator: RandomForestRegressor</label><div class=\"sk-toggleable__content\"><pre>RandomForestRegressor(random_state=42)</pre></div></div></div><div class=\"sk-serial\"><div class=\"sk-item\"><div class=\"sk-estimator sk-toggleable\"><input class=\"sk-toggleable__control sk-hidden--visually\" id=\"sk-estimator-id-21\" type=\"checkbox\" ><label for=\"sk-estimator-id-21\" class=\"sk-toggleable__label sk-toggleable__label-arrow\">RandomForestRegressor</label><div class=\"sk-toggleable__content\"><pre>RandomForestRegressor(random_state=42)</pre></div></div></div></div></div></div></div></div></div></div>"
            ]
          },
          "metadata": {},
          "execution_count": 79
        }
      ]
    },
    {
      "cell_type": "code",
      "source": [
        "# Output the best parameters and the corresponding score\n",
        "print(\"Best parameters:\", grid_search.best_params_)\n",
        "print(\"Best cross-validation score:\", np.sqrt(-grid_search.best_score_))\n",
        "\n",
        "# You can access the best estimator directly\n",
        "best_model = grid_search.best_estimator_\n",
        "\n",
        "# Let's calcualte rmse on both train and test sets\n",
        "\n",
        "print(f\"RMSE on Train Set: {model_rmse(best_model, train_prepared, y_train)}\")\n",
        "\n",
        "print(f\"RMSE on Test Set: {model_rmse(best_model, test_prepared, y_test)}\")"
      ],
      "metadata": {
        "colab": {
          "base_uri": "https://localhost:8080/"
        },
        "id": "fGhLGl4sgqLQ",
        "outputId": "b1050cc3-959f-425f-ace7-e27ed876489d"
      },
      "execution_count": null,
      "outputs": [
        {
          "output_type": "stream",
          "name": "stdout",
          "text": [
            "Best parameters: {'max_depth': None, 'max_features': 0.5, 'min_impurity_decrease': 0.1, 'min_samples_leaf': 2, 'min_samples_split': 4}\n",
            "Best cross-validation score: 71.02766779158347\n",
            "RMSE on Train Set: 34.93482693906558\n",
            "RMSE on Test Set: 74.73303184348882\n"
          ]
        }
      ]
    },
    {
      "cell_type": "markdown",
      "source": [
        "Let's compute confidence Interval for the test rmse"
      ],
      "metadata": {
        "id": "g4Vh9o0rnRRk"
      }
    },
    {
      "cell_type": "code",
      "source": [
        "from scipy import stats"
      ],
      "metadata": {
        "id": "GZa7fAHDnZrz"
      },
      "execution_count": null,
      "outputs": []
    },
    {
      "cell_type": "code",
      "source": [
        "confidence = 0.95\n",
        "final_predictions = best_model.predict(test_prepared)\n",
        "squared_errors = (final_predictions - y_test) ** 2\n",
        "mean = squared_errors.mean()\n",
        "m = len(squared_errors)\n",
        "#this interval assumes the score is a Student’s t continuous random variable\n",
        "np.sqrt(stats.t.interval(confidence, m - 1,\n",
        "                         loc=np.mean(squared_errors),\n",
        "                         scale=stats.sem(squared_errors)))"
      ],
      "metadata": {
        "colab": {
          "base_uri": "https://localhost:8080/"
        },
        "id": "4vftoAq-nYLS",
        "outputId": "ca8cbb27-f0eb-44be-8321-6836e3c4c9c9"
      },
      "execution_count": null,
      "outputs": [
        {
          "output_type": "execute_result",
          "data": {
            "text/plain": [
              "array([70.27277055, 78.94168617])"
            ]
          },
          "metadata": {},
          "execution_count": 82
        }
      ]
    },
    {
      "cell_type": "markdown",
      "source": [
        "### SVR"
      ],
      "metadata": {
        "id": "9WNBV_s7qEsM"
      }
    },
    {
      "cell_type": "code",
      "source": [
        "from sklearn.svm import SVR"
      ],
      "metadata": {
        "id": "ziLAHa0GqF_5"
      },
      "execution_count": null,
      "outputs": []
    },
    {
      "cell_type": "markdown",
      "source": [
        "Tune using RBF"
      ],
      "metadata": {
        "id": "NZZKS61Q13W1"
      }
    },
    {
      "cell_type": "code",
      "source": [
        "param_grid = {\n",
        "    'kernel':['rbf'],\n",
        "    'C': [ i for i in range(8100,8500, 50)],\n",
        "    'epsilon': [i for i in range (35, 47, 2)]\n",
        "}\n",
        "\n",
        "VectorRegressor = SVR(kernel='rbf',gamma='auto')\n",
        "\n",
        "grid_search = GridSearchCV(estimator=VectorRegressor, param_grid=param_grid, cv=3, scoring='neg_mean_squared_error', verbose=1)\n",
        "grid_search.fit(train_prepared, y_train)"
      ],
      "metadata": {
        "colab": {
          "base_uri": "https://localhost:8080/",
          "height": 1000
        },
        "id": "tbdUIYcEqKaB",
        "outputId": "09743b4c-c851-42cb-fd61-6d53dcdfa3e6"
      },
      "execution_count": null,
      "outputs": [
        {
          "output_type": "stream",
          "name": "stdout",
          "text": [
            "Fitting 3 folds for each of 48 candidates, totalling 144 fits\n",
            "[CV] END .....................C=8100, epsilon=35, kernel=rbf; total time=   6.5s\n",
            "[CV] END .....................C=8100, epsilon=35, kernel=rbf; total time=   5.9s\n",
            "[CV] END .....................C=8100, epsilon=35, kernel=rbf; total time=   7.7s\n",
            "[CV] END .....................C=8100, epsilon=37, kernel=rbf; total time=   5.7s\n",
            "[CV] END .....................C=8100, epsilon=37, kernel=rbf; total time=   6.7s\n",
            "[CV] END .....................C=8100, epsilon=37, kernel=rbf; total time=   5.3s\n",
            "[CV] END .....................C=8100, epsilon=39, kernel=rbf; total time=   6.2s\n",
            "[CV] END .....................C=8100, epsilon=39, kernel=rbf; total time=   5.7s\n",
            "[CV] END .....................C=8100, epsilon=39, kernel=rbf; total time=   5.7s\n",
            "[CV] END .....................C=8100, epsilon=41, kernel=rbf; total time=   5.6s\n",
            "[CV] END .....................C=8100, epsilon=41, kernel=rbf; total time=   5.2s\n",
            "[CV] END .....................C=8100, epsilon=41, kernel=rbf; total time=   6.0s\n",
            "[CV] END .....................C=8100, epsilon=43, kernel=rbf; total time=   5.7s\n",
            "[CV] END .....................C=8100, epsilon=43, kernel=rbf; total time=   5.9s\n",
            "[CV] END .....................C=8100, epsilon=43, kernel=rbf; total time=   4.6s\n",
            "[CV] END .....................C=8100, epsilon=45, kernel=rbf; total time=   5.5s\n",
            "[CV] END .....................C=8100, epsilon=45, kernel=rbf; total time=   6.0s\n",
            "[CV] END .....................C=8100, epsilon=45, kernel=rbf; total time=   4.3s\n",
            "[CV] END .....................C=8150, epsilon=35, kernel=rbf; total time=   6.6s\n",
            "[CV] END .....................C=8150, epsilon=35, kernel=rbf; total time=   5.7s\n",
            "[CV] END .....................C=8150, epsilon=35, kernel=rbf; total time=   6.9s\n",
            "[CV] END .....................C=8150, epsilon=37, kernel=rbf; total time=   6.0s\n",
            "[CV] END .....................C=8150, epsilon=37, kernel=rbf; total time=   6.7s\n",
            "[CV] END .....................C=8150, epsilon=37, kernel=rbf; total time=   6.0s\n",
            "[CV] END .....................C=8150, epsilon=39, kernel=rbf; total time=   6.1s\n",
            "[CV] END .....................C=8150, epsilon=39, kernel=rbf; total time=   5.6s\n",
            "[CV] END .....................C=8150, epsilon=39, kernel=rbf; total time=   6.1s\n",
            "[CV] END .....................C=8150, epsilon=41, kernel=rbf; total time=   5.3s\n",
            "[CV] END .....................C=8150, epsilon=41, kernel=rbf; total time=   6.2s\n",
            "[CV] END .....................C=8150, epsilon=41, kernel=rbf; total time=   5.8s\n",
            "[CV] END .....................C=8150, epsilon=43, kernel=rbf; total time=   6.1s\n",
            "[CV] END .....................C=8150, epsilon=43, kernel=rbf; total time=   6.1s\n",
            "[CV] END .....................C=8150, epsilon=43, kernel=rbf; total time=   5.6s\n",
            "[CV] END .....................C=8150, epsilon=45, kernel=rbf; total time=   5.2s\n",
            "[CV] END .....................C=8150, epsilon=45, kernel=rbf; total time=   5.6s\n",
            "[CV] END .....................C=8150, epsilon=45, kernel=rbf; total time=   6.0s\n",
            "[CV] END .....................C=8200, epsilon=35, kernel=rbf; total time=   6.2s\n",
            "[CV] END .....................C=8200, epsilon=35, kernel=rbf; total time=   7.2s\n",
            "[CV] END .....................C=8200, epsilon=35, kernel=rbf; total time=   6.8s\n",
            "[CV] END .....................C=8200, epsilon=37, kernel=rbf; total time=   7.4s\n",
            "[CV] END .....................C=8200, epsilon=37, kernel=rbf; total time=   6.5s\n",
            "[CV] END .....................C=8200, epsilon=37, kernel=rbf; total time=   6.5s\n",
            "[CV] END .....................C=8200, epsilon=39, kernel=rbf; total time=   5.1s\n",
            "[CV] END .....................C=8200, epsilon=39, kernel=rbf; total time=   6.1s\n",
            "[CV] END .....................C=8200, epsilon=39, kernel=rbf; total time=   5.1s\n",
            "[CV] END .....................C=8200, epsilon=41, kernel=rbf; total time=   6.3s\n",
            "[CV] END .....................C=8200, epsilon=41, kernel=rbf; total time=   6.0s\n",
            "[CV] END .....................C=8200, epsilon=41, kernel=rbf; total time=   5.6s\n",
            "[CV] END .....................C=8200, epsilon=43, kernel=rbf; total time=   6.0s\n",
            "[CV] END .....................C=8200, epsilon=43, kernel=rbf; total time=   6.1s\n",
            "[CV] END .....................C=8200, epsilon=43, kernel=rbf; total time=   4.7s\n",
            "[CV] END .....................C=8200, epsilon=45, kernel=rbf; total time=   5.4s\n",
            "[CV] END .....................C=8200, epsilon=45, kernel=rbf; total time=   6.5s\n",
            "[CV] END .....................C=8200, epsilon=45, kernel=rbf; total time=   4.5s\n",
            "[CV] END .....................C=8250, epsilon=35, kernel=rbf; total time=   6.4s\n",
            "[CV] END .....................C=8250, epsilon=35, kernel=rbf; total time=   7.1s\n",
            "[CV] END .....................C=8250, epsilon=35, kernel=rbf; total time=   6.4s\n",
            "[CV] END .....................C=8250, epsilon=37, kernel=rbf; total time=   6.4s\n",
            "[CV] END .....................C=8250, epsilon=37, kernel=rbf; total time=   6.6s\n",
            "[CV] END .....................C=8250, epsilon=37, kernel=rbf; total time=   5.2s\n",
            "[CV] END .....................C=8250, epsilon=39, kernel=rbf; total time=   5.7s\n",
            "[CV] END .....................C=8250, epsilon=39, kernel=rbf; total time=   5.1s\n",
            "[CV] END .....................C=8250, epsilon=39, kernel=rbf; total time=   6.0s\n",
            "[CV] END .....................C=8250, epsilon=41, kernel=rbf; total time=   5.2s\n",
            "[CV] END .....................C=8250, epsilon=41, kernel=rbf; total time=   5.7s\n",
            "[CV] END .....................C=8250, epsilon=41, kernel=rbf; total time=   5.7s\n",
            "[CV] END .....................C=8250, epsilon=43, kernel=rbf; total time=   4.8s\n",
            "[CV] END .....................C=8250, epsilon=43, kernel=rbf; total time=   6.6s\n",
            "[CV] END .....................C=8250, epsilon=43, kernel=rbf; total time=   4.8s\n",
            "[CV] END .....................C=8250, epsilon=45, kernel=rbf; total time=   6.0s\n",
            "[CV] END .....................C=8250, epsilon=45, kernel=rbf; total time=   5.0s\n",
            "[CV] END .....................C=8250, epsilon=45, kernel=rbf; total time=   3.9s\n",
            "[CV] END .....................C=8300, epsilon=35, kernel=rbf; total time=   6.9s\n",
            "[CV] END .....................C=8300, epsilon=35, kernel=rbf; total time=   6.9s\n",
            "[CV] END .....................C=8300, epsilon=35, kernel=rbf; total time=   7.2s\n",
            "[CV] END .....................C=8300, epsilon=37, kernel=rbf; total time=   7.1s\n",
            "[CV] END .....................C=8300, epsilon=37, kernel=rbf; total time=   6.8s\n",
            "[CV] END .....................C=8300, epsilon=37, kernel=rbf; total time=   6.4s\n",
            "[CV] END .....................C=8300, epsilon=39, kernel=rbf; total time=   4.9s\n",
            "[CV] END .....................C=8300, epsilon=39, kernel=rbf; total time=   7.2s\n",
            "[CV] END .....................C=8300, epsilon=39, kernel=rbf; total time=   5.0s\n",
            "[CV] END .....................C=8300, epsilon=41, kernel=rbf; total time=   5.2s\n",
            "[CV] END .....................C=8300, epsilon=41, kernel=rbf; total time=   6.2s\n",
            "[CV] END .....................C=8300, epsilon=41, kernel=rbf; total time=   4.9s\n",
            "[CV] END .....................C=8300, epsilon=43, kernel=rbf; total time=   5.7s\n",
            "[CV] END .....................C=8300, epsilon=43, kernel=rbf; total time=   5.0s\n",
            "[CV] END .....................C=8300, epsilon=43, kernel=rbf; total time=   4.4s\n",
            "[CV] END .....................C=8300, epsilon=45, kernel=rbf; total time=   5.6s\n",
            "[CV] END .....................C=8300, epsilon=45, kernel=rbf; total time=   4.7s\n",
            "[CV] END .....................C=8300, epsilon=45, kernel=rbf; total time=   5.6s\n",
            "[CV] END .....................C=8350, epsilon=35, kernel=rbf; total time=   6.3s\n",
            "[CV] END .....................C=8350, epsilon=35, kernel=rbf; total time=   7.8s\n",
            "[CV] END .....................C=8350, epsilon=35, kernel=rbf; total time=   6.3s\n",
            "[CV] END .....................C=8350, epsilon=37, kernel=rbf; total time=   6.7s\n",
            "[CV] END .....................C=8350, epsilon=37, kernel=rbf; total time=   6.2s\n",
            "[CV] END .....................C=8350, epsilon=37, kernel=rbf; total time=   6.7s\n",
            "[CV] END .....................C=8350, epsilon=39, kernel=rbf; total time=   5.1s\n",
            "[CV] END .....................C=8350, epsilon=39, kernel=rbf; total time=   6.1s\n",
            "[CV] END .....................C=8350, epsilon=39, kernel=rbf; total time=   5.4s\n",
            "[CV] END .....................C=8350, epsilon=41, kernel=rbf; total time=   9.7s\n",
            "[CV] END .....................C=8350, epsilon=41, kernel=rbf; total time=   5.4s\n",
            "[CV] END .....................C=8350, epsilon=41, kernel=rbf; total time=   5.2s\n",
            "[CV] END .....................C=8350, epsilon=43, kernel=rbf; total time=   4.6s\n",
            "[CV] END .....................C=8350, epsilon=43, kernel=rbf; total time=   5.3s\n",
            "[CV] END .....................C=8350, epsilon=43, kernel=rbf; total time=   5.1s\n",
            "[CV] END .....................C=8350, epsilon=45, kernel=rbf; total time=   4.7s\n",
            "[CV] END .....................C=8350, epsilon=45, kernel=rbf; total time=   5.6s\n",
            "[CV] END .....................C=8350, epsilon=45, kernel=rbf; total time=   4.0s\n",
            "[CV] END .....................C=8400, epsilon=35, kernel=rbf; total time=   7.5s\n",
            "[CV] END .....................C=8400, epsilon=35, kernel=rbf; total time=   5.6s\n",
            "[CV] END .....................C=8400, epsilon=35, kernel=rbf; total time=   7.9s\n",
            "[CV] END .....................C=8400, epsilon=37, kernel=rbf; total time=   6.6s\n",
            "[CV] END .....................C=8400, epsilon=37, kernel=rbf; total time=   6.1s\n",
            "[CV] END .....................C=8400, epsilon=37, kernel=rbf; total time=   5.3s\n",
            "[CV] END .....................C=8400, epsilon=39, kernel=rbf; total time=   6.3s\n",
            "[CV] END .....................C=8400, epsilon=39, kernel=rbf; total time=   5.4s\n",
            "[CV] END .....................C=8400, epsilon=39, kernel=rbf; total time=   6.5s\n",
            "[CV] END .....................C=8400, epsilon=41, kernel=rbf; total time=   5.2s\n",
            "[CV] END .....................C=8400, epsilon=41, kernel=rbf; total time=   6.1s\n",
            "[CV] END .....................C=8400, epsilon=41, kernel=rbf; total time=   5.0s\n",
            "[CV] END .....................C=8400, epsilon=43, kernel=rbf; total time=   5.1s\n",
            "[CV] END .....................C=8400, epsilon=43, kernel=rbf; total time=   6.1s\n",
            "[CV] END .....................C=8400, epsilon=43, kernel=rbf; total time=   4.8s\n",
            "[CV] END .....................C=8400, epsilon=45, kernel=rbf; total time=   6.1s\n",
            "[CV] END .....................C=8400, epsilon=45, kernel=rbf; total time=   4.9s\n",
            "[CV] END .....................C=8400, epsilon=45, kernel=rbf; total time=   4.9s\n",
            "[CV] END .....................C=8450, epsilon=35, kernel=rbf; total time=   6.8s\n",
            "[CV] END .....................C=8450, epsilon=35, kernel=rbf; total time=   7.9s\n",
            "[CV] END .....................C=8450, epsilon=35, kernel=rbf; total time=   6.9s\n",
            "[CV] END .....................C=8450, epsilon=37, kernel=rbf; total time=   6.6s\n",
            "[CV] END .....................C=8450, epsilon=37, kernel=rbf; total time=   5.9s\n",
            "[CV] END .....................C=8450, epsilon=37, kernel=rbf; total time=   6.5s\n",
            "[CV] END .....................C=8450, epsilon=39, kernel=rbf; total time=   5.0s\n",
            "[CV] END .....................C=8450, epsilon=39, kernel=rbf; total time=   6.1s\n",
            "[CV] END .....................C=8450, epsilon=39, kernel=rbf; total time=   5.7s\n",
            "[CV] END .....................C=8450, epsilon=41, kernel=rbf; total time=   4.7s\n",
            "[CV] END .....................C=8450, epsilon=41, kernel=rbf; total time=   5.8s\n",
            "[CV] END .....................C=8450, epsilon=41, kernel=rbf; total time=   4.4s\n",
            "[CV] END .....................C=8450, epsilon=43, kernel=rbf; total time=   6.0s\n",
            "[CV] END .....................C=8450, epsilon=43, kernel=rbf; total time=   5.1s\n",
            "[CV] END .....................C=8450, epsilon=43, kernel=rbf; total time=   4.2s\n",
            "[CV] END .....................C=8450, epsilon=45, kernel=rbf; total time=   5.5s\n",
            "[CV] END .....................C=8450, epsilon=45, kernel=rbf; total time=   5.0s\n",
            "[CV] END .....................C=8450, epsilon=45, kernel=rbf; total time=   5.9s\n"
          ]
        },
        {
          "output_type": "execute_result",
          "data": {
            "text/plain": [
              "GridSearchCV(cv=3, estimator=SVR(gamma='auto'),\n",
              "             param_grid={'C': [8100, 8150, 8200, 8250, 8300, 8350, 8400, 8450],\n",
              "                         'epsilon': [35, 37, 39, 41, 43, 45],\n",
              "                         'kernel': ['rbf']},\n",
              "             scoring='neg_mean_squared_error', verbose=2)"
            ],
            "text/html": [
              "<style>#sk-container-id-5 {color: black;background-color: white;}#sk-container-id-5 pre{padding: 0;}#sk-container-id-5 div.sk-toggleable {background-color: white;}#sk-container-id-5 label.sk-toggleable__label {cursor: pointer;display: block;width: 100%;margin-bottom: 0;padding: 0.3em;box-sizing: border-box;text-align: center;}#sk-container-id-5 label.sk-toggleable__label-arrow:before {content: \"▸\";float: left;margin-right: 0.25em;color: #696969;}#sk-container-id-5 label.sk-toggleable__label-arrow:hover:before {color: black;}#sk-container-id-5 div.sk-estimator:hover label.sk-toggleable__label-arrow:before {color: black;}#sk-container-id-5 div.sk-toggleable__content {max-height: 0;max-width: 0;overflow: hidden;text-align: left;background-color: #f0f8ff;}#sk-container-id-5 div.sk-toggleable__content pre {margin: 0.2em;color: black;border-radius: 0.25em;background-color: #f0f8ff;}#sk-container-id-5 input.sk-toggleable__control:checked~div.sk-toggleable__content {max-height: 200px;max-width: 100%;overflow: auto;}#sk-container-id-5 input.sk-toggleable__control:checked~label.sk-toggleable__label-arrow:before {content: \"▾\";}#sk-container-id-5 div.sk-estimator input.sk-toggleable__control:checked~label.sk-toggleable__label {background-color: #d4ebff;}#sk-container-id-5 div.sk-label input.sk-toggleable__control:checked~label.sk-toggleable__label {background-color: #d4ebff;}#sk-container-id-5 input.sk-hidden--visually {border: 0;clip: rect(1px 1px 1px 1px);clip: rect(1px, 1px, 1px, 1px);height: 1px;margin: -1px;overflow: hidden;padding: 0;position: absolute;width: 1px;}#sk-container-id-5 div.sk-estimator {font-family: monospace;background-color: #f0f8ff;border: 1px dotted black;border-radius: 0.25em;box-sizing: border-box;margin-bottom: 0.5em;}#sk-container-id-5 div.sk-estimator:hover {background-color: #d4ebff;}#sk-container-id-5 div.sk-parallel-item::after {content: \"\";width: 100%;border-bottom: 1px solid gray;flex-grow: 1;}#sk-container-id-5 div.sk-label:hover label.sk-toggleable__label {background-color: #d4ebff;}#sk-container-id-5 div.sk-serial::before {content: \"\";position: absolute;border-left: 1px solid gray;box-sizing: border-box;top: 0;bottom: 0;left: 50%;z-index: 0;}#sk-container-id-5 div.sk-serial {display: flex;flex-direction: column;align-items: center;background-color: white;padding-right: 0.2em;padding-left: 0.2em;position: relative;}#sk-container-id-5 div.sk-item {position: relative;z-index: 1;}#sk-container-id-5 div.sk-parallel {display: flex;align-items: stretch;justify-content: center;background-color: white;position: relative;}#sk-container-id-5 div.sk-item::before, #sk-container-id-5 div.sk-parallel-item::before {content: \"\";position: absolute;border-left: 1px solid gray;box-sizing: border-box;top: 0;bottom: 0;left: 50%;z-index: -1;}#sk-container-id-5 div.sk-parallel-item {display: flex;flex-direction: column;z-index: 1;position: relative;background-color: white;}#sk-container-id-5 div.sk-parallel-item:first-child::after {align-self: flex-end;width: 50%;}#sk-container-id-5 div.sk-parallel-item:last-child::after {align-self: flex-start;width: 50%;}#sk-container-id-5 div.sk-parallel-item:only-child::after {width: 0;}#sk-container-id-5 div.sk-dashed-wrapped {border: 1px dashed gray;margin: 0 0.4em 0.5em 0.4em;box-sizing: border-box;padding-bottom: 0.4em;background-color: white;}#sk-container-id-5 div.sk-label label {font-family: monospace;font-weight: bold;display: inline-block;line-height: 1.2em;}#sk-container-id-5 div.sk-label-container {text-align: center;}#sk-container-id-5 div.sk-container {/* jupyter's `normalize.less` sets `[hidden] { display: none; }` but bootstrap.min.css set `[hidden] { display: none !important; }` so we also need the `!important` here to be able to override the default hidden behavior on the sphinx rendered scikit-learn.org. See: https://github.com/scikit-learn/scikit-learn/issues/21755 */display: inline-block !important;position: relative;}#sk-container-id-5 div.sk-text-repr-fallback {display: none;}</style><div id=\"sk-container-id-5\" class=\"sk-top-container\"><div class=\"sk-text-repr-fallback\"><pre>GridSearchCV(cv=3, estimator=SVR(gamma=&#x27;auto&#x27;),\n",
              "             param_grid={&#x27;C&#x27;: [8100, 8150, 8200, 8250, 8300, 8350, 8400, 8450],\n",
              "                         &#x27;epsilon&#x27;: [35, 37, 39, 41, 43, 45],\n",
              "                         &#x27;kernel&#x27;: [&#x27;rbf&#x27;]},\n",
              "             scoring=&#x27;neg_mean_squared_error&#x27;, verbose=2)</pre><b>In a Jupyter environment, please rerun this cell to show the HTML representation or trust the notebook. <br />On GitHub, the HTML representation is unable to render, please try loading this page with nbviewer.org.</b></div><div class=\"sk-container\" hidden><div class=\"sk-item sk-dashed-wrapped\"><div class=\"sk-label-container\"><div class=\"sk-label sk-toggleable\"><input class=\"sk-toggleable__control sk-hidden--visually\" id=\"sk-estimator-id-11\" type=\"checkbox\" ><label for=\"sk-estimator-id-11\" class=\"sk-toggleable__label sk-toggleable__label-arrow\">GridSearchCV</label><div class=\"sk-toggleable__content\"><pre>GridSearchCV(cv=3, estimator=SVR(gamma=&#x27;auto&#x27;),\n",
              "             param_grid={&#x27;C&#x27;: [8100, 8150, 8200, 8250, 8300, 8350, 8400, 8450],\n",
              "                         &#x27;epsilon&#x27;: [35, 37, 39, 41, 43, 45],\n",
              "                         &#x27;kernel&#x27;: [&#x27;rbf&#x27;]},\n",
              "             scoring=&#x27;neg_mean_squared_error&#x27;, verbose=2)</pre></div></div></div><div class=\"sk-parallel\"><div class=\"sk-parallel-item\"><div class=\"sk-item\"><div class=\"sk-label-container\"><div class=\"sk-label sk-toggleable\"><input class=\"sk-toggleable__control sk-hidden--visually\" id=\"sk-estimator-id-12\" type=\"checkbox\" ><label for=\"sk-estimator-id-12\" class=\"sk-toggleable__label sk-toggleable__label-arrow\">estimator: SVR</label><div class=\"sk-toggleable__content\"><pre>SVR(gamma=&#x27;auto&#x27;)</pre></div></div></div><div class=\"sk-serial\"><div class=\"sk-item\"><div class=\"sk-estimator sk-toggleable\"><input class=\"sk-toggleable__control sk-hidden--visually\" id=\"sk-estimator-id-13\" type=\"checkbox\" ><label for=\"sk-estimator-id-13\" class=\"sk-toggleable__label sk-toggleable__label-arrow\">SVR</label><div class=\"sk-toggleable__content\"><pre>SVR(gamma=&#x27;auto&#x27;)</pre></div></div></div></div></div></div></div></div></div></div>"
            ]
          },
          "metadata": {},
          "execution_count": 89
        }
      ]
    },
    {
      "cell_type": "code",
      "source": [
        "# Get the best parameters\n",
        "best_params = grid_search.best_params_\n",
        "print(\"Best Parameters:\", best_params)\n",
        "\n",
        "# Get the best SVR model\n",
        "best_svr = grid_search.best_estimator_\n",
        "\n",
        "# Let's calcualte rmse on both train and test sets\n",
        "\n",
        "print(f\"RMSE on Train Set: {model_rmse(best_svr, train_prepared, y_train)}\")\n",
        "\n",
        "print(f\"RMSE on Test Set: {model_rmse(best_svr, test_prepared, y_test)}\")"
      ],
      "metadata": {
        "colab": {
          "base_uri": "https://localhost:8080/"
        },
        "id": "xGhz70aYrEK7",
        "outputId": "04e61ece-ab02-4cee-9104-d500257004f1"
      },
      "execution_count": null,
      "outputs": [
        {
          "output_type": "stream",
          "name": "stdout",
          "text": [
            "Best Parameters: {'C': 8450, 'epsilon': 37, 'kernel': 'rbf'}\n",
            "RMSE on Train Set: 69.00976931461948\n",
            "RMSE on Test Set: 76.70714234258043\n"
          ]
        }
      ]
    },
    {
      "cell_type": "code",
      "source": [
        "param_grid = {\n",
        "    'kernel':['poly'],\n",
        "    'C': [ i for i in range(70,140,10)],\n",
        "    'epsilon': [i for i in range(45,57,2)],\n",
        "    'degree': [2]\n",
        "}\n",
        "\n",
        "VectorRegressor = SVR(kernel='rbf',gamma='auto')\n",
        "\n",
        "grid_search = GridSearchCV(estimator=VectorRegressor, param_grid=param_grid, cv=3, scoring='neg_mean_squared_error', verbose=1)\n",
        "grid_search.fit(train_prepared, y_train)"
      ],
      "metadata": {
        "colab": {
          "base_uri": "https://localhost:8080/",
          "height": 1000
        },
        "id": "rDtqHmXw1u9d",
        "outputId": "b3677b0c-ce3b-4e71-ab12-ec9935cc6ee2"
      },
      "execution_count": null,
      "outputs": [
        {
          "output_type": "stream",
          "name": "stdout",
          "text": [
            "Fitting 3 folds for each of 42 candidates, totalling 126 fits\n",
            "[CV] END ............C=70, degree=2, epsilon=45, kernel=poly; total time=   1.7s\n",
            "[CV] END ............C=70, degree=2, epsilon=45, kernel=poly; total time=   1.7s\n",
            "[CV] END ............C=70, degree=2, epsilon=45, kernel=poly; total time=   1.6s\n",
            "[CV] END ............C=70, degree=2, epsilon=47, kernel=poly; total time=   1.6s\n",
            "[CV] END ............C=70, degree=2, epsilon=47, kernel=poly; total time=   1.8s\n",
            "[CV] END ............C=70, degree=2, epsilon=47, kernel=poly; total time=   2.2s\n",
            "[CV] END ............C=70, degree=2, epsilon=49, kernel=poly; total time=   1.5s\n",
            "[CV] END ............C=70, degree=2, epsilon=49, kernel=poly; total time=   1.5s\n",
            "[CV] END ............C=70, degree=2, epsilon=49, kernel=poly; total time=   1.4s\n",
            "[CV] END ............C=70, degree=2, epsilon=51, kernel=poly; total time=   1.4s\n",
            "[CV] END ............C=70, degree=2, epsilon=51, kernel=poly; total time=   1.4s\n",
            "[CV] END ............C=70, degree=2, epsilon=51, kernel=poly; total time=   1.4s\n",
            "[CV] END ............C=70, degree=2, epsilon=53, kernel=poly; total time=   1.5s\n",
            "[CV] END ............C=70, degree=2, epsilon=53, kernel=poly; total time=   2.1s\n",
            "[CV] END ............C=70, degree=2, epsilon=53, kernel=poly; total time=   1.5s\n",
            "[CV] END ............C=70, degree=2, epsilon=55, kernel=poly; total time=   1.4s\n",
            "[CV] END ............C=70, degree=2, epsilon=55, kernel=poly; total time=   1.4s\n",
            "[CV] END ............C=70, degree=2, epsilon=55, kernel=poly; total time=   1.4s\n",
            "[CV] END ............C=80, degree=2, epsilon=45, kernel=poly; total time=   1.6s\n",
            "[CV] END ............C=80, degree=2, epsilon=45, kernel=poly; total time=   1.6s\n",
            "[CV] END ............C=80, degree=2, epsilon=45, kernel=poly; total time=   1.6s\n",
            "[CV] END ............C=80, degree=2, epsilon=47, kernel=poly; total time=   2.4s\n",
            "[CV] END ............C=80, degree=2, epsilon=47, kernel=poly; total time=   1.8s\n",
            "[CV] END ............C=80, degree=2, epsilon=47, kernel=poly; total time=   1.5s\n",
            "[CV] END ............C=80, degree=2, epsilon=49, kernel=poly; total time=   1.5s\n",
            "[CV] END ............C=80, degree=2, epsilon=49, kernel=poly; total time=   1.5s\n",
            "[CV] END ............C=80, degree=2, epsilon=49, kernel=poly; total time=   1.5s\n",
            "[CV] END ............C=80, degree=2, epsilon=51, kernel=poly; total time=   1.5s\n",
            "[CV] END ............C=80, degree=2, epsilon=51, kernel=poly; total time=   1.4s\n",
            "[CV] END ............C=80, degree=2, epsilon=51, kernel=poly; total time=   2.1s\n",
            "[CV] END ............C=80, degree=2, epsilon=53, kernel=poly; total time=   1.7s\n",
            "[CV] END ............C=80, degree=2, epsilon=53, kernel=poly; total time=   1.4s\n",
            "[CV] END ............C=80, degree=2, epsilon=53, kernel=poly; total time=   1.4s\n",
            "[CV] END ............C=80, degree=2, epsilon=55, kernel=poly; total time=   1.4s\n",
            "[CV] END ............C=80, degree=2, epsilon=55, kernel=poly; total time=   1.3s\n",
            "[CV] END ............C=80, degree=2, epsilon=55, kernel=poly; total time=   1.3s\n",
            "[CV] END ............C=90, degree=2, epsilon=45, kernel=poly; total time=   1.6s\n",
            "[CV] END ............C=90, degree=2, epsilon=45, kernel=poly; total time=   2.0s\n",
            "[CV] END ............C=90, degree=2, epsilon=45, kernel=poly; total time=   2.1s\n",
            "[CV] END ............C=90, degree=2, epsilon=47, kernel=poly; total time=   1.5s\n",
            "[CV] END ............C=90, degree=2, epsilon=47, kernel=poly; total time=   1.5s\n",
            "[CV] END ............C=90, degree=2, epsilon=47, kernel=poly; total time=   1.5s\n",
            "[CV] END ............C=90, degree=2, epsilon=49, kernel=poly; total time=   1.5s\n",
            "[CV] END ............C=90, degree=2, epsilon=49, kernel=poly; total time=   1.4s\n",
            "[CV] END ............C=90, degree=2, epsilon=49, kernel=poly; total time=   1.5s\n",
            "[CV] END ............C=90, degree=2, epsilon=51, kernel=poly; total time=   3.0s\n",
            "[CV] END ............C=90, degree=2, epsilon=51, kernel=poly; total time=   1.6s\n",
            "[CV] END ............C=90, degree=2, epsilon=51, kernel=poly; total time=   1.4s\n",
            "[CV] END ............C=90, degree=2, epsilon=53, kernel=poly; total time=   1.4s\n",
            "[CV] END ............C=90, degree=2, epsilon=53, kernel=poly; total time=   1.4s\n",
            "[CV] END ............C=90, degree=2, epsilon=53, kernel=poly; total time=   1.4s\n",
            "[CV] END ............C=90, degree=2, epsilon=55, kernel=poly; total time=   1.4s\n",
            "[CV] END ............C=90, degree=2, epsilon=55, kernel=poly; total time=   1.3s\n",
            "[CV] END ............C=90, degree=2, epsilon=55, kernel=poly; total time=   1.6s\n",
            "[CV] END ...........C=100, degree=2, epsilon=45, kernel=poly; total time=   2.4s\n",
            "[CV] END ...........C=100, degree=2, epsilon=45, kernel=poly; total time=   1.6s\n",
            "[CV] END ...........C=100, degree=2, epsilon=45, kernel=poly; total time=   1.5s\n",
            "[CV] END ...........C=100, degree=2, epsilon=47, kernel=poly; total time=   1.5s\n",
            "[CV] END ...........C=100, degree=2, epsilon=47, kernel=poly; total time=   1.5s\n",
            "[CV] END ...........C=100, degree=2, epsilon=47, kernel=poly; total time=   1.5s\n",
            "[CV] END ...........C=100, degree=2, epsilon=49, kernel=poly; total time=   1.4s\n",
            "[CV] END ...........C=100, degree=2, epsilon=49, kernel=poly; total time=   1.8s\n",
            "[CV] END ...........C=100, degree=2, epsilon=49, kernel=poly; total time=   2.1s\n",
            "[CV] END ...........C=100, degree=2, epsilon=51, kernel=poly; total time=   1.4s\n",
            "[CV] END ...........C=100, degree=2, epsilon=51, kernel=poly; total time=   1.4s\n",
            "[CV] END ...........C=100, degree=2, epsilon=51, kernel=poly; total time=   1.4s\n",
            "[CV] END ...........C=100, degree=2, epsilon=53, kernel=poly; total time=   1.4s\n",
            "[CV] END ...........C=100, degree=2, epsilon=53, kernel=poly; total time=   1.4s\n",
            "[CV] END ...........C=100, degree=2, epsilon=53, kernel=poly; total time=   1.4s\n",
            "[CV] END ...........C=100, degree=2, epsilon=55, kernel=poly; total time=   1.3s\n",
            "[CV] END ...........C=100, degree=2, epsilon=55, kernel=poly; total time=   2.0s\n",
            "[CV] END ...........C=100, degree=2, epsilon=55, kernel=poly; total time=   1.7s\n",
            "[CV] END ...........C=110, degree=2, epsilon=45, kernel=poly; total time=   1.6s\n",
            "[CV] END ...........C=110, degree=2, epsilon=45, kernel=poly; total time=   1.6s\n",
            "[CV] END ...........C=110, degree=2, epsilon=45, kernel=poly; total time=   1.5s\n",
            "[CV] END ...........C=110, degree=2, epsilon=47, kernel=poly; total time=   1.5s\n",
            "[CV] END ...........C=110, degree=2, epsilon=47, kernel=poly; total time=   1.5s\n",
            "[CV] END ...........C=110, degree=2, epsilon=47, kernel=poly; total time=   1.5s\n",
            "[CV] END ...........C=110, degree=2, epsilon=49, kernel=poly; total time=   2.3s\n",
            "[CV] END ...........C=110, degree=2, epsilon=49, kernel=poly; total time=   1.7s\n",
            "[CV] END ...........C=110, degree=2, epsilon=49, kernel=poly; total time=   1.4s\n",
            "[CV] END ...........C=110, degree=2, epsilon=51, kernel=poly; total time=   1.4s\n",
            "[CV] END ...........C=110, degree=2, epsilon=51, kernel=poly; total time=   1.4s\n",
            "[CV] END ...........C=110, degree=2, epsilon=51, kernel=poly; total time=   1.4s\n",
            "[CV] END ...........C=110, degree=2, epsilon=53, kernel=poly; total time=   1.4s\n",
            "[CV] END ...........C=110, degree=2, epsilon=53, kernel=poly; total time=   1.3s\n",
            "[CV] END ...........C=110, degree=2, epsilon=53, kernel=poly; total time=   1.7s\n",
            "[CV] END ...........C=110, degree=2, epsilon=55, kernel=poly; total time=   1.9s\n",
            "[CV] END ...........C=110, degree=2, epsilon=55, kernel=poly; total time=   1.3s\n",
            "[CV] END ...........C=110, degree=2, epsilon=55, kernel=poly; total time=   1.3s\n",
            "[CV] END ...........C=120, degree=2, epsilon=45, kernel=poly; total time=   1.6s\n",
            "[CV] END ...........C=120, degree=2, epsilon=45, kernel=poly; total time=   1.5s\n",
            "[CV] END ...........C=120, degree=2, epsilon=45, kernel=poly; total time=   1.5s\n",
            "[CV] END ...........C=120, degree=2, epsilon=47, kernel=poly; total time=   1.5s\n",
            "[CV] END ...........C=120, degree=2, epsilon=47, kernel=poly; total time=   1.7s\n",
            "[CV] END ...........C=120, degree=2, epsilon=47, kernel=poly; total time=   2.3s\n",
            "[CV] END ...........C=120, degree=2, epsilon=49, kernel=poly; total time=   1.5s\n",
            "[CV] END ...........C=120, degree=2, epsilon=49, kernel=poly; total time=   1.5s\n",
            "[CV] END ...........C=120, degree=2, epsilon=49, kernel=poly; total time=   1.4s\n",
            "[CV] END ...........C=120, degree=2, epsilon=51, kernel=poly; total time=   1.4s\n",
            "[CV] END ...........C=120, degree=2, epsilon=51, kernel=poly; total time=   1.4s\n",
            "[CV] END ...........C=120, degree=2, epsilon=51, kernel=poly; total time=   1.4s\n",
            "[CV] END ...........C=120, degree=2, epsilon=53, kernel=poly; total time=   1.4s\n",
            "[CV] END ...........C=120, degree=2, epsilon=53, kernel=poly; total time=   1.9s\n",
            "[CV] END ...........C=120, degree=2, epsilon=53, kernel=poly; total time=   1.7s\n",
            "[CV] END ...........C=120, degree=2, epsilon=55, kernel=poly; total time=   1.3s\n",
            "[CV] END ...........C=120, degree=2, epsilon=55, kernel=poly; total time=   1.3s\n",
            "[CV] END ...........C=120, degree=2, epsilon=55, kernel=poly; total time=   1.2s\n",
            "[CV] END ...........C=130, degree=2, epsilon=45, kernel=poly; total time=   1.6s\n",
            "[CV] END ...........C=130, degree=2, epsilon=45, kernel=poly; total time=   1.6s\n",
            "[CV] END ...........C=130, degree=2, epsilon=45, kernel=poly; total time=   1.5s\n",
            "[CV] END ...........C=130, degree=2, epsilon=47, kernel=poly; total time=   1.9s\n",
            "[CV] END ...........C=130, degree=2, epsilon=47, kernel=poly; total time=   2.3s\n",
            "[CV] END ...........C=130, degree=2, epsilon=47, kernel=poly; total time=   1.6s\n",
            "[CV] END ...........C=130, degree=2, epsilon=49, kernel=poly; total time=   1.9s\n",
            "[CV] END ...........C=130, degree=2, epsilon=49, kernel=poly; total time=   1.5s\n",
            "[CV] END ...........C=130, degree=2, epsilon=49, kernel=poly; total time=   1.4s\n",
            "[CV] END ...........C=130, degree=2, epsilon=51, kernel=poly; total time=   1.5s\n",
            "[CV] END ...........C=130, degree=2, epsilon=51, kernel=poly; total time=   1.4s\n",
            "[CV] END ...........C=130, degree=2, epsilon=51, kernel=poly; total time=   1.9s\n",
            "[CV] END ...........C=130, degree=2, epsilon=53, kernel=poly; total time=   2.0s\n",
            "[CV] END ...........C=130, degree=2, epsilon=53, kernel=poly; total time=   1.3s\n",
            "[CV] END ...........C=130, degree=2, epsilon=53, kernel=poly; total time=   1.3s\n",
            "[CV] END ...........C=130, degree=2, epsilon=55, kernel=poly; total time=   1.3s\n",
            "[CV] END ...........C=130, degree=2, epsilon=55, kernel=poly; total time=   1.3s\n",
            "[CV] END ...........C=130, degree=2, epsilon=55, kernel=poly; total time=   1.3s\n"
          ]
        },
        {
          "output_type": "execute_result",
          "data": {
            "text/plain": [
              "GridSearchCV(cv=3, estimator=SVR(gamma='auto'),\n",
              "             param_grid={'C': [70, 80, 90, 100, 110, 120, 130], 'degree': [2],\n",
              "                         'epsilon': [45, 47, 49, 51, 53, 55],\n",
              "                         'kernel': ['poly']},\n",
              "             scoring='neg_mean_squared_error', verbose=2)"
            ],
            "text/html": [
              "<style>#sk-container-id-9 {color: black;background-color: white;}#sk-container-id-9 pre{padding: 0;}#sk-container-id-9 div.sk-toggleable {background-color: white;}#sk-container-id-9 label.sk-toggleable__label {cursor: pointer;display: block;width: 100%;margin-bottom: 0;padding: 0.3em;box-sizing: border-box;text-align: center;}#sk-container-id-9 label.sk-toggleable__label-arrow:before {content: \"▸\";float: left;margin-right: 0.25em;color: #696969;}#sk-container-id-9 label.sk-toggleable__label-arrow:hover:before {color: black;}#sk-container-id-9 div.sk-estimator:hover label.sk-toggleable__label-arrow:before {color: black;}#sk-container-id-9 div.sk-toggleable__content {max-height: 0;max-width: 0;overflow: hidden;text-align: left;background-color: #f0f8ff;}#sk-container-id-9 div.sk-toggleable__content pre {margin: 0.2em;color: black;border-radius: 0.25em;background-color: #f0f8ff;}#sk-container-id-9 input.sk-toggleable__control:checked~div.sk-toggleable__content {max-height: 200px;max-width: 100%;overflow: auto;}#sk-container-id-9 input.sk-toggleable__control:checked~label.sk-toggleable__label-arrow:before {content: \"▾\";}#sk-container-id-9 div.sk-estimator input.sk-toggleable__control:checked~label.sk-toggleable__label {background-color: #d4ebff;}#sk-container-id-9 div.sk-label input.sk-toggleable__control:checked~label.sk-toggleable__label {background-color: #d4ebff;}#sk-container-id-9 input.sk-hidden--visually {border: 0;clip: rect(1px 1px 1px 1px);clip: rect(1px, 1px, 1px, 1px);height: 1px;margin: -1px;overflow: hidden;padding: 0;position: absolute;width: 1px;}#sk-container-id-9 div.sk-estimator {font-family: monospace;background-color: #f0f8ff;border: 1px dotted black;border-radius: 0.25em;box-sizing: border-box;margin-bottom: 0.5em;}#sk-container-id-9 div.sk-estimator:hover {background-color: #d4ebff;}#sk-container-id-9 div.sk-parallel-item::after {content: \"\";width: 100%;border-bottom: 1px solid gray;flex-grow: 1;}#sk-container-id-9 div.sk-label:hover label.sk-toggleable__label {background-color: #d4ebff;}#sk-container-id-9 div.sk-serial::before {content: \"\";position: absolute;border-left: 1px solid gray;box-sizing: border-box;top: 0;bottom: 0;left: 50%;z-index: 0;}#sk-container-id-9 div.sk-serial {display: flex;flex-direction: column;align-items: center;background-color: white;padding-right: 0.2em;padding-left: 0.2em;position: relative;}#sk-container-id-9 div.sk-item {position: relative;z-index: 1;}#sk-container-id-9 div.sk-parallel {display: flex;align-items: stretch;justify-content: center;background-color: white;position: relative;}#sk-container-id-9 div.sk-item::before, #sk-container-id-9 div.sk-parallel-item::before {content: \"\";position: absolute;border-left: 1px solid gray;box-sizing: border-box;top: 0;bottom: 0;left: 50%;z-index: -1;}#sk-container-id-9 div.sk-parallel-item {display: flex;flex-direction: column;z-index: 1;position: relative;background-color: white;}#sk-container-id-9 div.sk-parallel-item:first-child::after {align-self: flex-end;width: 50%;}#sk-container-id-9 div.sk-parallel-item:last-child::after {align-self: flex-start;width: 50%;}#sk-container-id-9 div.sk-parallel-item:only-child::after {width: 0;}#sk-container-id-9 div.sk-dashed-wrapped {border: 1px dashed gray;margin: 0 0.4em 0.5em 0.4em;box-sizing: border-box;padding-bottom: 0.4em;background-color: white;}#sk-container-id-9 div.sk-label label {font-family: monospace;font-weight: bold;display: inline-block;line-height: 1.2em;}#sk-container-id-9 div.sk-label-container {text-align: center;}#sk-container-id-9 div.sk-container {/* jupyter's `normalize.less` sets `[hidden] { display: none; }` but bootstrap.min.css set `[hidden] { display: none !important; }` so we also need the `!important` here to be able to override the default hidden behavior on the sphinx rendered scikit-learn.org. See: https://github.com/scikit-learn/scikit-learn/issues/21755 */display: inline-block !important;position: relative;}#sk-container-id-9 div.sk-text-repr-fallback {display: none;}</style><div id=\"sk-container-id-9\" class=\"sk-top-container\"><div class=\"sk-text-repr-fallback\"><pre>GridSearchCV(cv=3, estimator=SVR(gamma=&#x27;auto&#x27;),\n",
              "             param_grid={&#x27;C&#x27;: [70, 80, 90, 100, 110, 120, 130], &#x27;degree&#x27;: [2],\n",
              "                         &#x27;epsilon&#x27;: [45, 47, 49, 51, 53, 55],\n",
              "                         &#x27;kernel&#x27;: [&#x27;poly&#x27;]},\n",
              "             scoring=&#x27;neg_mean_squared_error&#x27;, verbose=2)</pre><b>In a Jupyter environment, please rerun this cell to show the HTML representation or trust the notebook. <br />On GitHub, the HTML representation is unable to render, please try loading this page with nbviewer.org.</b></div><div class=\"sk-container\" hidden><div class=\"sk-item sk-dashed-wrapped\"><div class=\"sk-label-container\"><div class=\"sk-label sk-toggleable\"><input class=\"sk-toggleable__control sk-hidden--visually\" id=\"sk-estimator-id-23\" type=\"checkbox\" ><label for=\"sk-estimator-id-23\" class=\"sk-toggleable__label sk-toggleable__label-arrow\">GridSearchCV</label><div class=\"sk-toggleable__content\"><pre>GridSearchCV(cv=3, estimator=SVR(gamma=&#x27;auto&#x27;),\n",
              "             param_grid={&#x27;C&#x27;: [70, 80, 90, 100, 110, 120, 130], &#x27;degree&#x27;: [2],\n",
              "                         &#x27;epsilon&#x27;: [45, 47, 49, 51, 53, 55],\n",
              "                         &#x27;kernel&#x27;: [&#x27;poly&#x27;]},\n",
              "             scoring=&#x27;neg_mean_squared_error&#x27;, verbose=2)</pre></div></div></div><div class=\"sk-parallel\"><div class=\"sk-parallel-item\"><div class=\"sk-item\"><div class=\"sk-label-container\"><div class=\"sk-label sk-toggleable\"><input class=\"sk-toggleable__control sk-hidden--visually\" id=\"sk-estimator-id-24\" type=\"checkbox\" ><label for=\"sk-estimator-id-24\" class=\"sk-toggleable__label sk-toggleable__label-arrow\">estimator: SVR</label><div class=\"sk-toggleable__content\"><pre>SVR(gamma=&#x27;auto&#x27;)</pre></div></div></div><div class=\"sk-serial\"><div class=\"sk-item\"><div class=\"sk-estimator sk-toggleable\"><input class=\"sk-toggleable__control sk-hidden--visually\" id=\"sk-estimator-id-25\" type=\"checkbox\" ><label for=\"sk-estimator-id-25\" class=\"sk-toggleable__label sk-toggleable__label-arrow\">SVR</label><div class=\"sk-toggleable__content\"><pre>SVR(gamma=&#x27;auto&#x27;)</pre></div></div></div></div></div></div></div></div></div></div>"
            ]
          },
          "metadata": {},
          "execution_count": 99
        }
      ]
    },
    {
      "cell_type": "code",
      "source": [
        "# Get the best parameters\n",
        "best_params = grid_search.best_params_\n",
        "print(\"Best Parameters:\", best_params)\n",
        "\n",
        "# Get the best SVR model\n",
        "best_svr = grid_search.best_estimator_\n",
        "\n",
        "# Let's calcualte rmse on both train and test sets\n",
        "\n",
        "print(f\"RMSE on Train Set: {model_rmse(best_svr, train_prepared, y_train)}\")\n",
        "\n",
        "print(f\"RMSE on Test Set: {model_rmse(best_svr, test_prepared, y_test)}\")"
      ],
      "metadata": {
        "colab": {
          "base_uri": "https://localhost:8080/"
        },
        "id": "CVNFnJRz25ZY",
        "outputId": "e1a8a253-3944-41ad-f5f4-842453ed0bed"
      },
      "execution_count": null,
      "outputs": [
        {
          "output_type": "stream",
          "name": "stdout",
          "text": [
            "Best Parameters: {'C': 130, 'degree': 2, 'epsilon': 47, 'kernel': 'poly'}\n",
            "RMSE on Train Set: 77.80990720221517\n",
            "RMSE on Test Set: 82.98051336816708\n"
          ]
        }
      ]
    },
    {
      "cell_type": "code",
      "source": [
        "#Best model\n",
        "#Best Parameters: {'C': 8450, 'epsilon': 37, 'kernel': 'rbf'}\n",
        "from sklearn.metrics import r2_score\n",
        "\n",
        "BestVectorRegressor = SVR(kernel='rbf',gamma='auto', C = 8450, epsilon = 37)\n",
        "BestVectorRegressor.fit(train_prepared, y_train)\n",
        "\n",
        "train_predict = BestVectorRegressor.predict(train_prepared)\n",
        "test_predict = BestVectorRegressor.predict(test_prepared)\n",
        "\n",
        "r2_score_train = r2_score(y_train, train_predict)\n",
        "r2_score_test = r2_score(y_test, test_predict)\n",
        "\n",
        "print(r2_score_train)\n",
        "print(r2_score_test)"
      ],
      "metadata": {
        "colab": {
          "base_uri": "https://localhost:8080/"
        },
        "id": "VjdoJ831SoxJ",
        "outputId": "87e1bb27-1d7e-495e-994f-4d99203e9067"
      },
      "execution_count": null,
      "outputs": [
        {
          "output_type": "stream",
          "name": "stdout",
          "text": [
            "0.7612692939424002\n",
            "0.7391638554415945\n"
          ]
        }
      ]
    },
    {
      "cell_type": "code",
      "source": [
        "#Show learning curve for best estimator\n",
        "from sklearn.model_selection import learning_curve\n",
        "\n",
        "train_sizes, train_scores, test_scores = learning_curve(SVR(kernel='rbf',gamma='auto',\n",
        "                                                            C = 8450, epsilon = 37), X=train_prepared, y=y_train, cv=3, scoring='r2')\n",
        "train_mean = np.mean(train_scores, axis=1)\n",
        "test_mean = np.mean(test_scores, axis=1)\n",
        "\n",
        "plt.figure(figsize=(10, 6))\n",
        "plt.plot(train_sizes, train_mean, label='Training Score')\n",
        "plt.plot(train_sizes, test_mean, label='Cross-Validation Score')\n",
        "plt.xlabel('Training Size')\n",
        "plt.ylabel('Score')\n",
        "plt.title('SVR Learning Curve')\n",
        "plt.legend()\n",
        "plt.show()"
      ],
      "metadata": {
        "colab": {
          "base_uri": "https://localhost:8080/",
          "height": 564
        },
        "id": "nJ5wTTHCVDt2",
        "outputId": "743d3ad3-8479-4bcf-b808-61190bceb66e"
      },
      "execution_count": null,
      "outputs": [
        {
          "output_type": "display_data",
          "data": {
            "text/plain": [
              "<Figure size 1000x600 with 1 Axes>"
            ],
            "image/png": "[encoded data removed]"
          },
          "metadata": {}
        }
      ]
    },
    {
      "cell_type": "code",
      "source": [],
      "metadata": {
        "id": "xWy02X6zZTm_"
      },
      "execution_count": null,
      "outputs": []
    },
    {
      "cell_type": "markdown",
      "source": [
        "SVR work best in terms of not overfitting the model."
      ],
      "metadata": {
        "id": "hL0mhBnwyohK"
      }
    },
    {
      "cell_type": "markdown",
      "source": [
        "## A full pipeline with both preparation and\n"
      ],
      "metadata": {
        "id": "cCyRU_Vjzpue"
      }
    },
    {
      "cell_type": "code",
      "source": [
        "#put the model after the preparation pipeline\n",
        "full_pipeline_with_predictor = Pipeline([\n",
        "        (\"preparation\", full_pipeline),\n",
        "        (\"SVR\", SVR(kernel='poly', C=10, epsilon=0.01))\n",
        "    ])\n",
        "\n",
        "#fitting the pipeline will fit the model\n",
        "full_pipeline_with_predictor.fit(X_train, y_train)\n",
        "#calling the predict method will transform the data and make predictions\n",
        "full_pipeline_with_predictor.predict(X_test)"
      ],
      "metadata": {
        "colab": {
          "base_uri": "https://localhost:8080/"
        },
        "id": "d_UrvIJozsC9",
        "outputId": "d36044eb-1d8d-48cf-9aef-dfc7fdd73579"
      },
      "execution_count": null,
      "outputs": [
        {
          "output_type": "execute_result",
          "data": {
            "text/plain": [
              "array([133.65327595, 136.07869722, 122.62936713, ..., 427.55932871,\n",
              "       158.01984427,  58.43262223])"
            ]
          },
          "metadata": {},
          "execution_count": 86
        }
      ]
    },
    {
      "cell_type": "markdown",
      "source": [
        "## Gradient Boosted Trees\n",
        "- AdaBoost\n",
        "- XGBoost\n",
        "- Catboost"
      ],
      "metadata": {
        "id": "tuUneCJm01ZT"
      }
    },
    {
      "cell_type": "markdown",
      "source": [
        "### AdaBoost"
      ],
      "metadata": {
        "id": "ptkeyY8unIEM"
      }
    },
    {
      "cell_type": "code",
      "source": [
        "from sklearn.ensemble import AdaBoostRegressor\n",
        "from sklearn.tree import DecisionTreeRegressor\n",
        "from sklearn.metrics import mean_squared_error\n",
        "from sklearn.model_selection import GridSearchCV"
      ],
      "metadata": {
        "id": "vf12ePsq03_v"
      },
      "execution_count": null,
      "outputs": []
    },
    {
      "cell_type": "code",
      "source": [
        "# Initialize the base regressor\n",
        "base_regressor = DecisionTreeRegressor(max_depth=5)\n",
        "\n",
        "# Initialize AdaBoostRegressor\n",
        "ada_regressor = AdaBoostRegressor(estimator=base_regressor, n_estimators=50, random_state=42)\n",
        "\n",
        "# Train the model\n",
        "ada_regressor.fit(train_prepared, y_train)\n"
      ],
      "metadata": {
        "colab": {
          "base_uri": "https://localhost:8080/",
          "height": 117
        },
        "id": "pVZ4xi5VnKO6",
        "outputId": "e32193dc-5ce4-41b3-ffc2-18ce23ac0bfd"
      },
      "execution_count": null,
      "outputs": [
        {
          "output_type": "execute_result",
          "data": {
            "text/plain": [
              "AdaBoostRegressor(estimator=DecisionTreeRegressor(max_depth=5), random_state=42)"
            ],
            "text/html": [
              "<style>#sk-container-id-2 {color: black;background-color: white;}#sk-container-id-2 pre{padding: 0;}#sk-container-id-2 div.sk-toggleable {background-color: white;}#sk-container-id-2 label.sk-toggleable__label {cursor: pointer;display: block;width: 100%;margin-bottom: 0;padding: 0.3em;box-sizing: border-box;text-align: center;}#sk-container-id-2 label.sk-toggleable__label-arrow:before {content: \"▸\";float: left;margin-right: 0.25em;color: #696969;}#sk-container-id-2 label.sk-toggleable__label-arrow:hover:before {color: black;}#sk-container-id-2 div.sk-estimator:hover label.sk-toggleable__label-arrow:before {color: black;}#sk-container-id-2 div.sk-toggleable__content {max-height: 0;max-width: 0;overflow: hidden;text-align: left;background-color: #f0f8ff;}#sk-container-id-2 div.sk-toggleable__content pre {margin: 0.2em;color: black;border-radius: 0.25em;background-color: #f0f8ff;}#sk-container-id-2 input.sk-toggleable__control:checked~div.sk-toggleable__content {max-height: 200px;max-width: 100%;overflow: auto;}#sk-container-id-2 input.sk-toggleable__control:checked~label.sk-toggleable__label-arrow:before {content: \"▾\";}#sk-container-id-2 div.sk-estimator input.sk-toggleable__control:checked~label.sk-toggleable__label {background-color: #d4ebff;}#sk-container-id-2 div.sk-label input.sk-toggleable__control:checked~label.sk-toggleable__label {background-color: #d4ebff;}#sk-container-id-2 input.sk-hidden--visually {border: 0;clip: rect(1px 1px 1px 1px);clip: rect(1px, 1px, 1px, 1px);height: 1px;margin: -1px;overflow: hidden;padding: 0;position: absolute;width: 1px;}#sk-container-id-2 div.sk-estimator {font-family: monospace;background-color: #f0f8ff;border: 1px dotted black;border-radius: 0.25em;box-sizing: border-box;margin-bottom: 0.5em;}#sk-container-id-2 div.sk-estimator:hover {background-color: #d4ebff;}#sk-container-id-2 div.sk-parallel-item::after {content: \"\";width: 100%;border-bottom: 1px solid gray;flex-grow: 1;}#sk-container-id-2 div.sk-label:hover label.sk-toggleable__label {background-color: #d4ebff;}#sk-container-id-2 div.sk-serial::before {content: \"\";position: absolute;border-left: 1px solid gray;box-sizing: border-box;top: 0;bottom: 0;left: 50%;z-index: 0;}#sk-container-id-2 div.sk-serial {display: flex;flex-direction: column;align-items: center;background-color: white;padding-right: 0.2em;padding-left: 0.2em;position: relative;}#sk-container-id-2 div.sk-item {position: relative;z-index: 1;}#sk-container-id-2 div.sk-parallel {display: flex;align-items: stretch;justify-content: center;background-color: white;position: relative;}#sk-container-id-2 div.sk-item::before, #sk-container-id-2 div.sk-parallel-item::before {content: \"\";position: absolute;border-left: 1px solid gray;box-sizing: border-box;top: 0;bottom: 0;left: 50%;z-index: -1;}#sk-container-id-2 div.sk-parallel-item {display: flex;flex-direction: column;z-index: 1;position: relative;background-color: white;}#sk-container-id-2 div.sk-parallel-item:first-child::after {align-self: flex-end;width: 50%;}#sk-container-id-2 div.sk-parallel-item:last-child::after {align-self: flex-start;width: 50%;}#sk-container-id-2 div.sk-parallel-item:only-child::after {width: 0;}#sk-container-id-2 div.sk-dashed-wrapped {border: 1px dashed gray;margin: 0 0.4em 0.5em 0.4em;box-sizing: border-box;padding-bottom: 0.4em;background-color: white;}#sk-container-id-2 div.sk-label label {font-family: monospace;font-weight: bold;display: inline-block;line-height: 1.2em;}#sk-container-id-2 div.sk-label-container {text-align: center;}#sk-container-id-2 div.sk-container {/* jupyter's `normalize.less` sets `[hidden] { display: none; }` but bootstrap.min.css set `[hidden] { display: none !important; }` so we also need the `!important` here to be able to override the default hidden behavior on the sphinx rendered scikit-learn.org. See: https://github.com/scikit-learn/scikit-learn/issues/21755 */display: inline-block !important;position: relative;}#sk-container-id-2 div.sk-text-repr-fallback {display: none;}</style><div id=\"sk-container-id-2\" class=\"sk-top-container\"><div class=\"sk-text-repr-fallback\"><pre>AdaBoostRegressor(estimator=DecisionTreeRegressor(max_depth=5), random_state=42)</pre><b>In a Jupyter environment, please rerun this cell to show the HTML representation or trust the notebook. <br />On GitHub, the HTML representation is unable to render, please try loading this page with nbviewer.org.</b></div><div class=\"sk-container\" hidden><div class=\"sk-item sk-dashed-wrapped\"><div class=\"sk-label-container\"><div class=\"sk-label sk-toggleable\"><input class=\"sk-toggleable__control sk-hidden--visually\" id=\"sk-estimator-id-4\" type=\"checkbox\" ><label for=\"sk-estimator-id-4\" class=\"sk-toggleable__label sk-toggleable__label-arrow\">AdaBoostRegressor</label><div class=\"sk-toggleable__content\"><pre>AdaBoostRegressor(estimator=DecisionTreeRegressor(max_depth=5), random_state=42)</pre></div></div></div><div class=\"sk-parallel\"><div class=\"sk-parallel-item\"><div class=\"sk-item\"><div class=\"sk-label-container\"><div class=\"sk-label sk-toggleable\"><input class=\"sk-toggleable__control sk-hidden--visually\" id=\"sk-estimator-id-5\" type=\"checkbox\" ><label for=\"sk-estimator-id-5\" class=\"sk-toggleable__label sk-toggleable__label-arrow\">estimator: DecisionTreeRegressor</label><div class=\"sk-toggleable__content\"><pre>DecisionTreeRegressor(max_depth=5)</pre></div></div></div><div class=\"sk-serial\"><div class=\"sk-item\"><div class=\"sk-estimator sk-toggleable\"><input class=\"sk-toggleable__control sk-hidden--visually\" id=\"sk-estimator-id-6\" type=\"checkbox\" ><label for=\"sk-estimator-id-6\" class=\"sk-toggleable__label sk-toggleable__label-arrow\">DecisionTreeRegressor</label><div class=\"sk-toggleable__content\"><pre>DecisionTreeRegressor(max_depth=5)</pre></div></div></div></div></div></div></div></div></div></div>"
            ]
          },
          "metadata": {},
          "execution_count": 28
        }
      ]
    },
    {
      "cell_type": "code",
      "source": [
        "# Let's calcualte rmse on both train and test sets\n",
        "\n",
        "print(f\"RMSE on Train Set: {model_rmse(ada_regressor, train_prepared, y_train)}\")\n",
        "\n",
        "print(f\"RMSE on Test Set: {model_rmse(ada_regressor, test_prepared, y_test)}\")"
      ],
      "metadata": {
        "colab": {
          "base_uri": "https://localhost:8080/"
        },
        "id": "kUyVnNLCntgN",
        "outputId": "15fc0655-06f6-4bf5-8c09-74562250b3a0"
      },
      "execution_count": null,
      "outputs": [
        {
          "output_type": "stream",
          "name": "stdout",
          "text": [
            "RMSE on Train Set: 86.31339725945074\n",
            "RMSE on Test Set: 94.4581979467916\n"
          ]
        }
      ]
    },
    {
      "cell_type": "markdown",
      "source": [
        "Not Bad. Let's try Hyperparamter Tuning"
      ],
      "metadata": {
        "id": "gIzPdiHvoFUI"
      }
    },
    {
      "cell_type": "code",
      "source": [
        "# Define the base estimator\n",
        "base_regressor = DecisionTreeRegressor()\n",
        "\n",
        "# Define the AdaBoost regressor\n",
        "ada_regressor = AdaBoostRegressor(estimator=base_regressor)\n",
        "\n",
        "# Define a grid of parameters over which to optimize the AdaBoost regressor\n",
        "param_grid = {\n",
        "    'n_estimators': [50, 100, 200],\n",
        "    'learning_rate': [0.01, 0.05, 0.1, 0.5, 1],\n",
        "    'base_estimator__max_depth': [1, 2, 3, 4, 5]\n",
        "}\n",
        "\n",
        "# Initialize GridSearchCV\n",
        "grid_search = GridSearchCV(estimator=ada_regressor, param_grid=param_grid, cv=5, scoring='neg_mean_squared_error', verbose=1, n_jobs=-1)\n",
        "\n",
        "# Fit the model\n",
        "grid_search.fit(train_prepared, y_train)\n"
      ],
      "metadata": {
        "colab": {
          "base_uri": "https://localhost:8080/",
          "height": 232
        },
        "id": "wRXDgj3yoJSx",
        "outputId": "ab9c2a7d-318a-4d02-a5d0-de78a6be070d"
      },
      "execution_count": null,
      "outputs": [
        {
          "output_type": "stream",
          "name": "stdout",
          "text": [
            "Fitting 5 folds for each of 75 candidates, totalling 375 fits\n"
          ]
        },
        {
          "output_type": "stream",
          "name": "stderr",
          "text": [
            "/usr/local/lib/python3.10/dist-packages/sklearn/model_selection/_search.py:905: FutureWarning: Parameter 'base_estimator' of AdaBoostRegressor is deprecated in favor of 'estimator'. See AdaBoostRegressor's docstring for more details.\n",
            "  clone(base_estimator).set_params(**self.best_params_)\n"
          ]
        },
        {
          "output_type": "execute_result",
          "data": {
            "text/plain": [
              "GridSearchCV(cv=5,\n",
              "             estimator=AdaBoostRegressor(estimator=DecisionTreeRegressor()),\n",
              "             n_jobs=-1,\n",
              "             param_grid={'base_estimator__max_depth': [1, 2, 3, 4, 5],\n",
              "                         'learning_rate': [0.01, 0.05, 0.1, 0.5, 1],\n",
              "                         'n_estimators': [50, 100, 200]},\n",
              "             scoring='neg_mean_squared_error', verbose=1)"
            ],
            "text/html": [
              "<style>#sk-container-id-3 {color: black;background-color: white;}#sk-container-id-3 pre{padding: 0;}#sk-container-id-3 div.sk-toggleable {background-color: white;}#sk-container-id-3 label.sk-toggleable__label {cursor: pointer;display: block;width: 100%;margin-bottom: 0;padding: 0.3em;box-sizing: border-box;text-align: center;}#sk-container-id-3 label.sk-toggleable__label-arrow:before {content: \"▸\";float: left;margin-right: 0.25em;color: #696969;}#sk-container-id-3 label.sk-toggleable__label-arrow:hover:before {color: black;}#sk-container-id-3 div.sk-estimator:hover label.sk-toggleable__label-arrow:before {color: black;}#sk-container-id-3 div.sk-toggleable__content {max-height: 0;max-width: 0;overflow: hidden;text-align: left;background-color: #f0f8ff;}#sk-container-id-3 div.sk-toggleable__content pre {margin: 0.2em;color: black;border-radius: 0.25em;background-color: #f0f8ff;}#sk-container-id-3 input.sk-toggleable__control:checked~div.sk-toggleable__content {max-height: 200px;max-width: 100%;overflow: auto;}#sk-container-id-3 input.sk-toggleable__control:checked~label.sk-toggleable__label-arrow:before {content: \"▾\";}#sk-container-id-3 div.sk-estimator input.sk-toggleable__control:checked~label.sk-toggleable__label {background-color: #d4ebff;}#sk-container-id-3 div.sk-label input.sk-toggleable__control:checked~label.sk-toggleable__label {background-color: #d4ebff;}#sk-container-id-3 input.sk-hidden--visually {border: 0;clip: rect(1px 1px 1px 1px);clip: rect(1px, 1px, 1px, 1px);height: 1px;margin: -1px;overflow: hidden;padding: 0;position: absolute;width: 1px;}#sk-container-id-3 div.sk-estimator {font-family: monospace;background-color: #f0f8ff;border: 1px dotted black;border-radius: 0.25em;box-sizing: border-box;margin-bottom: 0.5em;}#sk-container-id-3 div.sk-estimator:hover {background-color: #d4ebff;}#sk-container-id-3 div.sk-parallel-item::after {content: \"\";width: 100%;border-bottom: 1px solid gray;flex-grow: 1;}#sk-container-id-3 div.sk-label:hover label.sk-toggleable__label {background-color: #d4ebff;}#sk-container-id-3 div.sk-serial::before {content: \"\";position: absolute;border-left: 1px solid gray;box-sizing: border-box;top: 0;bottom: 0;left: 50%;z-index: 0;}#sk-container-id-3 div.sk-serial {display: flex;flex-direction: column;align-items: center;background-color: white;padding-right: 0.2em;padding-left: 0.2em;position: relative;}#sk-container-id-3 div.sk-item {position: relative;z-index: 1;}#sk-container-id-3 div.sk-parallel {display: flex;align-items: stretch;justify-content: center;background-color: white;position: relative;}#sk-container-id-3 div.sk-item::before, #sk-container-id-3 div.sk-parallel-item::before {content: \"\";position: absolute;border-left: 1px solid gray;box-sizing: border-box;top: 0;bottom: 0;left: 50%;z-index: -1;}#sk-container-id-3 div.sk-parallel-item {display: flex;flex-direction: column;z-index: 1;position: relative;background-color: white;}#sk-container-id-3 div.sk-parallel-item:first-child::after {align-self: flex-end;width: 50%;}#sk-container-id-3 div.sk-parallel-item:last-child::after {align-self: flex-start;width: 50%;}#sk-container-id-3 div.sk-parallel-item:only-child::after {width: 0;}#sk-container-id-3 div.sk-dashed-wrapped {border: 1px dashed gray;margin: 0 0.4em 0.5em 0.4em;box-sizing: border-box;padding-bottom: 0.4em;background-color: white;}#sk-container-id-3 div.sk-label label {font-family: monospace;font-weight: bold;display: inline-block;line-height: 1.2em;}#sk-container-id-3 div.sk-label-container {text-align: center;}#sk-container-id-3 div.sk-container {/* jupyter's `normalize.less` sets `[hidden] { display: none; }` but bootstrap.min.css set `[hidden] { display: none !important; }` so we also need the `!important` here to be able to override the default hidden behavior on the sphinx rendered scikit-learn.org. See: https://github.com/scikit-learn/scikit-learn/issues/21755 */display: inline-block !important;position: relative;}#sk-container-id-3 div.sk-text-repr-fallback {display: none;}</style><div id=\"sk-container-id-3\" class=\"sk-top-container\"><div class=\"sk-text-repr-fallback\"><pre>GridSearchCV(cv=5,\n",
              "             estimator=AdaBoostRegressor(estimator=DecisionTreeRegressor()),\n",
              "             n_jobs=-1,\n",
              "             param_grid={&#x27;base_estimator__max_depth&#x27;: [1, 2, 3, 4, 5],\n",
              "                         &#x27;learning_rate&#x27;: [0.01, 0.05, 0.1, 0.5, 1],\n",
              "                         &#x27;n_estimators&#x27;: [50, 100, 200]},\n",
              "             scoring=&#x27;neg_mean_squared_error&#x27;, verbose=1)</pre><b>In a Jupyter environment, please rerun this cell to show the HTML representation or trust the notebook. <br />On GitHub, the HTML representation is unable to render, please try loading this page with nbviewer.org.</b></div><div class=\"sk-container\" hidden><div class=\"sk-item sk-dashed-wrapped\"><div class=\"sk-label-container\"><div class=\"sk-label sk-toggleable\"><input class=\"sk-toggleable__control sk-hidden--visually\" id=\"sk-estimator-id-7\" type=\"checkbox\" ><label for=\"sk-estimator-id-7\" class=\"sk-toggleable__label sk-toggleable__label-arrow\">GridSearchCV</label><div class=\"sk-toggleable__content\"><pre>GridSearchCV(cv=5,\n",
              "             estimator=AdaBoostRegressor(estimator=DecisionTreeRegressor()),\n",
              "             n_jobs=-1,\n",
              "             param_grid={&#x27;base_estimator__max_depth&#x27;: [1, 2, 3, 4, 5],\n",
              "                         &#x27;learning_rate&#x27;: [0.01, 0.05, 0.1, 0.5, 1],\n",
              "                         &#x27;n_estimators&#x27;: [50, 100, 200]},\n",
              "             scoring=&#x27;neg_mean_squared_error&#x27;, verbose=1)</pre></div></div></div><div class=\"sk-parallel\"><div class=\"sk-parallel-item\"><div class=\"sk-item\"><div class=\"sk-label-container\"><div class=\"sk-label sk-toggleable\"><input class=\"sk-toggleable__control sk-hidden--visually\" id=\"sk-estimator-id-8\" type=\"checkbox\" ><label for=\"sk-estimator-id-8\" class=\"sk-toggleable__label sk-toggleable__label-arrow\">estimator: AdaBoostRegressor</label><div class=\"sk-toggleable__content\"><pre>AdaBoostRegressor(estimator=DecisionTreeRegressor())</pre></div></div></div><div class=\"sk-serial\"><div class=\"sk-item sk-dashed-wrapped\"><div class=\"sk-parallel\"><div class=\"sk-parallel-item\"><div class=\"sk-item\"><div class=\"sk-label-container\"><div class=\"sk-label sk-toggleable\"><input class=\"sk-toggleable__control sk-hidden--visually\" id=\"sk-estimator-id-9\" type=\"checkbox\" ><label for=\"sk-estimator-id-9\" class=\"sk-toggleable__label sk-toggleable__label-arrow\">estimator: DecisionTreeRegressor</label><div class=\"sk-toggleable__content\"><pre>DecisionTreeRegressor()</pre></div></div></div><div class=\"sk-serial\"><div class=\"sk-item\"><div class=\"sk-estimator sk-toggleable\"><input class=\"sk-toggleable__control sk-hidden--visually\" id=\"sk-estimator-id-10\" type=\"checkbox\" ><label for=\"sk-estimator-id-10\" class=\"sk-toggleable__label sk-toggleable__label-arrow\">DecisionTreeRegressor</label><div class=\"sk-toggleable__content\"><pre>DecisionTreeRegressor()</pre></div></div></div></div></div></div></div></div></div></div></div></div></div></div></div>"
            ]
          },
          "metadata": {},
          "execution_count": 37
        }
      ]
    },
    {
      "cell_type": "code",
      "source": [
        "# Output the best parameters and the corresponding score\n",
        "print(\"Best parameters:\", grid_search.best_params_)\n",
        "print(\"Best cross-validation score:\", np.sqrt(-grid_search.best_score_))\n",
        "\n",
        "# You can access the best estimator directly\n",
        "best_model = grid_search.best_estimator_\n",
        "\n",
        "# Let's calcualte rmse on both train and test sets\n",
        "\n",
        "print(f\"RMSE on Train Set: {model_rmse(best_model, train_prepared, y_train)}\")\n",
        "\n",
        "print(f\"RMSE on Test Set: {model_rmse(best_model, test_prepared, y_test)}\")"
      ],
      "metadata": {
        "colab": {
          "base_uri": "https://localhost:8080/"
        },
        "id": "oMzMamyipGDO",
        "outputId": "f90f3475-2308-414b-c097-552a7fb42b07"
      },
      "execution_count": null,
      "outputs": [
        {
          "output_type": "stream",
          "name": "stdout",
          "text": [
            "Best parameters: {'base_estimator__max_depth': 5, 'learning_rate': 0.01, 'n_estimators': 200}\n",
            "Best cross-validation score: 77.10397116152532\n",
            "RMSE on Train Set: 73.29831628489765\n",
            "RMSE on Test Set: 81.01200559166851\n"
          ]
        }
      ]
    },
    {
      "cell_type": "markdown",
      "source": [
        "### XGBoost"
      ],
      "metadata": {
        "id": "2riyv6Bvpsiq"
      }
    },
    {
      "cell_type": "code",
      "source": [
        "import xgboost as xgb"
      ],
      "metadata": {
        "id": "PJy-NFBopznz"
      },
      "execution_count": null,
      "outputs": []
    },
    {
      "cell_type": "code",
      "source": [
        "# Initialize XGBRegressor\n",
        "xgb_regressor = xgb.XGBRegressor(objective ='reg:squarederror', colsample_bytree = 0.3, learning_rate = 0.1,\n",
        "                max_depth = 5, alpha = 1.5, n_estimators = 100)\n",
        "\n",
        "# Train the model\n",
        "xgb_regressor.fit(train_prepared, y_train)\n"
      ],
      "metadata": {
        "colab": {
          "base_uri": "https://localhost:8080/",
          "height": 248
        },
        "id": "dvWosJjSqFo7",
        "outputId": "25fe070b-68a9-418b-f70d-319a7bf84bd9"
      },
      "execution_count": null,
      "outputs": [
        {
          "output_type": "execute_result",
          "data": {
            "text/plain": [
              "XGBRegressor(alpha=1.5, base_score=None, booster=None, callbacks=None,\n",
              "             colsample_bylevel=None, colsample_bynode=None,\n",
              "             colsample_bytree=0.3, device=None, early_stopping_rounds=None,\n",
              "             enable_categorical=False, eval_metric=None, feature_types=None,\n",
              "             gamma=None, grow_policy=None, importance_type=None,\n",
              "             interaction_constraints=None, learning_rate=0.1, max_bin=None,\n",
              "             max_cat_threshold=None, max_cat_to_onehot=None,\n",
              "             max_delta_step=None, max_depth=5, max_leaves=None,\n",
              "             min_child_weight=None, missing=nan, monotone_constraints=None,\n",
              "             multi_strategy=None, n_estimators=100, n_jobs=None,\n",
              "             num_parallel_tree=None, ...)"
            ],
            "text/html": [
              "<style>#sk-container-id-4 {color: black;background-color: white;}#sk-container-id-4 pre{padding: 0;}#sk-container-id-4 div.sk-toggleable {background-color: white;}#sk-container-id-4 label.sk-toggleable__label {cursor: pointer;display: block;width: 100%;margin-bottom: 0;padding: 0.3em;box-sizing: border-box;text-align: center;}#sk-container-id-4 label.sk-toggleable__label-arrow:before {content: \"▸\";float: left;margin-right: 0.25em;color: #696969;}#sk-container-id-4 label.sk-toggleable__label-arrow:hover:before {color: black;}#sk-container-id-4 div.sk-estimator:hover label.sk-toggleable__label-arrow:before {color: black;}#sk-container-id-4 div.sk-toggleable__content {max-height: 0;max-width: 0;overflow: hidden;text-align: left;background-color: #f0f8ff;}#sk-container-id-4 div.sk-toggleable__content pre {margin: 0.2em;color: black;border-radius: 0.25em;background-color: #f0f8ff;}#sk-container-id-4 input.sk-toggleable__control:checked~div.sk-toggleable__content {max-height: 200px;max-width: 100%;overflow: auto;}#sk-container-id-4 input.sk-toggleable__control:checked~label.sk-toggleable__label-arrow:before {content: \"▾\";}#sk-container-id-4 div.sk-estimator input.sk-toggleable__control:checked~label.sk-toggleable__label {background-color: #d4ebff;}#sk-container-id-4 div.sk-label input.sk-toggleable__control:checked~label.sk-toggleable__label {background-color: #d4ebff;}#sk-container-id-4 input.sk-hidden--visually {border: 0;clip: rect(1px 1px 1px 1px);clip: rect(1px, 1px, 1px, 1px);height: 1px;margin: -1px;overflow: hidden;padding: 0;position: absolute;width: 1px;}#sk-container-id-4 div.sk-estimator {font-family: monospace;background-color: #f0f8ff;border: 1px dotted black;border-radius: 0.25em;box-sizing: border-box;margin-bottom: 0.5em;}#sk-container-id-4 div.sk-estimator:hover {background-color: #d4ebff;}#sk-container-id-4 div.sk-parallel-item::after {content: \"\";width: 100%;border-bottom: 1px solid gray;flex-grow: 1;}#sk-container-id-4 div.sk-label:hover label.sk-toggleable__label {background-color: #d4ebff;}#sk-container-id-4 div.sk-serial::before {content: \"\";position: absolute;border-left: 1px solid gray;box-sizing: border-box;top: 0;bottom: 0;left: 50%;z-index: 0;}#sk-container-id-4 div.sk-serial {display: flex;flex-direction: column;align-items: center;background-color: white;padding-right: 0.2em;padding-left: 0.2em;position: relative;}#sk-container-id-4 div.sk-item {position: relative;z-index: 1;}#sk-container-id-4 div.sk-parallel {display: flex;align-items: stretch;justify-content: center;background-color: white;position: relative;}#sk-container-id-4 div.sk-item::before, #sk-container-id-4 div.sk-parallel-item::before {content: \"\";position: absolute;border-left: 1px solid gray;box-sizing: border-box;top: 0;bottom: 0;left: 50%;z-index: -1;}#sk-container-id-4 div.sk-parallel-item {display: flex;flex-direction: column;z-index: 1;position: relative;background-color: white;}#sk-container-id-4 div.sk-parallel-item:first-child::after {align-self: flex-end;width: 50%;}#sk-container-id-4 div.sk-parallel-item:last-child::after {align-self: flex-start;width: 50%;}#sk-container-id-4 div.sk-parallel-item:only-child::after {width: 0;}#sk-container-id-4 div.sk-dashed-wrapped {border: 1px dashed gray;margin: 0 0.4em 0.5em 0.4em;box-sizing: border-box;padding-bottom: 0.4em;background-color: white;}#sk-container-id-4 div.sk-label label {font-family: monospace;font-weight: bold;display: inline-block;line-height: 1.2em;}#sk-container-id-4 div.sk-label-container {text-align: center;}#sk-container-id-4 div.sk-container {/* jupyter's `normalize.less` sets `[hidden] { display: none; }` but bootstrap.min.css set `[hidden] { display: none !important; }` so we also need the `!important` here to be able to override the default hidden behavior on the sphinx rendered scikit-learn.org. See: https://github.com/scikit-learn/scikit-learn/issues/21755 */display: inline-block !important;position: relative;}#sk-container-id-4 div.sk-text-repr-fallback {display: none;}</style><div id=\"sk-container-id-4\" class=\"sk-top-container\"><div class=\"sk-text-repr-fallback\"><pre>XGBRegressor(alpha=1.5, base_score=None, booster=None, callbacks=None,\n",
              "             colsample_bylevel=None, colsample_bynode=None,\n",
              "             colsample_bytree=0.3, device=None, early_stopping_rounds=None,\n",
              "             enable_categorical=False, eval_metric=None, feature_types=None,\n",
              "             gamma=None, grow_policy=None, importance_type=None,\n",
              "             interaction_constraints=None, learning_rate=0.1, max_bin=None,\n",
              "             max_cat_threshold=None, max_cat_to_onehot=None,\n",
              "             max_delta_step=None, max_depth=5, max_leaves=None,\n",
              "             min_child_weight=None, missing=nan, monotone_constraints=None,\n",
              "             multi_strategy=None, n_estimators=100, n_jobs=None,\n",
              "             num_parallel_tree=None, ...)</pre><b>In a Jupyter environment, please rerun this cell to show the HTML representation or trust the notebook. <br />On GitHub, the HTML representation is unable to render, please try loading this page with nbviewer.org.</b></div><div class=\"sk-container\" hidden><div class=\"sk-item\"><div class=\"sk-estimator sk-toggleable\"><input class=\"sk-toggleable__control sk-hidden--visually\" id=\"sk-estimator-id-11\" type=\"checkbox\" checked><label for=\"sk-estimator-id-11\" class=\"sk-toggleable__label sk-toggleable__label-arrow\">XGBRegressor</label><div class=\"sk-toggleable__content\"><pre>XGBRegressor(alpha=1.5, base_score=None, booster=None, callbacks=None,\n",
              "             colsample_bylevel=None, colsample_bynode=None,\n",
              "             colsample_bytree=0.3, device=None, early_stopping_rounds=None,\n",
              "             enable_categorical=False, eval_metric=None, feature_types=None,\n",
              "             gamma=None, grow_policy=None, importance_type=None,\n",
              "             interaction_constraints=None, learning_rate=0.1, max_bin=None,\n",
              "             max_cat_threshold=None, max_cat_to_onehot=None,\n",
              "             max_delta_step=None, max_depth=5, max_leaves=None,\n",
              "             min_child_weight=None, missing=nan, monotone_constraints=None,\n",
              "             multi_strategy=None, n_estimators=100, n_jobs=None,\n",
              "             num_parallel_tree=None, ...)</pre></div></div></div></div></div>"
            ]
          },
          "metadata": {},
          "execution_count": 40
        }
      ]
    },
    {
      "cell_type": "code",
      "source": [
        "# Let's calcualte rmse on both train and test sets\n",
        "\n",
        "print(f\"RMSE on Train Set: {model_rmse(xgb_regressor, train_prepared, y_train)}\")\n",
        "\n",
        "print(f\"RMSE on Test Set: {model_rmse(xgb_regressor, test_prepared, y_test)}\")"
      ],
      "metadata": {
        "colab": {
          "base_uri": "https://localhost:8080/"
        },
        "id": "9gColk5AqUv9",
        "outputId": "e3113bdb-b8d6-4358-dc7c-376bc35736eb"
      },
      "execution_count": null,
      "outputs": [
        {
          "output_type": "stream",
          "name": "stdout",
          "text": [
            "RMSE on Train Set: 59.43959798950069\n",
            "RMSE on Test Set: 75.22150141102682\n"
          ]
        }
      ]
    },
    {
      "cell_type": "markdown",
      "source": [
        "Looks Overfitted to me"
      ],
      "metadata": {
        "id": "p_lZoEnDtQ-s"
      }
    },
    {
      "cell_type": "code",
      "source": [
        "# Let's try gridsearchcv\n",
        "\n",
        "# Define the parameter grid\n",
        "param_grid = {\n",
        "    'n_estimators': [100],\n",
        "    'max_depth': [3, 5, 7],\n",
        "    'learning_rate': [0.01, 0.1, 0.2],\n",
        "    'colsample_bytree': [0.3, 0.5, 0.7],\n",
        "    'alpha': [1.5, 2, 2.5]\n",
        "}\n",
        "\n",
        "# Initialize the XGBRegressor\n",
        "xgb_regressor = xgb.XGBRegressor()\n",
        "\n",
        "# Initialize GridSearchCV\n",
        "grid_search = GridSearchCV(estimator=xgb_regressor, param_grid=param_grid, cv=3, scoring='neg_mean_squared_error', verbose=1, n_jobs=-1)\n",
        "\n",
        "# Fit GridSearchCV\n",
        "grid_search.fit(train_prepared, y_train)"
      ],
      "metadata": {
        "colab": {
          "base_uri": "https://localhost:8080/",
          "height": 135
        },
        "id": "ecmpnO0MtSZv",
        "outputId": "d75496a5-85ac-491c-8346-b14beef9c1ad"
      },
      "execution_count": null,
      "outputs": [
        {
          "output_type": "stream",
          "name": "stdout",
          "text": [
            "Fitting 3 folds for each of 81 candidates, totalling 243 fits\n"
          ]
        },
        {
          "output_type": "execute_result",
          "data": {
            "text/plain": [
              "GridSearchCV(cv=3,\n",
              "             estimator=XGBRegressor(base_score=None, booster=None,\n",
              "                                    callbacks=None, colsample_bylevel=None,\n",
              "                                    colsample_bynode=None,\n",
              "                                    colsample_bytree=None, device=None,\n",
              "                                    early_stopping_rounds=None,\n",
              "                                    enable_categorical=False, eval_metric=None,\n",
              "                                    feature_types=None, gamma=None,\n",
              "                                    grow_policy=None, importance_type=None,\n",
              "                                    interaction_constraints=None,\n",
              "                                    learning_rate=None, m...\n",
              "                                    max_depth=None, max_leaves=None,\n",
              "                                    min_child_weight=None, missing=nan,\n",
              "                                    monotone_constraints=None,\n",
              "                                    multi_strategy=None, n_estimators=None,\n",
              "                                    n_jobs=None, num_parallel_tree=None,\n",
              "                                    random_state=None, ...),\n",
              "             n_jobs=-1,\n",
              "             param_grid={'alpha': [1.5, 2, 2.5],\n",
              "                         'colsample_bytree': [0.3, 0.5, 0.7],\n",
              "                         'learning_rate': [0.01, 0.1, 0.2],\n",
              "                         'max_depth': [3, 5, 7], 'n_estimators': [100]},\n",
              "             scoring='neg_mean_squared_error', verbose=1)"
            ],
            "text/html": [
              "<style>#sk-container-id-5 {color: black;background-color: white;}#sk-container-id-5 pre{padding: 0;}#sk-container-id-5 div.sk-toggleable {background-color: white;}#sk-container-id-5 label.sk-toggleable__label {cursor: pointer;display: block;width: 100%;margin-bottom: 0;padding: 0.3em;box-sizing: border-box;text-align: center;}#sk-container-id-5 label.sk-toggleable__label-arrow:before {content: \"▸\";float: left;margin-right: 0.25em;color: #696969;}#sk-container-id-5 label.sk-toggleable__label-arrow:hover:before {color: black;}#sk-container-id-5 div.sk-estimator:hover label.sk-toggleable__label-arrow:before {color: black;}#sk-container-id-5 div.sk-toggleable__content {max-height: 0;max-width: 0;overflow: hidden;text-align: left;background-color: #f0f8ff;}#sk-container-id-5 div.sk-toggleable__content pre {margin: 0.2em;color: black;border-radius: 0.25em;background-color: #f0f8ff;}#sk-container-id-5 input.sk-toggleable__control:checked~div.sk-toggleable__content {max-height: 200px;max-width: 100%;overflow: auto;}#sk-container-id-5 input.sk-toggleable__control:checked~label.sk-toggleable__label-arrow:before {content: \"▾\";}#sk-container-id-5 div.sk-estimator input.sk-toggleable__control:checked~label.sk-toggleable__label {background-color: #d4ebff;}#sk-container-id-5 div.sk-label input.sk-toggleable__control:checked~label.sk-toggleable__label {background-color: #d4ebff;}#sk-container-id-5 input.sk-hidden--visually {border: 0;clip: rect(1px 1px 1px 1px);clip: rect(1px, 1px, 1px, 1px);height: 1px;margin: -1px;overflow: hidden;padding: 0;position: absolute;width: 1px;}#sk-container-id-5 div.sk-estimator {font-family: monospace;background-color: #f0f8ff;border: 1px dotted black;border-radius: 0.25em;box-sizing: border-box;margin-bottom: 0.5em;}#sk-container-id-5 div.sk-estimator:hover {background-color: #d4ebff;}#sk-container-id-5 div.sk-parallel-item::after {content: \"\";width: 100%;border-bottom: 1px solid gray;flex-grow: 1;}#sk-container-id-5 div.sk-label:hover label.sk-toggleable__label {background-color: #d4ebff;}#sk-container-id-5 div.sk-serial::before {content: \"\";position: absolute;border-left: 1px solid gray;box-sizing: border-box;top: 0;bottom: 0;left: 50%;z-index: 0;}#sk-container-id-5 div.sk-serial {display: flex;flex-direction: column;align-items: center;background-color: white;padding-right: 0.2em;padding-left: 0.2em;position: relative;}#sk-container-id-5 div.sk-item {position: relative;z-index: 1;}#sk-container-id-5 div.sk-parallel {display: flex;align-items: stretch;justify-content: center;background-color: white;position: relative;}#sk-container-id-5 div.sk-item::before, #sk-container-id-5 div.sk-parallel-item::before {content: \"\";position: absolute;border-left: 1px solid gray;box-sizing: border-box;top: 0;bottom: 0;left: 50%;z-index: -1;}#sk-container-id-5 div.sk-parallel-item {display: flex;flex-direction: column;z-index: 1;position: relative;background-color: white;}#sk-container-id-5 div.sk-parallel-item:first-child::after {align-self: flex-end;width: 50%;}#sk-container-id-5 div.sk-parallel-item:last-child::after {align-self: flex-start;width: 50%;}#sk-container-id-5 div.sk-parallel-item:only-child::after {width: 0;}#sk-container-id-5 div.sk-dashed-wrapped {border: 1px dashed gray;margin: 0 0.4em 0.5em 0.4em;box-sizing: border-box;padding-bottom: 0.4em;background-color: white;}#sk-container-id-5 div.sk-label label {font-family: monospace;font-weight: bold;display: inline-block;line-height: 1.2em;}#sk-container-id-5 div.sk-label-container {text-align: center;}#sk-container-id-5 div.sk-container {/* jupyter's `normalize.less` sets `[hidden] { display: none; }` but bootstrap.min.css set `[hidden] { display: none !important; }` so we also need the `!important` here to be able to override the default hidden behavior on the sphinx rendered scikit-learn.org. See: https://github.com/scikit-learn/scikit-learn/issues/21755 */display: inline-block !important;position: relative;}#sk-container-id-5 div.sk-text-repr-fallback {display: none;}</style><div id=\"sk-container-id-5\" class=\"sk-top-container\"><div class=\"sk-text-repr-fallback\"><pre>GridSearchCV(cv=3,\n",
              "             estimator=XGBRegressor(base_score=None, booster=None,\n",
              "                                    callbacks=None, colsample_bylevel=None,\n",
              "                                    colsample_bynode=None,\n",
              "                                    colsample_bytree=None, device=None,\n",
              "                                    early_stopping_rounds=None,\n",
              "                                    enable_categorical=False, eval_metric=None,\n",
              "                                    feature_types=None, gamma=None,\n",
              "                                    grow_policy=None, importance_type=None,\n",
              "                                    interaction_constraints=None,\n",
              "                                    learning_rate=None, m...\n",
              "                                    max_depth=None, max_leaves=None,\n",
              "                                    min_child_weight=None, missing=nan,\n",
              "                                    monotone_constraints=None,\n",
              "                                    multi_strategy=None, n_estimators=None,\n",
              "                                    n_jobs=None, num_parallel_tree=None,\n",
              "                                    random_state=None, ...),\n",
              "             n_jobs=-1,\n",
              "             param_grid={&#x27;alpha&#x27;: [1.5, 2, 2.5],\n",
              "                         &#x27;colsample_bytree&#x27;: [0.3, 0.5, 0.7],\n",
              "                         &#x27;learning_rate&#x27;: [0.01, 0.1, 0.2],\n",
              "                         &#x27;max_depth&#x27;: [3, 5, 7], &#x27;n_estimators&#x27;: [100]},\n",
              "             scoring=&#x27;neg_mean_squared_error&#x27;, verbose=1)</pre><b>In a Jupyter environment, please rerun this cell to show the HTML representation or trust the notebook. <br />On GitHub, the HTML representation is unable to render, please try loading this page with nbviewer.org.</b></div><div class=\"sk-container\" hidden><div class=\"sk-item sk-dashed-wrapped\"><div class=\"sk-label-container\"><div class=\"sk-label sk-toggleable\"><input class=\"sk-toggleable__control sk-hidden--visually\" id=\"sk-estimator-id-12\" type=\"checkbox\" ><label for=\"sk-estimator-id-12\" class=\"sk-toggleable__label sk-toggleable__label-arrow\">GridSearchCV</label><div class=\"sk-toggleable__content\"><pre>GridSearchCV(cv=3,\n",
              "             estimator=XGBRegressor(base_score=None, booster=None,\n",
              "                                    callbacks=None, colsample_bylevel=None,\n",
              "                                    colsample_bynode=None,\n",
              "                                    colsample_bytree=None, device=None,\n",
              "                                    early_stopping_rounds=None,\n",
              "                                    enable_categorical=False, eval_metric=None,\n",
              "                                    feature_types=None, gamma=None,\n",
              "                                    grow_policy=None, importance_type=None,\n",
              "                                    interaction_constraints=None,\n",
              "                                    learning_rate=None, m...\n",
              "                                    max_depth=None, max_leaves=None,\n",
              "                                    min_child_weight=None, missing=nan,\n",
              "                                    monotone_constraints=None,\n",
              "                                    multi_strategy=None, n_estimators=None,\n",
              "                                    n_jobs=None, num_parallel_tree=None,\n",
              "                                    random_state=None, ...),\n",
              "             n_jobs=-1,\n",
              "             param_grid={&#x27;alpha&#x27;: [1.5, 2, 2.5],\n",
              "                         &#x27;colsample_bytree&#x27;: [0.3, 0.5, 0.7],\n",
              "                         &#x27;learning_rate&#x27;: [0.01, 0.1, 0.2],\n",
              "                         &#x27;max_depth&#x27;: [3, 5, 7], &#x27;n_estimators&#x27;: [100]},\n",
              "             scoring=&#x27;neg_mean_squared_error&#x27;, verbose=1)</pre></div></div></div><div class=\"sk-parallel\"><div class=\"sk-parallel-item\"><div class=\"sk-item\"><div class=\"sk-label-container\"><div class=\"sk-label sk-toggleable\"><input class=\"sk-toggleable__control sk-hidden--visually\" id=\"sk-estimator-id-13\" type=\"checkbox\" ><label for=\"sk-estimator-id-13\" class=\"sk-toggleable__label sk-toggleable__label-arrow\">estimator: XGBRegressor</label><div class=\"sk-toggleable__content\"><pre>XGBRegressor(base_score=None, booster=None, callbacks=None,\n",
              "             colsample_bylevel=None, colsample_bynode=None,\n",
              "             colsample_bytree=None, device=None, early_stopping_rounds=None,\n",
              "             enable_categorical=False, eval_metric=None, feature_types=None,\n",
              "             gamma=None, grow_policy=None, importance_type=None,\n",
              "             interaction_constraints=None, learning_rate=None, max_bin=None,\n",
              "             max_cat_threshold=None, max_cat_to_onehot=None,\n",
              "             max_delta_step=None, max_depth=None, max_leaves=None,\n",
              "             min_child_weight=None, missing=nan, monotone_constraints=None,\n",
              "             multi_strategy=None, n_estimators=None, n_jobs=None,\n",
              "             num_parallel_tree=None, random_state=None, ...)</pre></div></div></div><div class=\"sk-serial\"><div class=\"sk-item\"><div class=\"sk-estimator sk-toggleable\"><input class=\"sk-toggleable__control sk-hidden--visually\" id=\"sk-estimator-id-14\" type=\"checkbox\" ><label for=\"sk-estimator-id-14\" class=\"sk-toggleable__label sk-toggleable__label-arrow\">XGBRegressor</label><div class=\"sk-toggleable__content\"><pre>XGBRegressor(base_score=None, booster=None, callbacks=None,\n",
              "             colsample_bylevel=None, colsample_bynode=None,\n",
              "             colsample_bytree=None, device=None, early_stopping_rounds=None,\n",
              "             enable_categorical=False, eval_metric=None, feature_types=None,\n",
              "             gamma=None, grow_policy=None, importance_type=None,\n",
              "             interaction_constraints=None, learning_rate=None, max_bin=None,\n",
              "             max_cat_threshold=None, max_cat_to_onehot=None,\n",
              "             max_delta_step=None, max_depth=None, max_leaves=None,\n",
              "             min_child_weight=None, missing=nan, monotone_constraints=None,\n",
              "             multi_strategy=None, n_estimators=None, n_jobs=None,\n",
              "             num_parallel_tree=None, random_state=None, ...)</pre></div></div></div></div></div></div></div></div></div></div>"
            ]
          },
          "metadata": {},
          "execution_count": 42
        }
      ]
    },
    {
      "cell_type": "code",
      "source": [
        "# Output the best parameters and the corresponding score\n",
        "print(\"Best parameters:\", grid_search.best_params_)\n",
        "print(\"Best cross-validation score:\", np.sqrt(-grid_search.best_score_))\n",
        "\n",
        "# You can access the best estimator directly\n",
        "best_model = grid_search.best_estimator_\n",
        "\n",
        "# Let's calcualte rmse on both train and test sets\n",
        "\n",
        "print(f\"RMSE on Train Set: {model_rmse(best_model, train_prepared, y_train)}\")\n",
        "\n",
        "print(f\"RMSE on Test Set: {model_rmse(best_model, test_prepared, y_test)}\")"
      ],
      "metadata": {
        "colab": {
          "base_uri": "https://localhost:8080/"
        },
        "id": "HU1ID-22t1KW",
        "outputId": "29769a97-ec7e-4e67-97c4-aae8698954b8"
      },
      "execution_count": null,
      "outputs": [
        {
          "output_type": "stream",
          "name": "stdout",
          "text": [
            "Best parameters: {'alpha': 2, 'colsample_bytree': 0.3, 'learning_rate': 0.1, 'max_depth': 7, 'n_estimators': 100}\n",
            "Best cross-validation score: 69.50641287128546\n",
            "RMSE on Train Set: 45.96217735617344\n",
            "RMSE on Test Set: 74.85201050651223\n"
          ]
        }
      ]
    },
    {
      "cell_type": "markdown",
      "source": [
        "### Catboost\n",
        "- This package takes care of encoding categorical variables on its own\n",
        "- Decision trees and gradient boosted trees normally are not sensitive to different scales of features. So I will skip the normalization too."
      ],
      "metadata": {
        "id": "UZEbCK8duRK2"
      }
    },
    {
      "cell_type": "code",
      "source": [
        "%%capture\n",
        "\n",
        "!pip install catboost"
      ],
      "metadata": {
        "id": "ir04-i8GwxOG"
      },
      "execution_count": null,
      "outputs": []
    },
    {
      "cell_type": "code",
      "source": [
        "from catboost import CatBoostRegressor, Pool"
      ],
      "metadata": {
        "id": "Phn8d0vMw1p3"
      },
      "execution_count": null,
      "outputs": []
    },
    {
      "cell_type": "code",
      "source": [
        "def fill_nan_host_response_time(data):\n",
        "  data['host_response_time'] = data['host_response_time'].fillna('No Data')\n",
        "\n",
        "  return data\n"
      ],
      "metadata": {
        "id": "9oIYWfKnyJxE"
      },
      "execution_count": null,
      "outputs": []
    },
    {
      "cell_type": "code",
      "source": [
        "# Building preprocessing pipeline fpr Catboost\n",
        "num_pipeline1 = Pipeline([\n",
        "      ('fill_nan', FunctionTransformer(fill_nan_in_money_cols))\n",
        "    , ('knn_impute', FunctionTransformer(knn_impute_na_in_numerical_data))\n",
        "    , ('winsorizing', FunctionTransformer(apply_winsorizing))\n",
        "    #, ('Normalization', MinMaxScaler()) # comment out normalization if you dont need\n",
        "])\n",
        "\n",
        "cat_pipeline2 = Pipeline([\n",
        "     ('fill_bools', FunctionTransformer(fill_missing_bools))\n",
        "    , ('fill_host_response_time', FunctionTransformer(fill_nan_host_response_time)) #just for catboost, because it does not handles nan\n",
        "    #, ('one_hot_encode', OneHotEncoder(sparse_output=False, drop='first'))\n",
        "])\n",
        "\n",
        "# Define your pipeline steps\n",
        "full_pipeline1 = ColumnTransformer([\n",
        "        (\"num\", num_pipeline1, num_attribs),\n",
        "        (\"cat\", cat_pipeline2, cat_attribs),\n",
        "    ])"
      ],
      "metadata": {
        "id": "DpGXP2rWuzpS"
      },
      "execution_count": null,
      "outputs": []
    },
    {
      "cell_type": "code",
      "source": [
        "train_prepared1 = full_pipeline1.fit_transform(X_train)"
      ],
      "metadata": {
        "id": "C2GjkM2IvUZJ"
      },
      "execution_count": null,
      "outputs": []
    },
    {
      "cell_type": "code",
      "source": [
        "train_prepared1.shape, X_train.shape"
      ],
      "metadata": {
        "colab": {
          "base_uri": "https://localhost:8080/"
        },
        "id": "GKhNl1j6vwmR",
        "outputId": "b7e8c9e8-0042-436e-93b4-e75e79021cee"
      },
      "execution_count": null,
      "outputs": [
        {
          "output_type": "execute_result",
          "data": {
            "text/plain": [
              "((8805, 32), (8805, 32))"
            ]
          },
          "metadata": {},
          "execution_count": 82
        }
      ]
    },
    {
      "cell_type": "code",
      "source": [
        "test_prepared1 = full_pipeline1.transform(X_test)"
      ],
      "metadata": {
        "id": "pgkYgyUx0Wvr"
      },
      "execution_count": null,
      "outputs": []
    },
    {
      "cell_type": "code",
      "source": [
        "train_prepared1[0][20:]"
      ],
      "metadata": {
        "colab": {
          "base_uri": "https://localhost:8080/"
        },
        "id": "b1rpCDlov2kP",
        "outputId": "5f3d3a60-5c63-44dd-ec6d-3dcc71841187"
      },
      "execution_count": null,
      "outputs": [
        {
          "output_type": "execute_result",
          "data": {
            "text/plain": [
              "array(['within an hour', 't', 't', 't', 't', 'Bungalow',\n",
              "       'Entire home/apt', 'Real Bed', 't', 'strict_14_with_grace_period',\n",
              "       'f', 'f'], dtype=object)"
            ]
          },
          "metadata": {},
          "execution_count": 55
        }
      ]
    },
    {
      "cell_type": "code",
      "source": [
        "train_prepared1[0]"
      ],
      "metadata": {
        "colab": {
          "base_uri": "https://localhost:8080/"
        },
        "id": "O-oxgEk1vZk7",
        "outputId": "ce3dfe4d-b8ad-4e3f-a27f-7ec20de3c462"
      },
      "execution_count": null,
      "outputs": [
        {
          "output_type": "execute_result",
          "data": {
            "text/plain": [
              "array([100.0, 32.84692, -117.26819, 2.0, 1.0, 1.0, 1.0, 0.0, 75.0, 1.0,\n",
              "       0.0, 134.0, 268.0, 99.0, 10.0, 10.0, 10.0, 10.0, 10.0, 10.0,\n",
              "       'within an hour', 't', 't', 't', 't', 'Bungalow',\n",
              "       'Entire home/apt', 'Real Bed', 't', 'strict_14_with_grace_period',\n",
              "       'f', 'f'], dtype=object)"
            ]
          },
          "metadata": {},
          "execution_count": 47
        }
      ]
    },
    {
      "cell_type": "code",
      "source": [
        "# In catboost, if we are feeding a numpy array, then we need to specify the indices of array that are categorical\n",
        "# In our data Indices of categorical features start from 20\n",
        "cat_features = list(range(20, 32))  # Columns 21 to 32 are categorical\n",
        "\n",
        "# Create a Pool object with categorical feature indices\n",
        "train_pool = Pool(train_prepared1, y_train, cat_features=cat_features)\n",
        "\n",
        "# Initialize CatBoostRegressor\n",
        "model = CatBoostRegressor(iterations=10, depth=2, learning_rate=0.1, loss_function='RMSE', verbose=True)\n",
        "\n",
        "# Train the model\n",
        "model.fit(train_pool)"
      ],
      "metadata": {
        "colab": {
          "base_uri": "https://localhost:8080/"
        },
        "id": "0tyimIWJwvOZ",
        "outputId": "5f83f7f2-175b-4f91-9807-e45d573391da"
      },
      "execution_count": null,
      "outputs": [
        {
          "output_type": "stream",
          "name": "stdout",
          "text": [
            "0:\tlearn: 133.7401961\ttotal: 57.5ms\tremaining: 517ms\n",
            "1:\tlearn: 127.5369618\ttotal: 63.2ms\tremaining: 253ms\n",
            "2:\tlearn: 122.0500449\ttotal: 70.1ms\tremaining: 164ms\n",
            "3:\tlearn: 116.9019136\ttotal: 75ms\tremaining: 113ms\n",
            "4:\tlearn: 112.4714515\ttotal: 77.4ms\tremaining: 77.4ms\n",
            "5:\tlearn: 108.5488209\ttotal: 80.7ms\tremaining: 53.8ms\n",
            "6:\tlearn: 105.0500195\ttotal: 83.1ms\tremaining: 35.6ms\n",
            "7:\tlearn: 102.1748631\ttotal: 86.5ms\tremaining: 21.6ms\n",
            "8:\tlearn: 99.4948163\ttotal: 88.9ms\tremaining: 9.87ms\n",
            "9:\tlearn: 97.2766171\ttotal: 91.1ms\tremaining: 0us\n"
          ]
        },
        {
          "output_type": "execute_result",
          "data": {
            "text/plain": [
              "<catboost.core.CatBoostRegressor at 0x7b86fc601a50>"
            ]
          },
          "metadata": {},
          "execution_count": 83
        }
      ]
    },
    {
      "cell_type": "code",
      "source": [
        "# Let's calcualte rmse on both train and test sets\n",
        "\n",
        "print(f\"RMSE on Train Set: {model_rmse(model, train_prepared1, y_train)}\")\n",
        "\n",
        "print(f\"RMSE on Test Set: {model_rmse(model, test_prepared1, y_test)}\")"
      ],
      "metadata": {
        "colab": {
          "base_uri": "https://localhost:8080/"
        },
        "id": "nh-dR00m0VRM",
        "outputId": "62ca4d52-38eb-4617-9378-98ae2cb46000"
      },
      "execution_count": null,
      "outputs": [
        {
          "output_type": "stream",
          "name": "stdout",
          "text": [
            "RMSE on Train Set: 97.27661708102175\n",
            "RMSE on Test Set: 104.8609110313323\n"
          ]
        }
      ]
    },
    {
      "cell_type": "code",
      "source": [
        "# Let's try GridSearchCV and Hyperparameter tuning\n",
        "# Define the parameter grid\n",
        "param_grid = {\n",
        "    'depth': [4, 6, 8],\n",
        "    'learning_rate' : [0.01, 0.05, 0.1],\n",
        "    'iterations' : [30, 50, 100],\n",
        "    'l2_leaf_reg': [1, 3, 5],\n",
        "    'border_count': [32, 64, 128],\n",
        "    'thread_count': [4],\n",
        "    'cat_features': [cat_features]  # specifying categorical features\n",
        "}\n",
        "\n",
        "\n",
        "# Initialize CatBoostRegressor\n",
        "cb_regressor = CatBoostRegressor()\n",
        "\n",
        "# Initialize GridSearchCV\n",
        "grid_search = GridSearchCV(estimator=cb_regressor, param_grid=param_grid, cv=3, scoring='neg_mean_squared_error', verbose=2, n_jobs=-1)\n",
        "\n",
        "# Fit GridSearchCV\n",
        "grid_search.fit(train_prepared1, y_train, verbose=False)  # Set verbose to False to avoid long outputs\n"
      ],
      "metadata": {
        "colab": {
          "base_uri": "https://localhost:8080/",
          "height": 135
        },
        "id": "kMnbGoo516hD",
        "outputId": "81b235d4-d420-419b-b7f0-b150adef3bd7"
      },
      "execution_count": null,
      "outputs": [
        {
          "metadata": {
            "tags": null
          },
          "name": "stdout",
          "output_type": "stream",
          "text": [
            "Fitting 3 folds for each of 243 candidates, totalling 729 fits\n"
          ]
        },
        {
          "output_type": "execute_result",
          "data": {
            "text/plain": [
              "GridSearchCV(cv=3,\n",
              "             estimator=<catboost.core.CatBoostRegressor object at 0x7b86de1d64d0>,\n",
              "             n_jobs=-1,\n",
              "             param_grid={'border_count': [32, 64, 128],\n",
              "                         'cat_features': [[20, 21, 22, 23, 24, 25, 26, 27, 28,\n",
              "                                           29, 30, 31]],\n",
              "                         'depth': [4, 6, 8], 'iterations': [30, 50, 100],\n",
              "                         'l2_leaf_reg': [1, 3, 5],\n",
              "                         'learning_rate': [0.01, 0.05, 0.1],\n",
              "                         'thread_count': [4]},\n",
              "             scoring='neg_mean_squared_error', verbose=2)"
            ],
            "text/html": [
              "<style>#sk-container-id-6 {color: black;background-color: white;}#sk-container-id-6 pre{padding: 0;}#sk-container-id-6 div.sk-toggleable {background-color: white;}#sk-container-id-6 label.sk-toggleable__label {cursor: pointer;display: block;width: 100%;margin-bottom: 0;padding: 0.3em;box-sizing: border-box;text-align: center;}#sk-container-id-6 label.sk-toggleable__label-arrow:before {content: \"▸\";float: left;margin-right: 0.25em;color: #696969;}#sk-container-id-6 label.sk-toggleable__label-arrow:hover:before {color: black;}#sk-container-id-6 div.sk-estimator:hover label.sk-toggleable__label-arrow:before {color: black;}#sk-container-id-6 div.sk-toggleable__content {max-height: 0;max-width: 0;overflow: hidden;text-align: left;background-color: #f0f8ff;}#sk-container-id-6 div.sk-toggleable__content pre {margin: 0.2em;color: black;border-radius: 0.25em;background-color: #f0f8ff;}#sk-container-id-6 input.sk-toggleable__control:checked~div.sk-toggleable__content {max-height: 200px;max-width: 100%;overflow: auto;}#sk-container-id-6 input.sk-toggleable__control:checked~label.sk-toggleable__label-arrow:before {content: \"▾\";}#sk-container-id-6 div.sk-estimator input.sk-toggleable__control:checked~label.sk-toggleable__label {background-color: #d4ebff;}#sk-container-id-6 div.sk-label input.sk-toggleable__control:checked~label.sk-toggleable__label {background-color: #d4ebff;}#sk-container-id-6 input.sk-hidden--visually {border: 0;clip: rect(1px 1px 1px 1px);clip: rect(1px, 1px, 1px, 1px);height: 1px;margin: -1px;overflow: hidden;padding: 0;position: absolute;width: 1px;}#sk-container-id-6 div.sk-estimator {font-family: monospace;background-color: #f0f8ff;border: 1px dotted black;border-radius: 0.25em;box-sizing: border-box;margin-bottom: 0.5em;}#sk-container-id-6 div.sk-estimator:hover {background-color: #d4ebff;}#sk-container-id-6 div.sk-parallel-item::after {content: \"\";width: 100%;border-bottom: 1px solid gray;flex-grow: 1;}#sk-container-id-6 div.sk-label:hover label.sk-toggleable__label {background-color: #d4ebff;}#sk-container-id-6 div.sk-serial::before {content: \"\";position: absolute;border-left: 1px solid gray;box-sizing: border-box;top: 0;bottom: 0;left: 50%;z-index: 0;}#sk-container-id-6 div.sk-serial {display: flex;flex-direction: column;align-items: center;background-color: white;padding-right: 0.2em;padding-left: 0.2em;position: relative;}#sk-container-id-6 div.sk-item {position: relative;z-index: 1;}#sk-container-id-6 div.sk-parallel {display: flex;align-items: stretch;justify-content: center;background-color: white;position: relative;}#sk-container-id-6 div.sk-item::before, #sk-container-id-6 div.sk-parallel-item::before {content: \"\";position: absolute;border-left: 1px solid gray;box-sizing: border-box;top: 0;bottom: 0;left: 50%;z-index: -1;}#sk-container-id-6 div.sk-parallel-item {display: flex;flex-direction: column;z-index: 1;position: relative;background-color: white;}#sk-container-id-6 div.sk-parallel-item:first-child::after {align-self: flex-end;width: 50%;}#sk-container-id-6 div.sk-parallel-item:last-child::after {align-self: flex-start;width: 50%;}#sk-container-id-6 div.sk-parallel-item:only-child::after {width: 0;}#sk-container-id-6 div.sk-dashed-wrapped {border: 1px dashed gray;margin: 0 0.4em 0.5em 0.4em;box-sizing: border-box;padding-bottom: 0.4em;background-color: white;}#sk-container-id-6 div.sk-label label {font-family: monospace;font-weight: bold;display: inline-block;line-height: 1.2em;}#sk-container-id-6 div.sk-label-container {text-align: center;}#sk-container-id-6 div.sk-container {/* jupyter's `normalize.less` sets `[hidden] { display: none; }` but bootstrap.min.css set `[hidden] { display: none !important; }` so we also need the `!important` here to be able to override the default hidden behavior on the sphinx rendered scikit-learn.org. See: https://github.com/scikit-learn/scikit-learn/issues/21755 */display: inline-block !important;position: relative;}#sk-container-id-6 div.sk-text-repr-fallback {display: none;}</style><div id=\"sk-container-id-6\" class=\"sk-top-container\"><div class=\"sk-text-repr-fallback\"><pre>GridSearchCV(cv=3,\n",
              "             estimator=&lt;catboost.core.CatBoostRegressor object at 0x7b86de1d64d0&gt;,\n",
              "             n_jobs=-1,\n",
              "             param_grid={&#x27;border_count&#x27;: [32, 64, 128],\n",
              "                         &#x27;cat_features&#x27;: [[20, 21, 22, 23, 24, 25, 26, 27, 28,\n",
              "                                           29, 30, 31]],\n",
              "                         &#x27;depth&#x27;: [4, 6, 8], &#x27;iterations&#x27;: [30, 50, 100],\n",
              "                         &#x27;l2_leaf_reg&#x27;: [1, 3, 5],\n",
              "                         &#x27;learning_rate&#x27;: [0.01, 0.05, 0.1],\n",
              "                         &#x27;thread_count&#x27;: [4]},\n",
              "             scoring=&#x27;neg_mean_squared_error&#x27;, verbose=2)</pre><b>In a Jupyter environment, please rerun this cell to show the HTML representation or trust the notebook. <br />On GitHub, the HTML representation is unable to render, please try loading this page with nbviewer.org.</b></div><div class=\"sk-container\" hidden><div class=\"sk-item sk-dashed-wrapped\"><div class=\"sk-label-container\"><div class=\"sk-label sk-toggleable\"><input class=\"sk-toggleable__control sk-hidden--visually\" id=\"sk-estimator-id-15\" type=\"checkbox\" ><label for=\"sk-estimator-id-15\" class=\"sk-toggleable__label sk-toggleable__label-arrow\">GridSearchCV</label><div class=\"sk-toggleable__content\"><pre>GridSearchCV(cv=3,\n",
              "             estimator=&lt;catboost.core.CatBoostRegressor object at 0x7b86de1d64d0&gt;,\n",
              "             n_jobs=-1,\n",
              "             param_grid={&#x27;border_count&#x27;: [32, 64, 128],\n",
              "                         &#x27;cat_features&#x27;: [[20, 21, 22, 23, 24, 25, 26, 27, 28,\n",
              "                                           29, 30, 31]],\n",
              "                         &#x27;depth&#x27;: [4, 6, 8], &#x27;iterations&#x27;: [30, 50, 100],\n",
              "                         &#x27;l2_leaf_reg&#x27;: [1, 3, 5],\n",
              "                         &#x27;learning_rate&#x27;: [0.01, 0.05, 0.1],\n",
              "                         &#x27;thread_count&#x27;: [4]},\n",
              "             scoring=&#x27;neg_mean_squared_error&#x27;, verbose=2)</pre></div></div></div><div class=\"sk-parallel\"><div class=\"sk-parallel-item\"><div class=\"sk-item\"><div class=\"sk-label-container\"><div class=\"sk-label sk-toggleable\"><input class=\"sk-toggleable__control sk-hidden--visually\" id=\"sk-estimator-id-16\" type=\"checkbox\" ><label for=\"sk-estimator-id-16\" class=\"sk-toggleable__label sk-toggleable__label-arrow\">estimator: CatBoostRegressor</label><div class=\"sk-toggleable__content\"><pre>&lt;catboost.core.CatBoostRegressor object at 0x7b86de1d64d0&gt;</pre></div></div></div><div class=\"sk-serial\"><div class=\"sk-item\"><div class=\"sk-estimator sk-toggleable\"><input class=\"sk-toggleable__control sk-hidden--visually\" id=\"sk-estimator-id-17\" type=\"checkbox\" ><label for=\"sk-estimator-id-17\" class=\"sk-toggleable__label sk-toggleable__label-arrow\">CatBoostRegressor</label><div class=\"sk-toggleable__content\"><pre>&lt;catboost.core.CatBoostRegressor object at 0x7b86de1d64d0&gt;</pre></div></div></div></div></div></div></div></div></div></div>"
            ]
          },
          "metadata": {},
          "execution_count": 87
        }
      ]
    },
    {
      "cell_type": "code",
      "source": [
        "# Output the best parameters and the corresponding score\n",
        "print(\"Best parameters:\", grid_search.best_params_)\n",
        "print(\"Best cross-validation score:\", np.sqrt(-grid_search.best_score_))\n",
        "\n",
        "# You can access the best estimator directly\n",
        "best_model = grid_search.best_estimator_\n",
        "\n",
        "# Let's calcualte rmse on both train and test sets\n",
        "\n",
        "print(f\"RMSE on Train Set: {model_rmse(best_model, train_prepared1, y_train)}\")\n",
        "\n",
        "print(f\"RMSE on Test Set: {model_rmse(best_model, test_prepared1, y_test)}\")"
      ],
      "metadata": {
        "colab": {
          "base_uri": "https://localhost:8080/"
        },
        "id": "9udRTXNL3wGY",
        "outputId": "90e346d5-a8b2-4139-81b9-f5e9b9c2bc52"
      },
      "execution_count": null,
      "outputs": [
        {
          "output_type": "stream",
          "name": "stdout",
          "text": [
            "Best parameters: {'border_count': 128, 'cat_features': [20, 21, 22, 23, 24, 25, 26, 27, 28, 29, 30, 31], 'depth': 8, 'iterations': 100, 'l2_leaf_reg': 3, 'learning_rate': 0.1, 'thread_count': 4}\n",
            "Best cross-validation score: 70.6632103009377\n",
            "RMSE on Train Set: 60.9573131690283\n",
            "RMSE on Test Set: 75.10002854107782\n"
          ]
        }
      ]
    },
    {
      "cell_type": "markdown",
      "source": [
        "## NN"
      ],
      "metadata": {
        "id": "Catx-pwLU0bp"
      }
    },
    {
      "cell_type": "code",
      "source": [
        "import sklearn\n",
        "import sys\n",
        "import tensorflow as tf\n",
        "from tensorflow import keras"
      ],
      "metadata": {
        "id": "vHR3MWjZU1kg"
      },
      "execution_count": null,
      "outputs": []
    },
    {
      "cell_type": "code",
      "source": [
        "train_prepared.shape, y_train.shape, test_prepared.shape, y_test.shape"
      ],
      "metadata": {
        "colab": {
          "base_uri": "https://localhost:8080/"
        },
        "id": "BhX5SBk3WLOT",
        "outputId": "1c8c236c-fc71-401f-c540-1a5f84d85f29"
      },
      "execution_count": null,
      "outputs": [
        {
          "output_type": "execute_result",
          "data": {
            "text/plain": [
              "((8805, 61), (8805,), (2202, 61), (2202,))"
            ]
          },
          "metadata": {},
          "execution_count": 34
        }
      ]
    },
    {
      "cell_type": "code",
      "source": [
        "train_prepared.shape[1]"
      ],
      "metadata": {
        "colab": {
          "base_uri": "https://localhost:8080/"
        },
        "id": "O3xGmYm1XOdr",
        "outputId": "a8e8adfc-0722-43c4-c1c0-76cbf2a2e2af"
      },
      "execution_count": null,
      "outputs": [
        {
          "output_type": "execute_result",
          "data": {
            "text/plain": [
              "61"
            ]
          },
          "metadata": {},
          "execution_count": 37
        }
      ]
    },
    {
      "cell_type": "code",
      "source": [
        "# Building a base NN model\n",
        "# model = keras.models.Sequential([\n",
        "#     keras.layers.Dense(24, activation=\"relu\", input_shape=(train_prepared.shape[1],)),  # Adjusted for input features\n",
        "#     keras.layers.Dense(12, activation=\"relu\"),\n",
        "#     keras.layers.Dense(6, activation=\"relu\"),\n",
        "#     keras.layers.Dense(1)  # Output layer for regression; 1 unit with no activation (linear)\n",
        "# ])\n",
        "model = keras.models.Sequential([\n",
        "    keras.layers.Dense(16, activation=\"relu\", input_shape=(train_prepared.shape[1],)),  # Increased the number of neurons\n",
        "    # keras.layers.Dense(8, activation=\"relu\"),  # Additional hidden layer\n",
        "    # keras.layers.Dropout(0.2),  # Dropout layer for regularization\n",
        "    keras.layers.Dense(4, activation=\"relu\"),  # Another hidden layer\n",
        "    keras.layers.Dense(1)  # Output layer for regression\n",
        "])\n",
        "# Compiling the model with mean squared error loss function for regression\n",
        "# and a small learning rate for the SGD optimizer\n",
        "model.compile(loss=\"mean_squared_error\", optimizer=keras.optimizers.SGD(learning_rate=1e-2))\n"
      ],
      "metadata": {
        "id": "ec0QddX0WT8W"
      },
      "execution_count": null,
      "outputs": []
    },
    {
      "cell_type": "code",
      "source": [
        "1e-3"
      ],
      "metadata": {
        "colab": {
          "base_uri": "https://localhost:8080/"
        },
        "id": "XkGrMo6xzx-C",
        "outputId": "fd1b7888-d0a7-419a-c06e-b26888616952"
      },
      "execution_count": null,
      "outputs": [
        {
          "output_type": "execute_result",
          "data": {
            "text/plain": [
              "0.001"
            ]
          },
          "metadata": {},
          "execution_count": 45
        }
      ]
    },
    {
      "cell_type": "code",
      "source": [
        "# The model is now ready to be trained with X_train_scaled and y_train\n",
        "model.fit(train_prepared, y_train, epochs=20, batch_size=128, validation_data=(test_prepared, y_test))"
      ],
      "metadata": {
        "colab": {
          "base_uri": "https://localhost:8080/"
        },
        "id": "l_H_u_gqXh2l",
        "outputId": "953b9c8b-936e-428c-e23e-0c8834838d5b"
      },
      "execution_count": null,
      "outputs": [
        {
          "output_type": "stream",
          "name": "stdout",
          "text": [
            "Epoch 1/20\n",
            "69/69 [==============================] - 1s 5ms/step - loss: 5247666176.0000 - val_loss: 7139493.5000\n",
            "Epoch 2/20\n",
            "69/69 [==============================] - 0s 4ms/step - loss: 2457268.7500 - val_loss: 468505.4062\n",
            "Epoch 3/20\n",
            "69/69 [==============================] - 0s 4ms/step - loss: 170251.4375 - val_loss: 52114.2695\n",
            "Epoch 4/20\n",
            "69/69 [==============================] - 0s 4ms/step - loss: 29268.6504 - val_loss: 24860.3438\n",
            "Epoch 5/20\n",
            "69/69 [==============================] - 0s 4ms/step - loss: 20516.1133 - val_loss: 22870.7441\n",
            "Epoch 6/20\n",
            "69/69 [==============================] - 0s 4ms/step - loss: 19988.5918 - val_loss: 22662.3379\n",
            "Epoch 7/20\n",
            "69/69 [==============================] - 0s 4ms/step - loss: 19954.4707 - val_loss: 22626.2031\n",
            "Epoch 8/20\n",
            "69/69 [==============================] - 0s 4ms/step - loss: 19952.0059 - val_loss: 22616.6875\n",
            "Epoch 9/20\n",
            "69/69 [==============================] - 0s 4ms/step - loss: 19951.2637 - val_loss: 22618.8457\n",
            "Epoch 10/20\n",
            "69/69 [==============================] - 0s 4ms/step - loss: 19951.5547 - val_loss: 22623.3457\n",
            "Epoch 11/20\n",
            "69/69 [==============================] - 0s 4ms/step - loss: 19951.3574 - val_loss: 22617.0234\n",
            "Epoch 12/20\n",
            "69/69 [==============================] - 0s 4ms/step - loss: 19951.5703 - val_loss: 22613.8223\n",
            "Epoch 13/20\n",
            "69/69 [==============================] - 0s 5ms/step - loss: 19951.9082 - val_loss: 22624.7559\n",
            "Epoch 14/20\n",
            "69/69 [==============================] - 0s 5ms/step - loss: 19951.3672 - val_loss: 22616.1445\n",
            "Epoch 15/20\n",
            "69/69 [==============================] - 0s 5ms/step - loss: 19950.6523 - val_loss: 22606.4980\n",
            "Epoch 16/20\n",
            "69/69 [==============================] - 0s 5ms/step - loss: 19950.8105 - val_loss: 22618.3164\n",
            "Epoch 17/20\n",
            "69/69 [==============================] - 0s 6ms/step - loss: 19951.4316 - val_loss: 22609.0195\n",
            "Epoch 18/20\n",
            "69/69 [==============================] - 0s 6ms/step - loss: 19950.7656 - val_loss: 22607.9238\n",
            "Epoch 19/20\n",
            "69/69 [==============================] - 0s 4ms/step - loss: 19951.0566 - val_loss: 22622.7109\n",
            "Epoch 20/20\n",
            "69/69 [==============================] - 0s 4ms/step - loss: 19952.3457 - val_loss: 22616.4023\n"
          ]
        },
        {
          "output_type": "execute_result",
          "data": {
            "text/plain": [
              "<keras.src.callbacks.History at 0x7d8f803fce80>"
            ]
          },
          "metadata": {},
          "execution_count": 39
        }
      ]
    },
    {
      "cell_type": "code",
      "source": [
        "np.sqrt(19948.9375)"
      ],
      "metadata": {
        "colab": {
          "base_uri": "https://localhost:8080/"
        },
        "id": "i1S_07d_Y7Xb",
        "outputId": "698eec10-f8d8-4998-e295-4f5447ee5f04"
      },
      "execution_count": null,
      "outputs": [
        {
          "output_type": "execute_result",
          "data": {
            "text/plain": [
              "141.24070765894655"
            ]
          },
          "metadata": {},
          "execution_count": 38
        }
      ]
    },
    {
      "cell_type": "code",
      "source": [
        "def nn_model_rmse(model, independent_data, target):\n",
        "  # Step 1: Make predictions\n",
        "  predictions = model.predict(independent_data)\n",
        "\n",
        "  # Step 2: Compute MSE\n",
        "  mse = np.mean((predictions.flatten() - target)**2)\n",
        "\n",
        "  # Step 3: Compute RMSE\n",
        "  return np.sqrt(mse)\n"
      ],
      "metadata": {
        "id": "I4Jk6EabyIG1"
      },
      "execution_count": null,
      "outputs": []
    },
    {
      "cell_type": "code",
      "source": [
        "nn_model_rmse(model, test_prepared, y_test)"
      ],
      "metadata": {
        "colab": {
          "base_uri": "https://localhost:8080/"
        },
        "id": "L-VdW-F6zCyO",
        "outputId": "d87a9f84-961d-4f24-fa93-5ff90f2ca9e6"
      },
      "execution_count": null,
      "outputs": [
        {
          "output_type": "stream",
          "name": "stdout",
          "text": [
            "69/69 [==============================] - 0s 1ms/step\n"
          ]
        },
        {
          "output_type": "execute_result",
          "data": {
            "text/plain": [
              "150.38750952565638"
            ]
          },
          "metadata": {},
          "execution_count": 40
        }
      ]
    },
    {
      "cell_type": "markdown",
      "source": [
        "PCA"
      ],
      "metadata": {
        "id": "mapEV-ko2W9F"
      }
    },
    {
      "cell_type": "code",
      "source": [
        "# dimensionality reduction with PCA\n",
        "from sklearn.decomposition import PCA\n",
        "\n",
        "pca = PCA(n_components=14) # 14 features gets to mse=58\n",
        "pca.fit(train_prepared)\n",
        "\n",
        "print(pca.explained_variance_ratio_)\n",
        "\n",
        "train_prepared = pca.transform(train_prepared)\n",
        "test_prepared = pca.transform(test_prepared)"
      ],
      "metadata": {
        "colab": {
          "base_uri": "https://localhost:8080/"
        },
        "id": "rJBGLcut2W2L",
        "outputId": "eb368405-3965-4234-cbe1-d0eaeb15fd6e"
      },
      "execution_count": null,
      "outputs": [
        {
          "output_type": "stream",
          "name": "stdout",
          "text": [
            "[0.13865719 0.10747254 0.09322331 0.07975372 0.07083769 0.05446187\n",
            " 0.04895483 0.0403877  0.03704884 0.03125197 0.02864035 0.02791969\n",
            " 0.02432937 0.02080461]\n"
          ]
        }
      ]
    },
    {
      "cell_type": "code",
      "source": [
        "train_prepared.shape, y_train.shape, test_prepared.shape, y_test.shape"
      ],
      "metadata": {
        "colab": {
          "base_uri": "https://localhost:8080/"
        },
        "id": "PuePh0fg277u",
        "outputId": "575fbacd-2748-4100-8977-554540be447a"
      },
      "execution_count": null,
      "outputs": [
        {
          "output_type": "execute_result",
          "data": {
            "text/plain": [
              "((8805, 14), (8805,), (2202, 14), (2202,))"
            ]
          },
          "metadata": {},
          "execution_count": 42
        }
      ]
    },
    {
      "cell_type": "code",
      "source": [
        "# trying PCA data on NN\n",
        "\n",
        "# Building a base NN model\n",
        "\n",
        "model = keras.models.Sequential([\n",
        "    keras.layers.Dense(8, activation=\"relu\", input_shape=(train_prepared.shape[1],)),  # Increased the number of neurons\n",
        "    # keras.layers.Dense(8, activation=\"relu\"),  # Additional hidden layer\n",
        "    # keras.layers.Dropout(0.2),  # Dropout layer for regularization\n",
        "    keras.layers.Dense(4, activation=\"relu\"),  # Another hidden layer\n",
        "    keras.layers.Dense(1)  # Output layer for regression\n",
        "])\n",
        "\n",
        "\n",
        "# Compiling the model with mean squared error loss function for regression\n",
        "# and a small learning rate for the SGD optimizer\n",
        "model.compile(loss=\"mean_squared_error\", optimizer=keras.optimizers.SGD(learning_rate=1e-3))\n"
      ],
      "metadata": {
        "id": "5rQ1Wlpc3BH3"
      },
      "execution_count": null,
      "outputs": []
    },
    {
      "cell_type": "code",
      "source": [
        "# The model is now ready to be trained with X_train_scaled and y_train\n",
        "model.fit(train_prepared, y_train, epochs=50, batch_size=128, validation_data=(test_prepared, y_test))"
      ],
      "metadata": {
        "colab": {
          "base_uri": "https://localhost:8080/"
        },
        "id": "T4M0SX713BF_",
        "outputId": "5822a3cb-e5ed-45cb-80ad-044173f333b2"
      },
      "execution_count": null,
      "outputs": [
        {
          "output_type": "stream",
          "name": "stdout",
          "text": [
            "Epoch 1/50\n",
            "69/69 [==============================] - 1s 9ms/step - loss: 48105.1836 - val_loss: 50190.4922\n",
            "Epoch 2/50\n",
            "69/69 [==============================] - 0s 4ms/step - loss: 42040.5547 - val_loss: 43804.3477\n",
            "Epoch 3/50\n",
            "69/69 [==============================] - 0s 5ms/step - loss: 36710.3438 - val_loss: 38916.7188\n",
            "Epoch 4/50\n",
            "69/69 [==============================] - 0s 5ms/step - loss: 32663.5547 - val_loss: 35183.4766\n",
            "Epoch 5/50\n",
            "69/69 [==============================] - 0s 5ms/step - loss: 29594.7676 - val_loss: 32324.0840\n",
            "Epoch 6/50\n",
            "69/69 [==============================] - 0s 5ms/step - loss: 27266.3926 - val_loss: 30133.1562\n",
            "Epoch 7/50\n",
            "69/69 [==============================] - 0s 6ms/step - loss: 25500.3789 - val_loss: 28448.5781\n",
            "Epoch 8/50\n",
            "69/69 [==============================] - 0s 4ms/step - loss: 24157.9395 - val_loss: 27152.0254\n",
            "Epoch 9/50\n",
            "69/69 [==============================] - 0s 4ms/step - loss: 23139.0586 - val_loss: 26154.3359\n",
            "Epoch 10/50\n",
            "69/69 [==============================] - 0s 3ms/step - loss: 22368.9199 - val_loss: 25389.6621\n",
            "Epoch 11/50\n",
            "69/69 [==============================] - 0s 3ms/step - loss: 21785.2871 - val_loss: 24795.3301\n",
            "Epoch 12/50\n",
            "69/69 [==============================] - 0s 3ms/step - loss: 21341.2539 - val_loss: 24332.6973\n",
            "Epoch 13/50\n",
            "69/69 [==============================] - 0s 3ms/step - loss: 20969.8809 - val_loss: 23620.0449\n",
            "Epoch 14/50\n",
            "69/69 [==============================] - 0s 4ms/step - loss: 18918.2695 - val_loss: 21362.3613\n",
            "Epoch 15/50\n",
            "69/69 [==============================] - 0s 3ms/step - loss: 17965.1289 - val_loss: 20517.8848\n",
            "Epoch 16/50\n",
            "69/69 [==============================] - 0s 4ms/step - loss: 17275.7539 - val_loss: 19782.6465\n",
            "Epoch 17/50\n",
            "69/69 [==============================] - 0s 3ms/step - loss: 16638.3320 - val_loss: 19086.7793\n",
            "Epoch 18/50\n",
            "69/69 [==============================] - 0s 3ms/step - loss: 16079.7979 - val_loss: 18589.8438\n",
            "Epoch 19/50\n",
            "69/69 [==============================] - 0s 3ms/step - loss: 15593.4932 - val_loss: 18060.8184\n",
            "Epoch 20/50\n",
            "69/69 [==============================] - 0s 4ms/step - loss: 15149.2959 - val_loss: 17512.4629\n",
            "Epoch 21/50\n",
            "69/69 [==============================] - 0s 4ms/step - loss: 14742.5059 - val_loss: 17025.9062\n",
            "Epoch 22/50\n",
            "69/69 [==============================] - 0s 4ms/step - loss: 14386.5869 - val_loss: 16530.2344\n",
            "Epoch 23/50\n",
            "69/69 [==============================] - 0s 3ms/step - loss: 14127.5947 - val_loss: 16088.6064\n",
            "Epoch 24/50\n",
            "69/69 [==============================] - 0s 4ms/step - loss: 13986.8643 - val_loss: 16017.7588\n",
            "Epoch 25/50\n",
            "69/69 [==============================] - 0s 3ms/step - loss: 13807.8359 - val_loss: 16841.6309\n",
            "Epoch 26/50\n",
            "69/69 [==============================] - 0s 4ms/step - loss: 13405.7119 - val_loss: 19554.6406\n",
            "Epoch 27/50\n",
            "69/69 [==============================] - 0s 3ms/step - loss: 13392.9160 - val_loss: 15306.6699\n",
            "Epoch 28/50\n",
            "69/69 [==============================] - 0s 4ms/step - loss: 13216.1191 - val_loss: 14600.3350\n",
            "Epoch 29/50\n",
            "69/69 [==============================] - 0s 4ms/step - loss: 12940.7441 - val_loss: 14639.1367\n",
            "Epoch 30/50\n",
            "69/69 [==============================] - 0s 4ms/step - loss: 12740.4268 - val_loss: 14144.4326\n",
            "Epoch 31/50\n",
            "69/69 [==============================] - 0s 3ms/step - loss: 12056.1416 - val_loss: 14032.3154\n",
            "Epoch 32/50\n",
            "69/69 [==============================] - 0s 4ms/step - loss: 11966.4307 - val_loss: 13791.9541\n",
            "Epoch 33/50\n",
            "69/69 [==============================] - 0s 3ms/step - loss: 11648.5410 - val_loss: 14420.8018\n",
            "Epoch 34/50\n",
            "69/69 [==============================] - 0s 4ms/step - loss: 11376.6982 - val_loss: 13330.2900\n",
            "Epoch 35/50\n",
            "69/69 [==============================] - 0s 4ms/step - loss: 11167.3145 - val_loss: 13330.1426\n",
            "Epoch 36/50\n",
            "69/69 [==============================] - 0s 4ms/step - loss: 11038.4492 - val_loss: 13035.7598\n",
            "Epoch 37/50\n",
            "69/69 [==============================] - 0s 3ms/step - loss: 10846.8564 - val_loss: 12796.5771\n",
            "Epoch 38/50\n",
            "69/69 [==============================] - 0s 4ms/step - loss: 10743.8057 - val_loss: 12836.5566\n",
            "Epoch 39/50\n",
            "69/69 [==============================] - 0s 4ms/step - loss: 10622.5664 - val_loss: 12385.5420\n",
            "Epoch 40/50\n",
            "69/69 [==============================] - 0s 4ms/step - loss: 10414.9893 - val_loss: 12263.7236\n",
            "Epoch 41/50\n",
            "69/69 [==============================] - 0s 4ms/step - loss: 10346.8213 - val_loss: 12048.3682\n",
            "Epoch 42/50\n",
            "69/69 [==============================] - 0s 4ms/step - loss: 10250.8281 - val_loss: 12712.1807\n",
            "Epoch 43/50\n",
            "69/69 [==============================] - 0s 4ms/step - loss: 10069.3438 - val_loss: 12041.9092\n",
            "Epoch 44/50\n",
            "69/69 [==============================] - 0s 4ms/step - loss: 9991.6328 - val_loss: 11694.8379\n",
            "Epoch 45/50\n",
            "69/69 [==============================] - 0s 4ms/step - loss: 9881.7686 - val_loss: 11995.4180\n",
            "Epoch 46/50\n",
            "69/69 [==============================] - 0s 4ms/step - loss: 9818.0352 - val_loss: 11515.1904\n",
            "Epoch 47/50\n",
            "69/69 [==============================] - 0s 5ms/step - loss: 9666.4727 - val_loss: 11904.1777\n",
            "Epoch 48/50\n",
            "69/69 [==============================] - 0s 5ms/step - loss: 9542.7627 - val_loss: 11506.4971\n",
            "Epoch 49/50\n",
            "69/69 [==============================] - 0s 5ms/step - loss: 9536.4463 - val_loss: 11092.5664\n",
            "Epoch 50/50\n",
            "69/69 [==============================] - 0s 5ms/step - loss: 9397.4961 - val_loss: 11098.7334\n"
          ]
        },
        {
          "output_type": "execute_result",
          "data": {
            "text/plain": [
              "<keras.src.callbacks.History at 0x7d8f0c938f70>"
            ]
          },
          "metadata": {},
          "execution_count": 61
        }
      ]
    },
    {
      "cell_type": "code",
      "source": [
        "# Let's calcualte rmse on both train and test sets\n",
        "\n",
        "print(f\"RMSE on Train Set: {nn_model_rmse(model, train_prepared, y_train)}\")\n",
        "\n",
        "print(f\"RMSE on Test Set: {nn_model_rmse(model, test_prepared, y_test)}\")"
      ],
      "metadata": {
        "colab": {
          "base_uri": "https://localhost:8080/"
        },
        "id": "s-j429w35InE",
        "outputId": "a665b7b7-d2d9-431b-93f3-8695f9f2ca72"
      },
      "execution_count": null,
      "outputs": [
        {
          "output_type": "stream",
          "name": "stdout",
          "text": [
            "276/276 [==============================] - 0s 2ms/step\n",
            "RMSE on Train Set: 95.73844376577031\n",
            "69/69 [==============================] - 0s 2ms/step\n",
            "RMSE on Test Set: 105.35052869587552\n"
          ]
        }
      ]
    },
    {
      "cell_type": "markdown",
      "source": [
        "276/276 [==============================] - 0s 2ms/step\n",
        "RMSE on Train Set: 95.73844376577031\n",
        "\n",
        "69/69 [==============================] - 0s 2ms/step\n",
        "RMSE on Test Set: 105.35052869587552"
      ],
      "metadata": {
        "id": "sdgRvams6kvt"
      }
    },
    {
      "cell_type": "markdown",
      "source": [
        "## Data Preprocessing Without Winsorizing or Normalization for low outlier sensitive algorithms such as Decision Trees, Gradient Boosted Trees"
      ],
      "metadata": {
        "id": "gDBLyO0lVL_x"
      }
    },
    {
      "cell_type": "code",
      "source": [
        "# Building preprocessing pipeline fpr Catboost\n",
        "num_pipeline3 = Pipeline([\n",
        "      ('fill_nan', FunctionTransformer(fill_nan_in_money_cols))\n",
        "    , ('knn_impute', FunctionTransformer(knn_impute_na_in_numerical_data))\n",
        "    # , ('winsorizing', FunctionTransformer(apply_winsorizing))\n",
        "    #, ('Normalization', MinMaxScaler()) # comment out normalization if you dont need\n",
        "])\n",
        "\n",
        "cat_pipeline3 = Pipeline([\n",
        "     ('fill_bools', FunctionTransformer(fill_missing_bools))\n",
        "    , ('one_hot_encode', OneHotEncoder(sparse_output=False, drop='first'))\n",
        "])\n",
        "\n",
        "# Define your pipeline steps\n",
        "full_pipeline3 = ColumnTransformer([\n",
        "        (\"num\", num_pipeline3, num_attribs),\n",
        "        (\"cat\", cat_pipeline3, cat_attribs),\n",
        "    ])"
      ],
      "metadata": {
        "id": "J2mUYs0vWKGO"
      },
      "execution_count": null,
      "outputs": []
    },
    {
      "cell_type": "code",
      "source": [
        "train_prepared3 = full_pipeline3.fit_transform(X_train)\n",
        "y_train = train_set['nightly_price'].copy()"
      ],
      "metadata": {
        "id": "NVxiCV8W8T-3"
      },
      "execution_count": null,
      "outputs": []
    },
    {
      "cell_type": "code",
      "source": [
        "test_prepared3 = full_pipeline3.transform(X_test)\n",
        "y_test = test_set['nightly_price'].copy()"
      ],
      "metadata": {
        "id": "Doe5lqO78qyq"
      },
      "execution_count": null,
      "outputs": []
    },
    {
      "cell_type": "code",
      "source": [
        "from sklearn.tree import DecisionTreeRegressor\n",
        "from sklearn.ensemble import RandomForestRegressor\n",
        "from sklearn.ensemble import AdaBoostRegressor\n",
        "import xgboost as xgb\n",
        "from sklearn.metrics import mean_squared_error"
      ],
      "metadata": {
        "id": "gk24aHJd9kHK"
      },
      "execution_count": null,
      "outputs": []
    },
    {
      "cell_type": "code",
      "source": [
        "# Will try Decison Trees, RF, Adaboost, XGBoost on their best params above\n",
        "\n",
        "tree_reg = DecisionTreeRegressor(random_state=42)\n",
        "\n",
        "#use RandomForestRegressor to fit the data\n",
        "forest_reg = RandomForestRegressor(n_estimators=100, random_state=42,\n",
        "                                   max_features=0.5,\n",
        "                                   min_impurity_decrease=0.1,\n",
        "                                   min_samples_leaf=2,\n",
        "                                   min_samples_split=4)\n",
        "\n",
        "# Define the base estimator\n",
        "\n",
        "base_regressor = DecisionTreeRegressor(max_depth=5)\n",
        "\n",
        "# Define the AdaBoost regressor\n",
        "ada_reg= AdaBoostRegressor(estimator=base_regressor,\n",
        "                                  n_estimators=200,\n",
        "                                  learning_rate=0.01,\n",
        "                                  )\n",
        "\n",
        "# Initialize XGBRegressor\n",
        "xgb_reg = xgb.XGBRegressor(objective ='reg:squarederror', colsample_bytree = 0.3, learning_rate = 0.1,\n",
        "                max_depth = 7, alpha = 2, n_estimators = 100)\n",
        "\n"
      ],
      "metadata": {
        "id": "y5a3cKJ28zKQ"
      },
      "execution_count": null,
      "outputs": []
    },
    {
      "cell_type": "code",
      "source": [
        "#Let's fit all these models\n",
        "# Storing models in a dictionary\n",
        "models_dict = {\n",
        "    'tree_reg': tree_reg,\n",
        "    'forest_reg': forest_reg,\n",
        "    'ada_reg': ada_reg,\n",
        "    'xgb_reg': xgb_reg\n",
        "}\n",
        "\n",
        "\n",
        "# Iterating over models\n",
        "for name, model in models_dict.items():\n",
        "    print(name)\n",
        "    model.fit(train_prepared3, y_train)\n",
        "    print(f\"RMSE on Train Set: {model_rmse(model, train_prepared3, y_train)}\")\n",
        "    print(f\"RMSE on Test Set: {model_rmse(model, test_prepared3, y_test)}\")\n",
        "    print(\"\\n\")\n"
      ],
      "metadata": {
        "colab": {
          "base_uri": "https://localhost:8080/"
        },
        "id": "hRt5841wAgwe",
        "outputId": "1da1df79-f24a-4e4f-8372-20ca36da4662"
      },
      "execution_count": null,
      "outputs": [
        {
          "output_type": "stream",
          "name": "stdout",
          "text": [
            "tree_reg\n",
            "RMSE on Train Set: 0.0\n",
            "RMSE on Test Set: 174.96997406873294\n",
            "\n",
            "\n",
            "forest_reg\n",
            "RMSE on Train Set: 61.76772763062866\n",
            "RMSE on Test Set: 126.82656404182701\n",
            "\n",
            "\n",
            "ada_reg\n",
            "RMSE on Train Set: 115.03759763544514\n",
            "RMSE on Test Set: 134.23893476849517\n",
            "\n",
            "\n",
            "xgb_reg\n",
            "RMSE on Train Set: 64.85500743245619\n",
            "RMSE on Test Set: 131.63508507588932\n",
            "\n",
            "\n"
          ]
        }
      ]
    },
    {
      "cell_type": "markdown",
      "source": [
        "The above results dont look promising. Last Hope: Feature Transformation and Reduction. A few ideas\n",
        "1. Drop all those review scores cols and just keep review ratings col or take an avg of the review_score cols. That would reduce review features from 5-6 to 1-2.\n",
        "2. bed_type col has 5 types: Real Bed, Futon, Couch, Pull-out Sofa and Airbed. The last 4 types together only have 90 rows in data as compared to 10K rows of Real Bed. Idea is to label last 4 bed types together as \"Not Real Bed\". (Also last 4 type's price distribution (min, max, mean, median) is similar) This would reduce one hot encoded bed_type features from 4 to 1.\n",
        "3. In property_type col, there are some types that appear less than 5 times and some only appear once, so property_types that appear less than 5 times are labeled as \"Other\". Resulting in reduction of 4-5 one-hot encoded property features.\n",
        "\n",
        "##Thoughts??"
      ],
      "metadata": {
        "id": "Vlhxl3N3EESM"
      }
    },
    {
      "cell_type": "code",
      "source": [],
      "metadata": {
        "id": "aofIXEyUEzJs"
      },
      "execution_count": null,
      "outputs": []
    },
    {
      "cell_type": "markdown",
      "source": [
        "## Summary"
      ],
      "metadata": {
        "id": "Xbo8NJ_Zs5sm"
      }
    },
    {
      "cell_type": "code",
      "source": [
        "import pandas as pd\n",
        "\n",
        "# Create a dictionary with the model names and their corresponding RMSE values\n",
        "data = {\n",
        "    'Model': ['NN PCA', 'CatBoost', 'XGBoost', 'AdaBoost', 'SVR', 'RF', 'Ridge'],\n",
        "    'Train_RMSE': [95.73844376577031, 97.27661708102175, 45.96217735617344, 73.29831628489765, 75.39414644169473, 33.283517567344916, 78.07540845752695],\n",
        "    'Test_RMSE': [105.35052869587552, 104.8609110313323, 74.85201050651223, 81.01200559166851, 80.9589040711945, 74.43852040697696, 82.87010966639706]\n",
        "}\n",
        "\n",
        "# Create DataFrame\n",
        "df_new = pd.DataFrame(data)\n",
        "\n",
        "df_new\n"
      ],
      "metadata": {
        "id": "hx-WU2UCs7Ja",
        "outputId": "009bbffe-b79f-406e-cfd4-de49736334b9",
        "colab": {
          "base_uri": "https://localhost:8080/",
          "height": 269
        }
      },
      "execution_count": null,
      "outputs": [
        {
          "output_type": "execute_result",
          "data": {
            "text/plain": [
              "      Model  Train_RMSE   Test_RMSE\n",
              "0    NN PCA   95.738444  105.350529\n",
              "1  CatBoost   97.276617  104.860911\n",
              "2   XGBoost   45.962177   74.852011\n",
              "3  AdaBoost   73.298316   81.012006\n",
              "4       SVR   75.394146   80.958904\n",
              "5        RF   33.283518   74.438520\n",
              "6     Ridge   78.075408   82.870110"
            ],
            "text/html": [
              "\n",
              "  <div id=\"df-fb0d28f0-a74c-402f-a068-89b560b162ab\" class=\"colab-df-container\">\n",
              "    <div>\n",
              "<style scoped>\n",
              "    .dataframe tbody tr th:only-of-type {\n",
              "        vertical-align: middle;\n",
              "    }\n",
              "\n",
              "    .dataframe tbody tr th {\n",
              "        vertical-align: top;\n",
              "    }\n",
              "\n",
              "    .dataframe thead th {\n",
              "        text-align: right;\n",
              "    }\n",
              "</style>\n",
              "<table border=\"1\" class=\"dataframe\">\n",
              "  <thead>\n",
              "    <tr style=\"text-align: right;\">\n",
              "      <th></th>\n",
              "      <th>Model</th>\n",
              "      <th>Train_RMSE</th>\n",
              "      <th>Test_RMSE</th>\n",
              "    </tr>\n",
              "  </thead>\n",
              "  <tbody>\n",
              "    <tr>\n",
              "      <th>0</th>\n",
              "      <td>NN PCA</td>\n",
              "      <td>95.738444</td>\n",
              "      <td>105.350529</td>\n",
              "    </tr>\n",
              "    <tr>\n",
              "      <th>1</th>\n",
              "      <td>CatBoost</td>\n",
              "      <td>97.276617</td>\n",
              "      <td>104.860911</td>\n",
              "    </tr>\n",
              "    <tr>\n",
              "      <th>2</th>\n",
              "      <td>XGBoost</td>\n",
              "      <td>45.962177</td>\n",
              "      <td>74.852011</td>\n",
              "    </tr>\n",
              "    <tr>\n",
              "      <th>3</th>\n",
              "      <td>AdaBoost</td>\n",
              "      <td>73.298316</td>\n",
              "      <td>81.012006</td>\n",
              "    </tr>\n",
              "    <tr>\n",
              "      <th>4</th>\n",
              "      <td>SVR</td>\n",
              "      <td>75.394146</td>\n",
              "      <td>80.958904</td>\n",
              "    </tr>\n",
              "    <tr>\n",
              "      <th>5</th>\n",
              "      <td>RF</td>\n",
              "      <td>33.283518</td>\n",
              "      <td>74.438520</td>\n",
              "    </tr>\n",
              "    <tr>\n",
              "      <th>6</th>\n",
              "      <td>Ridge</td>\n",
              "      <td>78.075408</td>\n",
              "      <td>82.870110</td>\n",
              "    </tr>\n",
              "  </tbody>\n",
              "</table>\n",
              "</div>\n",
              "    <div class=\"colab-df-buttons\">\n",
              "\n",
              "  <div class=\"colab-df-container\">\n",
              "    <button class=\"colab-df-convert\" onclick=\"convertToInteractive('df-fb0d28f0-a74c-402f-a068-89b560b162ab')\"\n",
              "            title=\"Convert this dataframe to an interactive table.\"\n",
              "            style=\"display:none;\">\n",
              "\n",
              "  <svg xmlns=\"http://www.w3.org/2000/svg\" height=\"24px\" viewBox=\"0 -960 960 960\">\n",
              "    <path d=\"M120-120v-720h720v720H120Zm60-500h600v-160H180v160Zm220 220h160v-160H400v160Zm0 220h160v-160H400v160ZM180-400h160v-160H180v160Zm440 0h160v-160H620v160ZM180-180h160v-160H180v160Zm440 0h160v-160H620v160Z\"/>\n",
              "  </svg>\n",
              "    </button>\n",
              "\n",
              "  <style>\n",
              "    .colab-df-container {\n",
              "      display:flex;\n",
              "      gap: 12px;\n",
              "    }\n",
              "\n",
              "    .colab-df-convert {\n",
              "      background-color: #E8F0FE;\n",
              "      border: none;\n",
              "      border-radius: 50%;\n",
              "      cursor: pointer;\n",
              "      display: none;\n",
              "      fill: #1967D2;\n",
              "      height: 32px;\n",
              "      padding: 0 0 0 0;\n",
              "      width: 32px;\n",
              "    }\n",
              "\n",
              "    .colab-df-convert:hover {\n",
              "      background-color: #E2EBFA;\n",
              "      box-shadow: 0px 1px 2px rgba(60, 64, 67, 0.3), 0px 1px 3px 1px rgba(60, 64, 67, 0.15);\n",
              "      fill: #174EA6;\n",
              "    }\n",
              "\n",
              "    .colab-df-buttons div {\n",
              "      margin-bottom: 4px;\n",
              "    }\n",
              "\n",
              "    [theme=dark] .colab-df-convert {\n",
              "      background-color: #3B4455;\n",
              "      fill: #D2E3FC;\n",
              "    }\n",
              "\n",
              "    [theme=dark] .colab-df-convert:hover {\n",
              "      background-color: #434B5C;\n",
              "      box-shadow: 0px 1px 3px 1px rgba(0, 0, 0, 0.15);\n",
              "      filter: drop-shadow(0px 1px 2px rgba(0, 0, 0, 0.3));\n",
              "      fill: #FFFFFF;\n",
              "    }\n",
              "  </style>\n",
              "\n",
              "    <script>\n",
              "      const buttonEl =\n",
              "        document.querySelector('#df-fb0d28f0-a74c-402f-a068-89b560b162ab button.colab-df-convert');\n",
              "      buttonEl.style.display =\n",
              "        google.colab.kernel.accessAllowed ? 'block' : 'none';\n",
              "\n",
              "      async function convertToInteractive(key) {\n",
              "        const element = document.querySelector('#df-fb0d28f0-a74c-402f-a068-89b560b162ab');\n",
              "        const dataTable =\n",
              "          await google.colab.kernel.invokeFunction('convertToInteractive',\n",
              "                                                    [key], {});\n",
              "        if (!dataTable) return;\n",
              "\n",
              "        const docLinkHtml = 'Like what you see? Visit the ' +\n",
              "          '<a target=\"_blank\" href=https://colab.research.google.com/notebooks/data_table.ipynb>data table notebook</a>'\n",
              "          + ' to learn more about interactive tables.';\n",
              "        element.innerHTML = '';\n",
              "        dataTable['output_type'] = 'display_data';\n",
              "        await google.colab.output.renderOutput(dataTable, element);\n",
              "        const docLink = document.createElement('div');\n",
              "        docLink.innerHTML = docLinkHtml;\n",
              "        element.appendChild(docLink);\n",
              "      }\n",
              "    </script>\n",
              "  </div>\n",
              "\n",
              "\n",
              "<div id=\"df-5ccef9c0-77de-4ef4-abd9-f2528553ada3\">\n",
              "  <button class=\"colab-df-quickchart\" onclick=\"quickchart('df-5ccef9c0-77de-4ef4-abd9-f2528553ada3')\"\n",
              "            title=\"Suggest charts\"\n",
              "            style=\"display:none;\">\n",
              "\n",
              "<svg xmlns=\"http://www.w3.org/2000/svg\" height=\"24px\"viewBox=\"0 0 24 24\"\n",
              "     width=\"24px\">\n",
              "    <g>\n",
              "        <path d=\"M19 3H5c-1.1 0-2 .9-2 2v14c0 1.1.9 2 2 2h14c1.1 0 2-.9 2-2V5c0-1.1-.9-2-2-2zM9 17H7v-7h2v7zm4 0h-2V7h2v10zm4 0h-2v-4h2v4z\"/>\n",
              "    </g>\n",
              "</svg>\n",
              "  </button>\n",
              "\n",
              "<style>\n",
              "  .colab-df-quickchart {\n",
              "      --bg-color: #E8F0FE;\n",
              "      --fill-color: #1967D2;\n",
              "      --hover-bg-color: #E2EBFA;\n",
              "      --hover-fill-color: #174EA6;\n",
              "      --disabled-fill-color: #AAA;\n",
              "      --disabled-bg-color: #DDD;\n",
              "  }\n",
              "\n",
              "  [theme=dark] .colab-df-quickchart {\n",
              "      --bg-color: #3B4455;\n",
              "      --fill-color: #D2E3FC;\n",
              "      --hover-bg-color: #434B5C;\n",
              "      --hover-fill-color: #FFFFFF;\n",
              "      --disabled-bg-color: #3B4455;\n",
              "      --disabled-fill-color: #666;\n",
              "  }\n",
              "\n",
              "  .colab-df-quickchart {\n",
              "    background-color: var(--bg-color);\n",
              "    border: none;\n",
              "    border-radius: 50%;\n",
              "    cursor: pointer;\n",
              "    display: none;\n",
              "    fill: var(--fill-color);\n",
              "    height: 32px;\n",
              "    padding: 0;\n",
              "    width: 32px;\n",
              "  }\n",
              "\n",
              "  .colab-df-quickchart:hover {\n",
              "    background-color: var(--hover-bg-color);\n",
              "    box-shadow: 0 1px 2px rgba(60, 64, 67, 0.3), 0 1px 3px 1px rgba(60, 64, 67, 0.15);\n",
              "    fill: var(--button-hover-fill-color);\n",
              "  }\n",
              "\n",
              "  .colab-df-quickchart-complete:disabled,\n",
              "  .colab-df-quickchart-complete:disabled:hover {\n",
              "    background-color: var(--disabled-bg-color);\n",
              "    fill: var(--disabled-fill-color);\n",
              "    box-shadow: none;\n",
              "  }\n",
              "\n",
              "  .colab-df-spinner {\n",
              "    border: 2px solid var(--fill-color);\n",
              "    border-color: transparent;\n",
              "    border-bottom-color: var(--fill-color);\n",
              "    animation:\n",
              "      spin 1s steps(1) infinite;\n",
              "  }\n",
              "\n",
              "  @keyframes spin {\n",
              "    0% {\n",
              "      border-color: transparent;\n",
              "      border-bottom-color: var(--fill-color);\n",
              "      border-left-color: var(--fill-color);\n",
              "    }\n",
              "    20% {\n",
              "      border-color: transparent;\n",
              "      border-left-color: var(--fill-color);\n",
              "      border-top-color: var(--fill-color);\n",
              "    }\n",
              "    30% {\n",
              "      border-color: transparent;\n",
              "      border-left-color: var(--fill-color);\n",
              "      border-top-color: var(--fill-color);\n",
              "      border-right-color: var(--fill-color);\n",
              "    }\n",
              "    40% {\n",
              "      border-color: transparent;\n",
              "      border-right-color: var(--fill-color);\n",
              "      border-top-color: var(--fill-color);\n",
              "    }\n",
              "    60% {\n",
              "      border-color: transparent;\n",
              "      border-right-color: var(--fill-color);\n",
              "    }\n",
              "    80% {\n",
              "      border-color: transparent;\n",
              "      border-right-color: var(--fill-color);\n",
              "      border-bottom-color: var(--fill-color);\n",
              "    }\n",
              "    90% {\n",
              "      border-color: transparent;\n",
              "      border-bottom-color: var(--fill-color);\n",
              "    }\n",
              "  }\n",
              "</style>\n",
              "\n",
              "  <script>\n",
              "    async function quickchart(key) {\n",
              "      const quickchartButtonEl =\n",
              "        document.querySelector('#' + key + ' button');\n",
              "      quickchartButtonEl.disabled = true;  // To prevent multiple clicks.\n",
              "      quickchartButtonEl.classList.add('colab-df-spinner');\n",
              "      try {\n",
              "        const charts = await google.colab.kernel.invokeFunction(\n",
              "            'suggestCharts', [key], {});\n",
              "      } catch (error) {\n",
              "        console.error('Error during call to suggestCharts:', error);\n",
              "      }\n",
              "      quickchartButtonEl.classList.remove('colab-df-spinner');\n",
              "      quickchartButtonEl.classList.add('colab-df-quickchart-complete');\n",
              "    }\n",
              "    (() => {\n",
              "      let quickchartButtonEl =\n",
              "        document.querySelector('#df-5ccef9c0-77de-4ef4-abd9-f2528553ada3 button');\n",
              "      quickchartButtonEl.style.display =\n",
              "        google.colab.kernel.accessAllowed ? 'block' : 'none';\n",
              "    })();\n",
              "  </script>\n",
              "</div>\n",
              "\n",
              "  <div id=\"id_6ffccbea-89a4-4f85-9a32-099e0efd7ade\">\n",
              "    <style>\n",
              "      .colab-df-generate {\n",
              "        background-color: #E8F0FE;\n",
              "        border: none;\n",
              "        border-radius: 50%;\n",
              "        cursor: pointer;\n",
              "        display: none;\n",
              "        fill: #1967D2;\n",
              "        height: 32px;\n",
              "        padding: 0 0 0 0;\n",
              "        width: 32px;\n",
              "      }\n",
              "\n",
              "      .colab-df-generate:hover {\n",
              "        background-color: #E2EBFA;\n",
              "        box-shadow: 0px 1px 2px rgba(60, 64, 67, 0.3), 0px 1px 3px 1px rgba(60, 64, 67, 0.15);\n",
              "        fill: #174EA6;\n",
              "      }\n",
              "\n",
              "      [theme=dark] .colab-df-generate {\n",
              "        background-color: #3B4455;\n",
              "        fill: #D2E3FC;\n",
              "      }\n",
              "\n",
              "      [theme=dark] .colab-df-generate:hover {\n",
              "        background-color: #434B5C;\n",
              "        box-shadow: 0px 1px 3px 1px rgba(0, 0, 0, 0.15);\n",
              "        filter: drop-shadow(0px 1px 2px rgba(0, 0, 0, 0.3));\n",
              "        fill: #FFFFFF;\n",
              "      }\n",
              "    </style>\n",
              "    <button class=\"colab-df-generate\" onclick=\"generateWithVariable('df_new')\"\n",
              "            title=\"Generate code using this dataframe.\"\n",
              "            style=\"display:none;\">\n",
              "\n",
              "  <svg xmlns=\"http://www.w3.org/2000/svg\" height=\"24px\"viewBox=\"0 0 24 24\"\n",
              "       width=\"24px\">\n",
              "    <path d=\"M7,19H8.4L18.45,9,17,7.55,7,17.6ZM5,21V16.75L18.45,3.32a2,2,0,0,1,2.83,0l1.4,1.43a1.91,1.91,0,0,1,.58,1.4,1.91,1.91,0,0,1-.58,1.4L9.25,21ZM18.45,9,17,7.55Zm-12,3A5.31,5.31,0,0,0,4.9,8.1,5.31,5.31,0,0,0,1,6.5,5.31,5.31,0,0,0,4.9,4.9,5.31,5.31,0,0,0,6.5,1,5.31,5.31,0,0,0,8.1,4.9,5.31,5.31,0,0,0,12,6.5,5.46,5.46,0,0,0,6.5,12Z\"/>\n",
              "  </svg>\n",
              "    </button>\n",
              "    <script>\n",
              "      (() => {\n",
              "      const buttonEl =\n",
              "        document.querySelector('#id_6ffccbea-89a4-4f85-9a32-099e0efd7ade button.colab-df-generate');\n",
              "      buttonEl.style.display =\n",
              "        google.colab.kernel.accessAllowed ? 'block' : 'none';\n",
              "\n",
              "      buttonEl.onclick = () => {\n",
              "        google.colab.notebook.generateWithVariable('df_new');\n",
              "      }\n",
              "      })();\n",
              "    </script>\n",
              "  </div>\n",
              "\n",
              "    </div>\n",
              "  </div>\n"
            ],
            "application/vnd.google.colaboratory.intrinsic+json": {
              "type": "dataframe",
              "variable_name": "df_new",
              "summary": "{\n  \"name\": \"df_new\",\n  \"rows\": 7,\n  \"fields\": [\n    {\n      \"column\": \"Model\",\n      \"properties\": {\n        \"dtype\": \"string\",\n        \"num_unique_values\": 7,\n        \"samples\": [\n          \"NN PCA\",\n          \"CatBoost\",\n          \"RF\"\n        ],\n        \"semantic_type\": \"\",\n        \"description\": \"\"\n      }\n    },\n    {\n      \"column\": \"Train_RMSE\",\n      \"properties\": {\n        \"dtype\": \"number\",\n        \"std\": 23.89540087075947,\n        \"min\": 33.283517567344916,\n        \"max\": 97.27661708102175,\n        \"num_unique_values\": 7,\n        \"samples\": [\n          95.73844376577031,\n          97.27661708102175,\n          33.283517567344916\n        ],\n        \"semantic_type\": \"\",\n        \"description\": \"\"\n      }\n    },\n    {\n      \"column\": \"Test_RMSE\",\n      \"properties\": {\n        \"dtype\": \"number\",\n        \"std\": 13.212539037424747,\n        \"min\": 74.43852040697696,\n        \"max\": 105.35052869587552,\n        \"num_unique_values\": 7,\n        \"samples\": [\n          105.35052869587552,\n          104.8609110313323,\n          74.43852040697696\n        ],\n        \"semantic_type\": \"\",\n        \"description\": \"\"\n      }\n    }\n  ]\n}"
            }
          },
          "metadata": {},
          "execution_count": 1
        }
      ]
    }
  ]
}